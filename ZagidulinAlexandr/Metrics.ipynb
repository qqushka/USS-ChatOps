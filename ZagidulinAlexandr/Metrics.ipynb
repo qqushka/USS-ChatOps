{
  "nbformat": 4,
  "nbformat_minor": 0,
  "metadata": {
    "colab": {
      "provenance": [],
      "collapsed_sections": [
        "uOYsgdXdsZKx"
      ]
    },
    "kernelspec": {
      "name": "python3",
      "display_name": "Python 3"
    },
    "language_info": {
      "name": "python"
    }
  },
  "cells": [
    {
      "cell_type": "markdown",
      "source": [
        "#Исходный код RAG'a"
      ],
      "metadata": {
        "id": "4pNwWnjhvudg"
      }
    },
    {
      "cell_type": "code",
      "execution_count": 1,
      "metadata": {
        "id": "2VWaBuHfOzb7"
      },
      "outputs": [],
      "source": [
        "#Сам добовлял устанавливаемые библиотеки для рассчета метрик\n",
        "!pip install gigachain -q\n",
        "!pip install sentence-transformers -q\n",
        "!pip install faiss-cpu -q\n",
        "!pip install gigachain_community -q\n",
        "!pip install gigachain-core -q\n",
        "!pip install pypdf -q\n",
        "!pip install nltk -q\n",
        "!pip install rouge-score -q\n",
        "!pip install transformers datasets -q\n",
        "!pip install torchmetrics -q"
      ]
    },
    {
      "cell_type": "code",
      "source": [
        "from getpass import getpass\n",
        "from langchain.chat_models import GigaChat"
      ],
      "metadata": {
        "id": "U1D5nkZkO62m"
      },
      "execution_count": 2,
      "outputs": []
    },
    {
      "cell_type": "code",
      "source": [
        "gigachat_api_key = getpass(prompt='Введите API ключ от GigaChat')"
      ],
      "metadata": {
        "id": "3OndaXvWPeBe",
        "colab": {
          "base_uri": "https://localhost:8080/"
        },
        "outputId": "2d02fc25-6b37-45e9-ac5d-4bd8a9d74398"
      },
      "execution_count": 3,
      "outputs": [
        {
          "name": "stdout",
          "output_type": "stream",
          "text": [
            "Введите API ключ от GigaChat··········\n"
          ]
        }
      ]
    },
    {
      "cell_type": "code",
      "source": [
        "# Инициализируем языковую модель GigaChat\n",
        "# verify_ssl_certs=False – без использования сертификатов Минцифры\n",
        "llm = GigaChat(credentials=gigachat_api_key, verify_ssl_certs=False, temperature=0.01)"
      ],
      "metadata": {
        "id": "_Vcp2Cp-Pjpo"
      },
      "execution_count": 4,
      "outputs": []
    },
    {
      "cell_type": "code",
      "source": [
        "from langchain.document_loaders import TextLoader\n",
        "from langchain.text_splitter import (\n",
        "    RecursiveCharacterTextSplitter,\n",
        ")"
      ],
      "metadata": {
        "id": "PBVOvlT_R13A"
      },
      "execution_count": 5,
      "outputs": []
    },
    {
      "cell_type": "code",
      "source": [
        "# Список путей к документам с ответами на вопросы\n",
        "document_paths_new = [\n",
        "    \"8).pdf\",\n",
        "    \"18).pdf\",\n",
        "    \"24).pdf\",\n",
        "    \"25).pdf\",\n",
        "    \"28).pdf\"\n",
        "]"
      ],
      "metadata": {
        "id": "zwkZ9OENZs-F"
      },
      "execution_count": 6,
      "outputs": []
    },
    {
      "cell_type": "code",
      "source": [
        "# Загрузка всех документов\n",
        "from langchain_community.document_loaders import PyPDFLoader\n",
        "documents = []\n",
        "for path in document_paths_new:\n",
        "    loader = PyPDFLoader(path)\n",
        "    documents.extend(loader.load())"
      ],
      "metadata": {
        "id": "CwtfFAMZR-cO"
      },
      "execution_count": 7,
      "outputs": []
    },
    {
      "cell_type": "code",
      "source": [
        "# Разделение текста на части\n",
        "text_splitter = RecursiveCharacterTextSplitter(\n",
        "    chunk_size=1000,\n",
        "    chunk_overlap=200,\n",
        ")\n",
        "split_docs = text_splitter.split_documents(documents)\n",
        "print(f\"Total documents: {len(split_docs)}\")"
      ],
      "metadata": {
        "id": "TE3VlqMISDTV",
        "colab": {
          "base_uri": "https://localhost:8080/"
        },
        "outputId": "76eff545-e519-4edf-c6a6-2274beffb55e"
      },
      "execution_count": 8,
      "outputs": [
        {
          "output_type": "stream",
          "name": "stdout",
          "text": [
            "Total documents: 219\n"
          ]
        }
      ]
    },
    {
      "cell_type": "code",
      "source": [
        "from langchain_community.embeddings import HuggingFaceEmbeddings\n",
        "from langchain_community.vectorstores import FAISS"
      ],
      "metadata": {
        "id": "VE4DX_2ZSHmg"
      },
      "execution_count": 9,
      "outputs": []
    },
    {
      "cell_type": "code",
      "source": [
        "# Если у вас нет видеокарты, укажите 'device': 'cpu'\n",
        "hf_embeddings_model = HuggingFaceEmbeddings(\n",
        "        model_name=\"cointegrated/LaBSE-en-ru\"\n",
        "    )\n",
        "\n",
        "# Создаем FAISS индекс (базу векторов) с полученными эмбеддингами\n",
        "db = FAISS.from_documents(split_docs, hf_embeddings_model)"
      ],
      "metadata": {
        "id": "KNxhfE9kSIyv",
        "colab": {
          "base_uri": "https://localhost:8080/"
        },
        "outputId": "1909a592-297a-4038-cd75-56bb7db97c4c"
      },
      "execution_count": 10,
      "outputs": [
        {
          "output_type": "stream",
          "name": "stderr",
          "text": [
            "/usr/local/lib/python3.10/dist-packages/langchain_core/_api/deprecation.py:139: LangChainDeprecationWarning: The class `HuggingFaceEmbeddings` was deprecated in LangChain 0.2.2 and will be removed in 0.3.0. An updated version of the class exists in the langchain-huggingface package and should be used instead. To use it run `pip install -U langchain-huggingface` and import as `from langchain_huggingface import HuggingFaceEmbeddings`.\n",
            "  warn_deprecated(\n",
            "/usr/local/lib/python3.10/dist-packages/sentence_transformers/cross_encoder/CrossEncoder.py:11: TqdmExperimentalWarning: Using `tqdm.autonotebook.tqdm` in notebook mode. Use `tqdm.tqdm` instead to force console mode (e.g. in jupyter console)\n",
            "  from tqdm.autonotebook import tqdm, trange\n",
            "/usr/local/lib/python3.10/dist-packages/huggingface_hub/utils/_token.py:89: UserWarning: \n",
            "The secret `HF_TOKEN` does not exist in your Colab secrets.\n",
            "To authenticate with the Hugging Face Hub, create a token in your settings tab (https://huggingface.co/settings/tokens), set it as secret in your Google Colab and restart your session.\n",
            "You will be able to reuse this secret in all of your notebooks.\n",
            "Please note that authentication is recommended but still optional to access public models or datasets.\n",
            "  warnings.warn(\n"
          ]
        }
      ]
    },
    {
      "cell_type": "markdown",
      "source": [
        "##Создание списков вопросов и ответов данных и сгенерированных LLM"
      ],
      "metadata": {
        "id": "5op7ik-YvGWR"
      }
    },
    {
      "cell_type": "code",
      "source": [
        "from langchain.chains import RetrievalQA"
      ],
      "metadata": {
        "id": "pwWiblSjSOhl"
      },
      "execution_count": 11,
      "outputs": []
    },
    {
      "cell_type": "code",
      "source": [
        "qa_chain = RetrievalQA.from_chain_type(llm, retriever=db.as_retriever())"
      ],
      "metadata": {
        "id": "ayuim02fSQlE"
      },
      "execution_count": 12,
      "outputs": []
    },
    {
      "cell_type": "code",
      "source": [
        "message = []\n",
        "for e in questions:\n",
        "    message.append(qa_chain({\"query\": e})['result'])"
      ],
      "metadata": {
        "id": "z4u4S_K8x91A",
        "colab": {
          "base_uri": "https://localhost:8080/"
        },
        "outputId": "6887c540-e92e-4147-9302-d4d9153c0efb"
      },
      "execution_count": 16,
      "outputs": [
        {
          "output_type": "stream",
          "name": "stderr",
          "text": [
            "/usr/local/lib/python3.10/dist-packages/langchain_core/_api/deprecation.py:139: LangChainDeprecationWarning: The method `Chain.__call__` was deprecated in langchain 0.1.0 and will be removed in 0.3.0. Use invoke instead.\n",
            "  warn_deprecated(\n"
          ]
        }
      ]
    },
    {
      "cell_type": "code",
      "source": [
        "import pandas as pd"
      ],
      "metadata": {
        "id": "QEarniOvvMQi"
      },
      "execution_count": 13,
      "outputs": []
    },
    {
      "cell_type": "code",
      "source": [
        "questions_df = pd.read_excel(\"q_data.xlsx\", nrows=3).Question\n",
        "answers_df = pd.read_excel(\"q_data.xlsx\", nrows=3).Answer"
      ],
      "metadata": {
        "id": "ZAg8poA9wNJ2"
      },
      "execution_count": 14,
      "outputs": []
    },
    {
      "cell_type": "code",
      "source": [
        "answers = []\n",
        "for e in answers_df:\n",
        "  answers.append(e)\n",
        "\n",
        "questions = []\n",
        "for e in questions_df:\n",
        "  questions.append(e)"
      ],
      "metadata": {
        "id": "JPainw-Q_y1A"
      },
      "execution_count": 15,
      "outputs": []
    },
    {
      "cell_type": "markdown",
      "source": [
        "#BLEUMetric"
      ],
      "metadata": {
        "id": "r_Nym2tRvDnT"
      }
    },
    {
      "cell_type": "markdown",
      "source": [
        "Вторая попытка реализации (Удачная)"
      ],
      "metadata": {
        "id": "xc3prexJfMlS"
      }
    },
    {
      "cell_type": "code",
      "source": [
        "#Попытался написать функцию, что то не работает, скорее всего из-за ссылок, но тратить время не решение проблемы не стал\n",
        "#def qwer(text):\n",
        "#  res = []\n",
        "#  for e in range(len(text)):\n",
        "#    res.append(text[e].split)\n",
        "#  return res"
      ],
      "metadata": {
        "id": "le9bP0CyJ68z"
      },
      "execution_count": null,
      "outputs": []
    },
    {
      "cell_type": "code",
      "source": [
        "#Импортируем функцию вычисления BLEU\n",
        "from nltk.translate.bleu_score import corpus_bleu\n",
        "\n",
        "#Подготовка данных в необходимую форму для вычесления метрики BLEU (приведение к токенизированному виду)\n",
        "translations = []\n",
        "for e in range(len(answers)):\n",
        "  translations.append(answers[e].split())\n",
        "\n",
        "#Оборачиваем ответы в необходимую форму для вычесления метрики BLEU\n",
        "references = [[[ref]] for ref in message]\n",
        "\n",
        "#Костыльное решение, такое, чтобы привелось в необходумую форму\n",
        "references_list = []\n",
        "i = 0\n",
        "for e in range(len(references)):\n",
        "  references_list.append([])\n",
        "  references_list[i].append(references[e][0][0].split())\n",
        "  i = i + 1\n",
        "\n",
        "#Вычисляем BLEU Score\n",
        "bleu_score_corpus = corpus_bleu(references_list, translations)\n",
        "print(\"Corpus BLEU Score: \", bleu_score_corpus)"
      ],
      "metadata": {
        "id": "o2b14fUYypzW",
        "colab": {
          "base_uri": "https://localhost:8080/"
        },
        "outputId": "13a2a8e6-cb4d-456a-8cca-7eabe0258206"
      },
      "execution_count": 17,
      "outputs": [
        {
          "output_type": "stream",
          "name": "stdout",
          "text": [
            "Corpus BLEU Score:  3.151166241307109e-79\n"
          ]
        },
        {
          "output_type": "stream",
          "name": "stderr",
          "text": [
            "/usr/local/lib/python3.10/dist-packages/nltk/translate/bleu_score.py:552: UserWarning: \n",
            "The hypothesis contains 0 counts of 4-gram overlaps.\n",
            "Therefore the BLEU score evaluates to 0, independently of\n",
            "how many N-gram overlaps of lower order it contains.\n",
            "Consider using lower n-gram order or use SmoothingFunction()\n",
            "  warnings.warn(_msg)\n"
          ]
        }
      ]
    },
    {
      "cell_type": "code",
      "source": [
        "#Откуда взят код\n",
        "references = [['I', 'love', 'eating', 'ice', 'cream'], ['He', 'enjoys', 'eating', 'cake']]\n",
        "translations = [['I', 'love', 'eating', 'ice', 'cream'], ['He', 'likes', 'to', 'eat', 'cake']]\n",
        "\n",
        "# Create a list of reference lists\n",
        "references_list = [[ref] for ref in references]\n",
        "\n",
        "#Вычисляем BLEU Score\n",
        "bleu_score_corpus = corpus_bleu(references_list, translations)\n",
        "print(\"Corpus BLEU Score: \", bleu_score_corpus)"
      ],
      "metadata": {
        "colab": {
          "base_uri": "https://localhost:8080/"
        },
        "id": "SetniIL9vNcn",
        "outputId": "85e7b2a9-c088-4e86-ee05-583cd6d5eeba"
      },
      "execution_count": 18,
      "outputs": [
        {
          "output_type": "stream",
          "name": "stdout",
          "text": [
            "Corpus BLEU Score:  0.5438786529686386\n"
          ]
        }
      ]
    },
    {
      "cell_type": "markdown",
      "source": [
        "#ROUGE"
      ],
      "metadata": {
        "id": "qT9jmOEX0ilf"
      }
    },
    {
      "cell_type": "code",
      "source": [
        "from rouge_score import rouge_scorer"
      ],
      "metadata": {
        "id": "GqkYq4Kx0um5"
      },
      "execution_count": 19,
      "outputs": []
    },
    {
      "cell_type": "code",
      "source": [
        "r_scorer = rouge_scorer.RougeScorer(['rouge1', 'rouge2', 'rougeL'], use_stemmer=True)"
      ],
      "metadata": {
        "id": "JdbDUmeR0xQO"
      },
      "execution_count": 20,
      "outputs": []
    },
    {
      "cell_type": "markdown",
      "source": [
        "rougeL, другой компонент оценки ROUGE, вычисляет самую длинную общую подпоследовательность (LCS) между системными и справочными сводками. В отличие от N-грамм, LCS измеряет максимальную последовательность слов (не обязательно смежных), которые появляются в обоих сводках. Он предлагает более гибкую меру сходства и помогает фиксировать общую информацию, выходящую за рамки строгих дословных совпадений.\n",
        "\n",
        "Не разобрался, какой из rouge1, rouge2 является N, а какой S\n",
        "\n",
        "ROUGE-N - это компонент оценки ROUGE, который количественно определяет перекрытие N-граммов, непрерывных последовательностей из N элементов (обычно слов или символов), между сгенерированной системой сводкой и справочной сводкой. Он дает представление о точности и повторяемости выходных данных системы, учитывая совпадающие N-граммовые последовательности.\n",
        "\n",
        "ROUGE-S фокусируется на пропуск-биграммах. Пропуск-биграмма - это пара слов в предложении, которая допускает пробелы или слова между ними. Этот компонент определяет перекрытие пропусков и биграмм между системным и справочным резюме, позволяя оценить сходство структуры на уровне предложений. Он может фиксировать перефразирующие связи между предложениями и давать представление о способности системы передавать информацию с гибким порядком слов."
      ],
      "metadata": {
        "id": "fJPbubjz1JgF"
      }
    },
    {
      "cell_type": "code",
      "source": [
        "#Код, на который опирался\n",
        "candidate_summary = \"the cat was found under the bed\"\n",
        "reference_summary = \"the cat was under the bed\"\n",
        "r_scores = r_scorer.score(reference_summary, candidate_summary)\n",
        "for key in r_scores:\n",
        "    print(f'{key}: {r_scores[key]}')\n",
        "r_scores['rouge1']"
      ],
      "metadata": {
        "colab": {
          "base_uri": "https://localhost:8080/"
        },
        "id": "W0kdkMYn1e9P",
        "outputId": "ea3c1c4d-15e0-4b6c-f9c4-fefe04e8d852"
      },
      "execution_count": 78,
      "outputs": [
        {
          "output_type": "stream",
          "name": "stdout",
          "text": [
            "rouge1: Score(precision=0.8571428571428571, recall=1.0, fmeasure=0.923076923076923)\n",
            "rouge2: Score(precision=0.6666666666666666, recall=0.8, fmeasure=0.7272727272727272)\n",
            "rougeL: Score(precision=0.8571428571428571, recall=1.0, fmeasure=0.923076923076923)\n"
          ]
        },
        {
          "output_type": "execute_result",
          "data": {
            "text/plain": [
              "Score(precision=0.8571428571428571, recall=1.0, fmeasure=0.923076923076923)"
            ]
          },
          "metadata": {},
          "execution_count": 78
        }
      ]
    },
    {
      "cell_type": "code",
      "source": [
        "df = pd.DataFrame(columns=['Question', 'Answer', 'LLM_Answer', 'rouge1', 'rouge2', 'rougeL'])\n",
        "for e in range(len(questions)):\n",
        "  candidate_summary = message[e]\n",
        "  reference_summary = answers[e]\n",
        "  r_scores = r_scorer.score(reference_summary, candidate_summary)\n",
        "  new_row = {'Question': questions[e], 'Answer': answers[e], 'LLM_Answer': message[e], 'rouge1': r_scores['rouge1'], 'rouge2': r_scores['rouge2'], 'rougeL': r_scores['rougeL']}\n",
        "  df = pd.concat([df, pd.DataFrame([new_row])], ignore_index=True)"
      ],
      "metadata": {
        "id": "Qul5IZRK4HTG"
      },
      "execution_count": 21,
      "outputs": []
    },
    {
      "cell_type": "code",
      "source": [
        "df"
      ],
      "metadata": {
        "colab": {
          "base_uri": "https://localhost:8080/",
          "height": 143
        },
        "id": "OAyEcWAF4Plh",
        "outputId": "a4c09271-5d6b-44dc-817a-4ac09a032817"
      },
      "execution_count": 22,
      "outputs": [
        {
          "output_type": "execute_result",
          "data": {
            "text/plain": [
              "                                            Question  \\\n",
              "0  СБ ЗОКИИ: какие ограничения существуют по допу...   \n",
              "1  Серия вебинаров: моделирование угроз должно вы...   \n",
              "2  СБ ЗОКИИ: допускается ли использовать функции ...   \n",
              "\n",
              "                                              Answer  \\\n",
              "0  прямые ограничения по допуску иностранных граж...   \n",
              "1  первичное моделирование угроз безопасности инф...   \n",
              "2  да, допускается, однако в отношении используем...   \n",
              "\n",
              "                                          LLM_Answer           rouge1  \\\n",
              "0  В значимом объекте не допускается наличие удал...  (0.0, 0.0, 0.0)   \n",
              "1  Моделирование угроз должно выполняться до разр...  (0.0, 0.0, 0.0)   \n",
              "2                                            Не знаю  (0.0, 0.0, 0.0)   \n",
              "\n",
              "            rouge2     rougeL  \n",
              "0  (0.0, 0.0, 0.0)  (0, 0, 0)  \n",
              "1  (0.0, 0.0, 0.0)  (0, 0, 0)  \n",
              "2  (0.0, 0.0, 0.0)  (0, 0, 0)  "
            ],
            "text/html": [
              "\n",
              "  <div id=\"df-50413bef-923d-4750-ae5c-3085c2cc0984\" class=\"colab-df-container\">\n",
              "    <div>\n",
              "<style scoped>\n",
              "    .dataframe tbody tr th:only-of-type {\n",
              "        vertical-align: middle;\n",
              "    }\n",
              "\n",
              "    .dataframe tbody tr th {\n",
              "        vertical-align: top;\n",
              "    }\n",
              "\n",
              "    .dataframe thead th {\n",
              "        text-align: right;\n",
              "    }\n",
              "</style>\n",
              "<table border=\"1\" class=\"dataframe\">\n",
              "  <thead>\n",
              "    <tr style=\"text-align: right;\">\n",
              "      <th></th>\n",
              "      <th>Question</th>\n",
              "      <th>Answer</th>\n",
              "      <th>LLM_Answer</th>\n",
              "      <th>rouge1</th>\n",
              "      <th>rouge2</th>\n",
              "      <th>rougeL</th>\n",
              "    </tr>\n",
              "  </thead>\n",
              "  <tbody>\n",
              "    <tr>\n",
              "      <th>0</th>\n",
              "      <td>СБ ЗОКИИ: какие ограничения существуют по допу...</td>\n",
              "      <td>прямые ограничения по допуску иностранных граж...</td>\n",
              "      <td>В значимом объекте не допускается наличие удал...</td>\n",
              "      <td>(0.0, 0.0, 0.0)</td>\n",
              "      <td>(0.0, 0.0, 0.0)</td>\n",
              "      <td>(0, 0, 0)</td>\n",
              "    </tr>\n",
              "    <tr>\n",
              "      <th>1</th>\n",
              "      <td>Серия вебинаров: моделирование угроз должно вы...</td>\n",
              "      <td>первичное моделирование угроз безопасности инф...</td>\n",
              "      <td>Моделирование угроз должно выполняться до разр...</td>\n",
              "      <td>(0.0, 0.0, 0.0)</td>\n",
              "      <td>(0.0, 0.0, 0.0)</td>\n",
              "      <td>(0, 0, 0)</td>\n",
              "    </tr>\n",
              "    <tr>\n",
              "      <th>2</th>\n",
              "      <td>СБ ЗОКИИ: допускается ли использовать функции ...</td>\n",
              "      <td>да, допускается, однако в отношении используем...</td>\n",
              "      <td>Не знаю</td>\n",
              "      <td>(0.0, 0.0, 0.0)</td>\n",
              "      <td>(0.0, 0.0, 0.0)</td>\n",
              "      <td>(0, 0, 0)</td>\n",
              "    </tr>\n",
              "  </tbody>\n",
              "</table>\n",
              "</div>\n",
              "    <div class=\"colab-df-buttons\">\n",
              "\n",
              "  <div class=\"colab-df-container\">\n",
              "    <button class=\"colab-df-convert\" onclick=\"convertToInteractive('df-50413bef-923d-4750-ae5c-3085c2cc0984')\"\n",
              "            title=\"Convert this dataframe to an interactive table.\"\n",
              "            style=\"display:none;\">\n",
              "\n",
              "  <svg xmlns=\"http://www.w3.org/2000/svg\" height=\"24px\" viewBox=\"0 -960 960 960\">\n",
              "    <path d=\"M120-120v-720h720v720H120Zm60-500h600v-160H180v160Zm220 220h160v-160H400v160Zm0 220h160v-160H400v160ZM180-400h160v-160H180v160Zm440 0h160v-160H620v160ZM180-180h160v-160H180v160Zm440 0h160v-160H620v160Z\"/>\n",
              "  </svg>\n",
              "    </button>\n",
              "\n",
              "  <style>\n",
              "    .colab-df-container {\n",
              "      display:flex;\n",
              "      gap: 12px;\n",
              "    }\n",
              "\n",
              "    .colab-df-convert {\n",
              "      background-color: #E8F0FE;\n",
              "      border: none;\n",
              "      border-radius: 50%;\n",
              "      cursor: pointer;\n",
              "      display: none;\n",
              "      fill: #1967D2;\n",
              "      height: 32px;\n",
              "      padding: 0 0 0 0;\n",
              "      width: 32px;\n",
              "    }\n",
              "\n",
              "    .colab-df-convert:hover {\n",
              "      background-color: #E2EBFA;\n",
              "      box-shadow: 0px 1px 2px rgba(60, 64, 67, 0.3), 0px 1px 3px 1px rgba(60, 64, 67, 0.15);\n",
              "      fill: #174EA6;\n",
              "    }\n",
              "\n",
              "    .colab-df-buttons div {\n",
              "      margin-bottom: 4px;\n",
              "    }\n",
              "\n",
              "    [theme=dark] .colab-df-convert {\n",
              "      background-color: #3B4455;\n",
              "      fill: #D2E3FC;\n",
              "    }\n",
              "\n",
              "    [theme=dark] .colab-df-convert:hover {\n",
              "      background-color: #434B5C;\n",
              "      box-shadow: 0px 1px 3px 1px rgba(0, 0, 0, 0.15);\n",
              "      filter: drop-shadow(0px 1px 2px rgba(0, 0, 0, 0.3));\n",
              "      fill: #FFFFFF;\n",
              "    }\n",
              "  </style>\n",
              "\n",
              "    <script>\n",
              "      const buttonEl =\n",
              "        document.querySelector('#df-50413bef-923d-4750-ae5c-3085c2cc0984 button.colab-df-convert');\n",
              "      buttonEl.style.display =\n",
              "        google.colab.kernel.accessAllowed ? 'block' : 'none';\n",
              "\n",
              "      async function convertToInteractive(key) {\n",
              "        const element = document.querySelector('#df-50413bef-923d-4750-ae5c-3085c2cc0984');\n",
              "        const dataTable =\n",
              "          await google.colab.kernel.invokeFunction('convertToInteractive',\n",
              "                                                    [key], {});\n",
              "        if (!dataTable) return;\n",
              "\n",
              "        const docLinkHtml = 'Like what you see? Visit the ' +\n",
              "          '<a target=\"_blank\" href=https://colab.research.google.com/notebooks/data_table.ipynb>data table notebook</a>'\n",
              "          + ' to learn more about interactive tables.';\n",
              "        element.innerHTML = '';\n",
              "        dataTable['output_type'] = 'display_data';\n",
              "        await google.colab.output.renderOutput(dataTable, element);\n",
              "        const docLink = document.createElement('div');\n",
              "        docLink.innerHTML = docLinkHtml;\n",
              "        element.appendChild(docLink);\n",
              "      }\n",
              "    </script>\n",
              "  </div>\n",
              "\n",
              "\n",
              "<div id=\"df-2233d3d8-bb18-457b-a205-da7d20d97e24\">\n",
              "  <button class=\"colab-df-quickchart\" onclick=\"quickchart('df-2233d3d8-bb18-457b-a205-da7d20d97e24')\"\n",
              "            title=\"Suggest charts\"\n",
              "            style=\"display:none;\">\n",
              "\n",
              "<svg xmlns=\"http://www.w3.org/2000/svg\" height=\"24px\"viewBox=\"0 0 24 24\"\n",
              "     width=\"24px\">\n",
              "    <g>\n",
              "        <path d=\"M19 3H5c-1.1 0-2 .9-2 2v14c0 1.1.9 2 2 2h14c1.1 0 2-.9 2-2V5c0-1.1-.9-2-2-2zM9 17H7v-7h2v7zm4 0h-2V7h2v10zm4 0h-2v-4h2v4z\"/>\n",
              "    </g>\n",
              "</svg>\n",
              "  </button>\n",
              "\n",
              "<style>\n",
              "  .colab-df-quickchart {\n",
              "      --bg-color: #E8F0FE;\n",
              "      --fill-color: #1967D2;\n",
              "      --hover-bg-color: #E2EBFA;\n",
              "      --hover-fill-color: #174EA6;\n",
              "      --disabled-fill-color: #AAA;\n",
              "      --disabled-bg-color: #DDD;\n",
              "  }\n",
              "\n",
              "  [theme=dark] .colab-df-quickchart {\n",
              "      --bg-color: #3B4455;\n",
              "      --fill-color: #D2E3FC;\n",
              "      --hover-bg-color: #434B5C;\n",
              "      --hover-fill-color: #FFFFFF;\n",
              "      --disabled-bg-color: #3B4455;\n",
              "      --disabled-fill-color: #666;\n",
              "  }\n",
              "\n",
              "  .colab-df-quickchart {\n",
              "    background-color: var(--bg-color);\n",
              "    border: none;\n",
              "    border-radius: 50%;\n",
              "    cursor: pointer;\n",
              "    display: none;\n",
              "    fill: var(--fill-color);\n",
              "    height: 32px;\n",
              "    padding: 0;\n",
              "    width: 32px;\n",
              "  }\n",
              "\n",
              "  .colab-df-quickchart:hover {\n",
              "    background-color: var(--hover-bg-color);\n",
              "    box-shadow: 0 1px 2px rgba(60, 64, 67, 0.3), 0 1px 3px 1px rgba(60, 64, 67, 0.15);\n",
              "    fill: var(--button-hover-fill-color);\n",
              "  }\n",
              "\n",
              "  .colab-df-quickchart-complete:disabled,\n",
              "  .colab-df-quickchart-complete:disabled:hover {\n",
              "    background-color: var(--disabled-bg-color);\n",
              "    fill: var(--disabled-fill-color);\n",
              "    box-shadow: none;\n",
              "  }\n",
              "\n",
              "  .colab-df-spinner {\n",
              "    border: 2px solid var(--fill-color);\n",
              "    border-color: transparent;\n",
              "    border-bottom-color: var(--fill-color);\n",
              "    animation:\n",
              "      spin 1s steps(1) infinite;\n",
              "  }\n",
              "\n",
              "  @keyframes spin {\n",
              "    0% {\n",
              "      border-color: transparent;\n",
              "      border-bottom-color: var(--fill-color);\n",
              "      border-left-color: var(--fill-color);\n",
              "    }\n",
              "    20% {\n",
              "      border-color: transparent;\n",
              "      border-left-color: var(--fill-color);\n",
              "      border-top-color: var(--fill-color);\n",
              "    }\n",
              "    30% {\n",
              "      border-color: transparent;\n",
              "      border-left-color: var(--fill-color);\n",
              "      border-top-color: var(--fill-color);\n",
              "      border-right-color: var(--fill-color);\n",
              "    }\n",
              "    40% {\n",
              "      border-color: transparent;\n",
              "      border-right-color: var(--fill-color);\n",
              "      border-top-color: var(--fill-color);\n",
              "    }\n",
              "    60% {\n",
              "      border-color: transparent;\n",
              "      border-right-color: var(--fill-color);\n",
              "    }\n",
              "    80% {\n",
              "      border-color: transparent;\n",
              "      border-right-color: var(--fill-color);\n",
              "      border-bottom-color: var(--fill-color);\n",
              "    }\n",
              "    90% {\n",
              "      border-color: transparent;\n",
              "      border-bottom-color: var(--fill-color);\n",
              "    }\n",
              "  }\n",
              "</style>\n",
              "\n",
              "  <script>\n",
              "    async function quickchart(key) {\n",
              "      const quickchartButtonEl =\n",
              "        document.querySelector('#' + key + ' button');\n",
              "      quickchartButtonEl.disabled = true;  // To prevent multiple clicks.\n",
              "      quickchartButtonEl.classList.add('colab-df-spinner');\n",
              "      try {\n",
              "        const charts = await google.colab.kernel.invokeFunction(\n",
              "            'suggestCharts', [key], {});\n",
              "      } catch (error) {\n",
              "        console.error('Error during call to suggestCharts:', error);\n",
              "      }\n",
              "      quickchartButtonEl.classList.remove('colab-df-spinner');\n",
              "      quickchartButtonEl.classList.add('colab-df-quickchart-complete');\n",
              "    }\n",
              "    (() => {\n",
              "      let quickchartButtonEl =\n",
              "        document.querySelector('#df-2233d3d8-bb18-457b-a205-da7d20d97e24 button');\n",
              "      quickchartButtonEl.style.display =\n",
              "        google.colab.kernel.accessAllowed ? 'block' : 'none';\n",
              "    })();\n",
              "  </script>\n",
              "</div>\n",
              "    </div>\n",
              "  </div>\n"
            ],
            "application/vnd.google.colaboratory.intrinsic+json": {
              "type": "dataframe",
              "variable_name": "df",
              "summary": "{\n  \"name\": \"df\",\n  \"rows\": 3,\n  \"fields\": [\n    {\n      \"column\": \"Question\",\n      \"properties\": {\n        \"dtype\": \"string\",\n        \"num_unique_values\": 3,\n        \"samples\": [\n          \"\\u0421\\u0411 \\u0417\\u041e\\u041a\\u0418\\u0418: \\u043a\\u0430\\u043a\\u0438\\u0435 \\u043e\\u0433\\u0440\\u0430\\u043d\\u0438\\u0447\\u0435\\u043d\\u0438\\u044f \\u0441\\u0443\\u0449\\u0435\\u0441\\u0442\\u0432\\u0443\\u044e\\u0442 \\u043f\\u043e \\u0434\\u043e\\u043f\\u0443\\u0441\\u043a\\u0443 \\u0438\\u043d\\u043e\\u0441\\u0442\\u0440\\u0430\\u043d\\u043d\\u043e\\u0433\\u043e \\u0433\\u0440\\u0430\\u0436\\u0434\\u0430\\u043d\\u0438\\u043d\\u0430 \\u043a \\u044d\\u043a\\u0441\\u043f\\u043b\\u0443\\u0430\\u0442\\u0430\\u0446\\u0438\\u0438 \\u0438\\u043b\\u0438 \\u043e\\u0431\\u0441\\u043b\\u0443\\u0436\\u0438\\u0432\\u0430\\u043d\\u0438\\u044e \\u0437\\u043d\\u0430\\u0447\\u0438\\u043c\\u043e\\u0433\\u043e \\u043e\\u0431\\u044a\\u0435\\u043a\\u0442\\u0430 \\u041a\\u0418\\u0418?\",\n          \"\\u0421\\u0435\\u0440\\u0438\\u044f \\u0432\\u0435\\u0431\\u0438\\u043d\\u0430\\u0440\\u043e\\u0432: \\u043c\\u043e\\u0434\\u0435\\u043b\\u0438\\u0440\\u043e\\u0432\\u0430\\u043d\\u0438\\u0435 \\u0443\\u0433\\u0440\\u043e\\u0437 \\u0434\\u043e\\u043b\\u0436\\u043d\\u043e \\u0432\\u044b\\u043f\\u043e\\u043b\\u043d\\u044f\\u0442\\u044c\\u0441\\u044f \\u0434\\u043e \\u0438\\u043b\\u0438 \\u043f\\u043e\\u0441\\u043b\\u0435 \\u0440\\u0430\\u0437\\u0440\\u0430\\u0431\\u043e\\u0442\\u043a\\u0438 \\u0422\\u0417 \\u043d\\u0430 \\u0421\\u041e\\u0418\\u0411?\",\n          \"\\u0421\\u0411 \\u0417\\u041e\\u041a\\u0418\\u0418: \\u0434\\u043e\\u043f\\u0443\\u0441\\u043a\\u0430\\u0435\\u0442\\u0441\\u044f \\u043b\\u0438 \\u0438\\u0441\\u043f\\u043e\\u043b\\u044c\\u0437\\u043e\\u0432\\u0430\\u0442\\u044c \\u0444\\u0443\\u043d\\u043a\\u0446\\u0438\\u0438 \\u0437\\u0430\\u0449\\u0438\\u0442\\u044b \\u043f\\u0440\\u0438\\u043a\\u043b\\u0430\\u0434\\u043d\\u043e\\u0433\\u043e \\u041f\\u041e (\\u043d\\u0430\\u043f\\u0440\\u0438\\u043c\\u0435\\u0440, \\u041f\\u041e SCADA) \\u0431\\u0435\\u0437 \\u043f\\u0440\\u043e\\u0432\\u0435\\u0434\\u0435\\u043d\\u0438\\u044f \\u0441\\u0435\\u0440\\u0442\\u0438\\u0444\\u0438\\u043a\\u0430\\u0446\\u0438\\u043e\\u043d\\u043d\\u044b\\u0445 \\u0438\\u0441\\u043f\\u044b\\u0442\\u0430\\u043d\\u0438\\u0439 \\u0438 \\u043f\\u043e\\u0441\\u043b\\u0435\\u0434\\u0443\\u044e\\u0449\\u0435\\u0433\\u043e \\u0432\\u043d\\u0435\\u0441\\u0435\\u043d\\u0438\\u044f \\u0442\\u0430\\u043a\\u043e\\u0433\\u043e \\u041f\\u041e \\u0432 \\u0440\\u0435\\u0435\\u0441\\u0442\\u0440 \\u0441\\u0435\\u0440\\u0442\\u0438\\u0444\\u0438\\u0446\\u0438\\u0440\\u043e\\u0432\\u0430\\u043d\\u043d\\u044b\\u0445 \\u0421\\u0440\\u0417\\u0418?\"\n        ],\n        \"semantic_type\": \"\",\n        \"description\": \"\"\n      }\n    },\n    {\n      \"column\": \"Answer\",\n      \"properties\": {\n        \"dtype\": \"string\",\n        \"num_unique_values\": 3,\n        \"samples\": [\n          \"\\u043f\\u0440\\u044f\\u043c\\u044b\\u0435 \\u043e\\u0433\\u0440\\u0430\\u043d\\u0438\\u0447\\u0435\\u043d\\u0438\\u044f \\u043f\\u043e \\u0434\\u043e\\u043f\\u0443\\u0441\\u043a\\u0443 \\u0438\\u043d\\u043e\\u0441\\u0442\\u0440\\u0430\\u043d\\u043d\\u044b\\u0445 \\u0433\\u0440\\u0430\\u0436\\u0434\\u0430\\u043d \\u043a \\u044d\\u043a\\u0441\\u043f\\u043b\\u0443\\u0430\\u0442\\u0430\\u0446\\u0438\\u0438 \\u0438 \\u043e\\u0431\\u0441\\u043b\\u0443\\u0436\\u0438\\u0432\\u0430\\u043d\\u0438\\u044e \\u0437\\u043d\\u0430\\u0447\\u0438\\u043c\\u043e\\u0433\\u043e \\u043e\\u0431\\u044a\\u0435\\u043a\\u0442\\u0430 \\u043a\\u0440\\u0438\\u0442\\u0438\\u0447\\u0435\\u0441\\u043a\\u043e\\u0439 \\u0438\\u043d\\u0444\\u043e\\u0440\\u043c\\u0430\\u0446\\u0438\\u043e\\u043d\\u043d\\u043e\\u0439 \\u0438\\u043d\\u0444\\u0440\\u0430\\u0441\\u0442\\u0440\\u0443\\u043a\\u0442\\u0443\\u0440\\u044b (\\u0434\\u0430\\u043b\\u0435\\u0435 \\u2013 \\u041a\\u0418\\u0418) \\u043d\\u0435 \\u0443\\u0441\\u0442\\u0430\\u043d\\u043e\\u0432\\u043b\\u0435\\u043d\\u044b \\u0432 \\u0434\\u0435\\u0439\\u0441\\u0442\\u0432\\u0443\\u044e\\u0449\\u0435\\u043c \\u0437\\u0430\\u043a\\u043e\\u043d\\u043e\\u0434\\u0430\\u0442\\u0435\\u043b\\u044c\\u0441\\u0442\\u0432\\u0435 \\u0420\\u043e\\u0441\\u0441\\u0438\\u0439\\u0441\\u043a\\u043e\\u0439 \\u0424\\u0435\\u0434\\u0435\\u0440\\u0430\\u0446\\u0438\\u0438 (\\u0434\\u0430\\u043b\\u0435\\u0435 \\u2013 \\u0420\\u0424). \\u0412 \\u0440\\u0430\\u043c\\u043a\\u0430\\u0445 \\u0442\\u0440\\u0443\\u0434\\u043e\\u0432\\u043e\\u0433\\u043e \\u0434\\u043e\\u0433\\u043e\\u0432\\u043e\\u0440\\u0430 \\u0434\\u043e\\u043f\\u0443\\u0441\\u043a\\u0430\\u0435\\u0442\\u0441\\u044f \\u043d\\u0430\\u043d\\u0438\\u043c\\u0430\\u0442\\u044c \\u0438\\u043d\\u043e\\u0441\\u0442\\u0440\\u0430\\u043d\\u043d\\u044b\\u0445 \\u0433\\u0440\\u0430\\u0436\\u0434\\u0430\\u043d \\u0434\\u043b\\u044f \\u0440\\u0430\\u0431\\u043e\\u0442\\u044b \\u043d\\u0430 \\u0437\\u043d\\u0430\\u0447\\u0438\\u043c\\u044b\\u0445 \\u043e\\u0431\\u044a\\u0435\\u043a\\u0442\\u0430\\u0445 \\u041a\\u0418\\u0418.\\u041e\\u0434\\u043d\\u0430\\u043a\\u043e \\u0441\\u0443\\u0449\\u0435\\u0441\\u0442\\u0432\\u0443\\u044e\\u0442 \\u0438\\u0441\\u043a\\u043b\\u044e\\u0447\\u0435\\u043d\\u0438\\u044f \\u0434\\u043b\\u044f \\u043e\\u0431\\u044a\\u0435\\u043a\\u0442\\u043e\\u0432 \\u041a\\u0418\\u0418, \\u0444\\u0443\\u043d\\u043a\\u0446\\u0438\\u043e\\u043d\\u0438\\u0440\\u0443\\u044e\\u0449\\u0438\\u0445 \\u0432 \\u0441\\u0444\\u0435\\u0440\\u0435 \\u0442\\u043e\\u043f\\u043b\\u0438\\u0432\\u043d\\u043e-\\u044d\\u043d\\u0435\\u0440\\u0433\\u0435\\u0442\\u0438\\u0447\\u0435\\u0441\\u043a\\u043e\\u0433\\u043e \\u043a\\u043e\\u043c\\u043f\\u043b\\u0435\\u043a\\u0441\\u0430 (\\u0434\\u0430\\u043b\\u0435\\u0435 \\u2013 \\u0422\\u042d\\u041a). \\u0421\\u043e\\u0433\\u043b\\u0430\\u0441\\u043d\\u043e \\u043f\\u0443\\u043d\\u043a\\u0442\\u0443\\u00a05 \\u0447\\u0430\\u0441\\u0442\\u0438\\u00a01 \\u0441\\u0442\\u0430\\u0442\\u044c\\u0438\\u00a010\\u0424\\u0435\\u0434\\u0435\\u0440\\u0430\\u043b\\u044c\\u043d\\u043e\\u0433\\u043e \\u0437\\u0430\\u043a\\u043e\\u043d\\u0430 \\u043e\\u0442 21.07.2011 \\u2116\\u00a0256-\\u0424\\u0417 \\u00ab\\u041e \\u0431\\u0435\\u0437\\u043e\\u043f\\u0430\\u0441\\u043d\\u043e\\u0441\\u0442\\u0438 \\u043e\\u0431\\u044a\\u0435\\u043a\\u0442\\u043e\\u0432 \\u0442\\u043e\\u043f\\u043b\\u0438\\u0432\\u043d\\u043e-\\u044d\\u043d\\u0435\\u0440\\u0433\\u0435\\u0442\\u0438\\u0447\\u0435\\u0441\\u043a\\u043e\\u0433\\u043e \\u043a\\u043e\\u043c\\u043f\\u043b\\u0435\\u043a\\u0441\\u0430\\u00bb, \\u0440\\u0430\\u0431\\u043e\\u0442\\u0443, \\u043d\\u0435\\u043f\\u043e\\u0441\\u0440\\u0435\\u0434\\u0441\\u0442\\u0432\\u0435\\u043d\\u043d\\u043e \\u0441\\u0432\\u044f\\u0437\\u0430\\u043d\\u043d\\u0443\\u044e \\u0441 \\u043e\\u0431\\u0435\\u0441\\u043f\\u0435\\u0447\\u0435\\u043d\\u0438\\u0435\\u043c \\u0431\\u0435\\u0437\\u043e\\u043f\\u0430\\u0441\\u043d\\u043e\\u0441\\u0442\\u0438 \\u043e\\u0431\\u044a\\u0435\\u043a\\u0442\\u043e\\u0432 \\u0422\\u042d\\u041a, \\u043d\\u0435 \\u0432\\u043f\\u0440\\u0430\\u0432\\u0435 \\u0432\\u044b\\u043f\\u043e\\u043b\\u043d\\u044f\\u0442\\u044c:\\u00b7\\u00a0\\u00a0\\u00a0\\u00a0 \\u043b\\u0438\\u0446\\u0430, \\u044f\\u0432\\u043b\\u044f\\u044e\\u0449\\u0438\\u0435\\u0441\\u044f \\u0438\\u043d\\u043e\\u0441\\u0442\\u0440\\u0430\\u043d\\u043d\\u044b\\u043c\\u0438 \\u0433\\u0440\\u0430\\u0436\\u0434\\u0430\\u043d\\u0430\\u043c\\u0438;\\u00b7\\u00a0\\u00a0\\u00a0\\u00a0 \\u0433\\u0440\\u0430\\u0436\\u0434\\u0430\\u043d\\u0438\\u043d\\u044b \\u0420\\u0424, \\u0438\\u043c\\u0435\\u044e\\u0449\\u0438\\u0435 \\u0433\\u0440\\u0430\\u0436\\u0434\\u0430\\u043d\\u0441\\u0442\\u0432\\u043e \\u0438\\u043d\\u043e\\u0441\\u0442\\u0440\\u0430\\u043d\\u043d\\u043e\\u0433\\u043e \\u0433\\u043e\\u0441\\u0443\\u0434\\u0430\\u0440\\u0441\\u0442\\u0432\\u0430 \\u043b\\u0438\\u0431\\u043e \\u0432\\u0438\\u0434 \\u043d\\u0430 \\u0436\\u0438\\u0442\\u0435\\u043b\\u044c\\u0441\\u0442\\u0432\\u043e \\u0438\\u043b\\u0438 \\u0438\\u043d\\u043e\\u0439 \\u0434\\u043e\\u043a\\u0443\\u043c\\u0435\\u043d\\u0442, \\u043f\\u043e\\u0434\\u0442\\u0432\\u0435\\u0440\\u0436\\u0434\\u0430\\u044e\\u0449\\u0438\\u0439 \\u043f\\u0440\\u0430\\u0432\\u043e \\u043d\\u0430 \\u043f\\u043e\\u0441\\u0442\\u043e\\u044f\\u043d\\u043d\\u043e\\u0435 \\u043f\\u0440\\u043e\\u0436\\u0438\\u0432\\u0430\\u043d\\u0438\\u0435 \\u0433\\u0440\\u0430\\u0436\\u0434\\u0430\\u043d\\u0438\\u043d\\u0430 \\u0420\\u0424 \\u043d\\u0430 \\u0442\\u0435\\u0440\\u0440\\u0438\\u0442\\u043e\\u0440\\u0438\\u0438 \\u0438\\u043d\\u043e\\u0441\\u0442\\u0440\\u0430\\u043d\\u043d\\u043e\\u0433\\u043e \\u0433\\u043e\\u0441\\u0443\\u0434\\u0430\\u0440\\u0441\\u0442\\u0432\\u0430;\\u00b7\\u00a0\\u00a0\\u00a0\\u00a0 \\u043b\\u0438\\u0446\\u0430 \\u0431\\u0435\\u0437 \\u0433\\u0440\\u0430\\u0436\\u0434\\u0430\\u043d\\u0441\\u0442\\u0432\\u0430.\\u041f\\u0435\\u0440\\u0435\\u0447\\u0435\\u043d\\u044c \\u0440\\u0430\\u0431\\u043e\\u0442, \\u043d\\u0435\\u043f\\u043e\\u0441\\u0440\\u0435\\u0434\\u0441\\u0442\\u0432\\u0435\\u043d\\u043d\\u043e \\u0441\\u0432\\u044f\\u0437\\u0430\\u043d\\u043d\\u044b\\u0445 \\u0441 \\u043e\\u0431\\u0435\\u0441\\u043f\\u0435\\u0447\\u0435\\u043d\\u0438\\u0435\\u043c \\u0431\\u0435\\u0437\\u043e\\u043f\\u0430\\u0441\\u043d\\u043e\\u0441\\u0442\\u0438 \\u043e\\u0431\\u044a\\u0435\\u043a\\u0442\\u043e\\u0432 \\u0422\\u042d\\u041a, \\u0443\\u0442\\u0432\\u0435\\u0440\\u0436\\u0434\\u0435\\u043d\\u043f\\u0440\\u0438\\u043a\\u0430\\u0437\\u043e\\u043c \\u041c\\u0438\\u043d\\u0438\\u0441\\u0442\\u0435\\u0440\\u0441\\u0442\\u0432\\u0430 \\u044d\\u043d\\u0435\\u0440\\u0433\\u0435\\u0442\\u0438\\u043a\\u0438 \\u0420\\u0424 \\u043e\\u0442 13.12.2011 \\u2116\\u00a0587. \\u041a \\u0442\\u0430\\u043a\\u0438\\u043c \\u0432\\u0438\\u0434\\u0430\\u043c \\u0440\\u0430\\u0431\\u043e\\u0442, \\u0432 \\u0442\\u043e\\u043c \\u0447\\u0438\\u0441\\u043b\\u0435, \\u043e\\u0442\\u043d\\u043e\\u0441\\u044f\\u0442\\u0441\\u044f:\\u00b7\\u00a0\\u00a0\\u00a0\\u00a0 \\u043e\\u0441\\u0443\\u0449\\u0435\\u0441\\u0442\\u0432\\u043b\\u0435\\u043d\\u0438\\u0435 \\u0432\\u043d\\u0443\\u0442\\u0440\\u0435\\u043d\\u043d\\u0435\\u0433\\u043e \\u043a\\u043e\\u043d\\u0442\\u0440\\u043e\\u043b\\u044f \\u0432 \\u043e\\u0431\\u043b\\u0430\\u0441\\u0442\\u0438 \\u043e\\u0431\\u0435\\u0441\\u043f\\u0435\\u0447\\u0435\\u043d\\u0438\\u044f \\u0431\\u0435\\u0437\\u043e\\u043f\\u0430\\u0441\\u043d\\u043e\\u0441\\u0442\\u0438 \\u043e\\u0431\\u044a\\u0435\\u043a\\u0442\\u043e\\u0432 \\u0422\\u042d\\u041a;\\u00b7\\u00a0\\u00a0\\u00a0\\u00a0 \\u0440\\u0430\\u0437\\u0440\\u0430\\u0431\\u043e\\u0442\\u043a\\u0430, \\u043c\\u043e\\u043d\\u0442\\u0430\\u0436 \\u0438 \\u044d\\u043a\\u0441\\u043f\\u043b\\u0443\\u0430\\u0442\\u0430\\u0446\\u0438\\u044f \\u0438\\u043d\\u0444\\u043e\\u0440\\u043c\\u0430\\u0446\\u0438\\u043e\\u043d\\u043d\\u044b\\u0445 \\u0441\\u0438\\u0441\\u0442\\u0435\\u043c, \\u0438\\u043d\\u0444\\u043e\\u0440\\u043c\\u0430\\u0446\\u0438\\u043e\\u043d\\u043d\\u043e-\\u0442\\u0435\\u043b\\u0435\\u043a\\u043e\\u043c\\u043c\\u0443\\u043d\\u0438\\u043a\\u0430\\u0446\\u0438\\u043e\\u043d\\u043d\\u044b\\u0445 \\u0441\\u0435\\u0442\\u0435\\u0439 \\u0438 \\u0441\\u0438\\u0441\\u0442\\u0435\\u043c \\u0437\\u0430\\u0449\\u0438\\u0442\\u044b \\u0438\\u043d\\u0444\\u043e\\u0440\\u043c\\u0430\\u0446\\u0438\\u0438 \\u043e\\u0431\\u044a\\u0435\\u043a\\u0442\\u043e\\u0432 \\u0422\\u042d\\u041a.\\u041a\\u0440\\u043e\\u043c\\u0435 \\u0442\\u043e\\u0433\\u043e, \\u0441\\u0442\\u043e\\u0438\\u0442 \\u0443\\u0447\\u0438\\u0442\\u044b\\u0432\\u0430\\u0442\\u044c \\u043c\\u043e\\u0434\\u0435\\u043b\\u0438 \\u0443\\u0433\\u0440\\u043e\\u0437 \\u0438 \\u043d\\u0430\\u0440\\u0443\\u0448\\u0438\\u0442\\u0435\\u043b\\u0435\\u0439 \\u0431\\u0435\\u0437\\u043e\\u043f\\u0430\\u0441\\u043d\\u043e\\u0441\\u0442\\u0438 \\u0438\\u043d\\u0444\\u043e\\u0440\\u043c\\u0430\\u0446\\u0438\\u0438, \\u0440\\u0430\\u0437\\u0440\\u0430\\u0431\\u043e\\u0442\\u0430\\u043d\\u043d\\u044b\\u0435 \\u0434\\u043b\\u044f \\u0437\\u043d\\u0430\\u0447\\u0438\\u043c\\u044b\\u0445 \\u043e\\u0431\\u044a\\u0435\\u043a\\u0442\\u043e\\u0432 \\u041a\\u0418\\u0418. \\u0415\\u0441\\u043b\\u0438 \\u043a \\u0430\\u043a\\u0442\\u0443\\u0430\\u043b\\u044c\\u043d\\u044b\\u043c \\u043d\\u0430\\u0440\\u0443\\u0448\\u0438\\u0442\\u0435\\u043b\\u044f\\u043c \\u043e\\u0442\\u043d\\u043e\\u0441\\u044f\\u0442\\u0441\\u044f \\u0441\\u043f\\u0435\\u0446\\u0438\\u0430\\u043b\\u044c\\u043d\\u044b\\u0435 \\u0441\\u043b\\u0443\\u0436\\u0431\\u044b \\u0438\\u043d\\u043e\\u0441\\u0442\\u0440\\u0430\\u043d\\u043d\\u044b\\u0445 \\u0433\\u043e\\u0441\\u0443\\u0434\\u0430\\u0440\\u0441\\u0442\\u0432, \\u0442\\u043e \\u043d\\u0435\\u043e\\u0431\\u0445\\u043e\\u0434\\u0438\\u043c\\u043e \\u0443\\u0447\\u0438\\u0442\\u044b\\u0432\\u0430\\u0442\\u044c \\u0440\\u0438\\u0441\\u043a\\u0438, \\u043a\\u043e\\u0442\\u043e\\u0440\\u044b\\u0435 \\u043c\\u043e\\u0433\\u0443\\u0442 \\u0432\\u043e\\u0437\\u043d\\u0438\\u043a\\u043d\\u0443\\u0442\\u044c \\u043f\\u0440\\u0438 \\u043d\\u0430\\u0439\\u043c\\u0435 \\u0438\\u043d\\u043e\\u0441\\u0442\\u0440\\u0430\\u043d\\u043d\\u043e\\u0433\\u043e \\u0433\\u0440\\u0430\\u0436\\u0434\\u0430\\u043d\\u0438\\u043d\\u0430 \\u0434\\u043b\\u044f \\u044d\\u043a\\u0441\\u043f\\u043b\\u0443\\u0430\\u0442\\u0430\\u0446\\u0438\\u0438 \\u0438 \\u043e\\u0431\\u0441\\u043b\\u0443\\u0436\\u0438\\u0432\\u0430\\u043d\\u0438\\u044f \\u0437\\u043d\\u0430\\u0447\\u0438\\u043c\\u043e\\u0433\\u043e \\u043e\\u0431\\u044a\\u0435\\u043a\\u0442\\u0430 \\u041a\\u0418\\u0418.\\u0422\\u0430\\u043a\\u0436\\u0435 \\u043e\\u0442\\u043c\\u0435\\u0442\\u0438\\u043c, \\u0447\\u0442\\u043e \\u0438\\u043d\\u043e\\u0441\\u0442\\u0440\\u0430\\u043d\\u043d\\u044b\\u0439 \\u0430\\u0433\\u0435\\u043d\\u0442 \\u043d\\u0435 \\u0432\\u043f\\u0440\\u0430\\u0432\\u0435 \\u043e\\u0441\\u0443\\u0449\\u0435\\u0441\\u0442\\u0432\\u043b\\u044f\\u0442\\u044c \\u044d\\u043a\\u0441\\u043f\\u043b\\u0443\\u0430\\u0442\\u0430\\u0446\\u0438\\u044e \\u0437\\u043d\\u0430\\u0447\\u0438\\u043c\\u044b\\u0445 \\u043e\\u0431\\u044a\\u0435\\u043a\\u0442\\u043e\\u0432 \\u041a\\u0418\\u0418 \\u0438 \\u043e\\u0441\\u0443\\u0449\\u0435\\u0441\\u0442\\u0432\\u043b\\u044f\\u0442\\u044c \\u0434\\u0435\\u044f\\u0442\\u0435\\u043b\\u044c\\u043d\\u043e\\u0441\\u0442\\u044c \\u043f\\u043e \\u043e\\u0431\\u0435\\u0441\\u043f\\u0435\\u0447\\u0435\\u043d\\u0438\\u044e \\u0438\\u0445 \\u0431\\u0435\\u0437\\u043e\\u043f\\u0430\\u0441\\u043d\\u043e\\u0441\\u0442\\u0438 (\\u043f\\u0443\\u043d\\u043a\\u0442 17 \\u0441\\u0442\\u0430\\u0442\\u044c\\u0438 11\\u0424\\u0435\\u0434\\u0435\\u0440\\u0430\\u043b\\u044c\\u043d\\u043e\\u0433\\u043e \\u0437\\u0430\\u043a\\u043e\\u043d\\u0430 \\u043e\\u0442 14.07.2022 \\u2116\\u00a0255-\\u0424\\u0417 \\u00ab\\u041e \\u043a\\u043e\\u043d\\u0442\\u0440\\u043e\\u043b\\u0435 \\u0437\\u0430 \\u0434\\u0435\\u044f\\u0442\\u0435\\u043b\\u044c\\u043d\\u043e\\u0441\\u0442\\u044c\\u044e \\u043b\\u0438\\u0446, \\u043d\\u0430\\u0445\\u043e\\u0434\\u044f\\u0449\\u0438\\u0445\\u0441\\u044f \\u043f\\u043e\\u0434 \\u0438\\u043d\\u043e\\u0441\\u0442\\u0440\\u0430\\u043d\\u043d\\u044b\\u043c \\u0432\\u043b\\u0438\\u044f\\u043d\\u0438\\u0435\\u043c\\u00bb). \\u0418\\u043d\\u043e\\u0441\\u0442\\u0440\\u0430\\u043d\\u043d\\u044b\\u043c \\u0430\\u0433\\u0435\\u043d\\u0442\\u043e\\u043c \\u043c\\u043e\\u0436\\u0435\\u0442 \\u0431\\u044b\\u0442\\u044c \\u043f\\u0440\\u0438\\u0437\\u043d\\u0430\\u043d\\u043e \\u0440\\u043e\\u0441\\u0441\\u0438\\u0439\\u0441\\u043a\\u043e\\u0435 \\u0438\\u043b\\u0438 \\u0438\\u043d\\u043e\\u0441\\u0442\\u0440\\u0430\\u043d\\u043d\\u043e\\u0435 \\u044e\\u0440\\u0438\\u0434\\u0438\\u0447\\u0435\\u0441\\u043a\\u043e\\u0435 \\u043b\\u0438\\u0446\\u043e, \\u0430 \\u0442\\u0430\\u043a\\u0436\\u0435 \\u0444\\u0438\\u0437\\u0438\\u0447\\u0435\\u0441\\u043a\\u043e\\u0435 \\u043b\\u0438\\u0446\\u043e \\u043d\\u0435\\u0437\\u0430\\u0432\\u0438\\u0441\\u0438\\u043c\\u043e \\u043e\\u0442 \\u0435\\u0433\\u043e \\u0433\\u0440\\u0430\\u0436\\u0434\\u0430\\u043d\\u0441\\u0442\\u0432\\u0430 \\u0438\\u043b\\u0438 \\u043f\\u0440\\u0438 \\u043e\\u0442\\u0441\\u0443\\u0442\\u0441\\u0442\\u0432\\u0438\\u0438 \\u0442\\u0430\\u043a\\u043e\\u0432\\u043e\\u0433\\u043e.\",\n          \"\\u043f\\u0435\\u0440\\u0432\\u0438\\u0447\\u043d\\u043e\\u0435 \\u043c\\u043e\\u0434\\u0435\\u043b\\u0438\\u0440\\u043e\\u0432\\u0430\\u043d\\u0438\\u0435 \\u0443\\u0433\\u0440\\u043e\\u0437 \\u0431\\u0435\\u0437\\u043e\\u043f\\u0430\\u0441\\u043d\\u043e\\u0441\\u0442\\u0438 \\u0438\\u043d\\u0444\\u043e\\u0440\\u043c\\u0430\\u0446\\u0438\\u0438 (\\u0434\\u0430\\u043b\\u0435\\u0435 \\u2013 \\u0423\\u0411\\u0418) \\u043e\\u0441\\u0443\\u0449\\u0435\\u0441\\u0442\\u0432\\u043b\\u044f\\u0435\\u0442\\u0441\\u044f \\u043d\\u0430 \\u044d\\u0442\\u0430\\u043f\\u0435 \\u043a\\u0430\\u0442\\u0435\\u0433\\u043e\\u0440\\u0438\\u0440\\u043e\\u0432\\u0430\\u043d\\u0438\\u044f \\u043e\\u0431\\u044a\\u0435\\u043a\\u0442\\u043e\\u0432 \\u043a\\u0440\\u0438\\u0442\\u0438\\u0447\\u0435\\u0441\\u043a\\u043e\\u0439 \\u0438\\u043d\\u0444\\u043e\\u0440\\u043c\\u0430\\u0446\\u0438\\u043e\\u043d\\u043d\\u043e\\u0439 \\u0438\\u043d\\u0444\\u0440\\u0430\\u0441\\u0442\\u0440\\u0443\\u043a\\u0442\\u0443\\u0440\\u044b (\\u0434\\u0430\\u043b\\u0435\\u0435 \\u2013 \\u041a\\u0418\\u0418) \\u0441\\u043e\\u0433\\u043b\\u0430\\u0441\\u043d\\u043e \\u041f\\u0440\\u0430\\u0432\\u0438\\u043b\\u0430\\u043c \\u043a\\u0430\\u0442\\u0435\\u0433\\u043e\\u0440\\u0438\\u0440\\u043e\\u0432\\u0430\\u043d\\u0438\\u044f \\u043e\\u0431\\u044a\\u0435\\u043a\\u0442\\u043e\\u0432 \\u041a\\u0418\\u0418 \\u0420\\u043e\\u0441\\u0441\\u0438\\u0439\\u0441\\u043a\\u043e\\u0439 \\u0424\\u0435\\u0434\\u0435\\u0440\\u0430\\u0446\\u0438\\u0438 (\\u0434\\u0430\\u043b\\u0435\\u0435 \\u2013 \\u0420\\u0424), \\u0430 \\u0442\\u0430\\u043a\\u0436\\u0435 \\u043f\\u0435\\u0440\\u0435\\u0447\\u043d\\u044f \\u043f\\u043e\\u043a\\u0430\\u0437\\u0430\\u0442\\u0435\\u043b\\u0435\\u0439 \\u043a\\u0440\\u0438\\u0442\\u0435\\u0440\\u0438\\u0435\\u0432 \\u0437\\u043d\\u0430\\u0447\\u0438\\u043c\\u043e\\u0441\\u0442\\u0438 \\u043e\\u0431\\u044a\\u0435\\u043a\\u0442\\u043e\\u0432 \\u041a\\u0418\\u0418 \\u0420\\u0424, \\u0443\\u0442\\u0432\\u0435\\u0440\\u0436\\u0434\\u0435\\u043d\\u043d\\u044b\\u043c\\u043f\\u043e\\u0441\\u0442\\u0430\\u043d\\u043e\\u0432\\u043b\\u0435\\u043d\\u0438\\u0435\\u043c \\u041f\\u0440\\u0430\\u0432\\u0438\\u0442\\u0435\\u043b\\u044c\\u0441\\u0442\\u0432\\u0430 \\u043e\\u0442 08.02.2018 \\u2116\\u00a0127(\\u0434\\u0430\\u043b\\u0435\\u0435 \\u2013 \\u041f\\u0440\\u0430\\u0432\\u0438\\u043b\\u0430 \\u043a\\u0430\\u0442\\u0435\\u0433\\u043e\\u0440\\u0438\\u0440\\u043e\\u0432\\u0430\\u043d\\u0438\\u044f). \\u0421\\u043e\\u0433\\u043b\\u0430\\u0441\\u043d\\u043e \\u043f\\u043e\\u0434\\u043f\\u0443\\u043d\\u043a\\u0442\\u0443 \\u0435 \\u043f\\u0443\\u043d\\u043a\\u0442\\u0430 10 \\u041f\\u0440\\u0430\\u0432\\u0438\\u043b \\u043a\\u0430\\u0442\\u0435\\u0433\\u043e\\u0440\\u0438\\u0440\\u043e\\u0432\\u0430\\u043d\\u0438\\u044f, \\u0438\\u0441\\u0445\\u043e\\u0434\\u043d\\u044b\\u043c\\u0438 \\u0434\\u0430\\u043d\\u043d\\u044b\\u043c\\u0438 \\u0434\\u043b\\u044f \\u043a\\u0430\\u0442\\u0435\\u0433\\u043e\\u0440\\u0438\\u0440\\u043e\\u0432\\u0430\\u043d\\u0438\\u044f \\u044f\\u0432\\u043b\\u044f\\u044e\\u0442\\u0441\\u044f \\u0423\\u0411\\u0418 \\u0432 \\u043e\\u0442\\u043d\\u043e\\u0448\\u0435\\u043d\\u0438\\u0438 \\u0440\\u0430\\u0441\\u0441\\u043c\\u0430\\u0442\\u0440\\u0438\\u0432\\u0430\\u0435\\u043c\\u043e\\u0433\\u043e \\u043e\\u0431\\u044a\\u0435\\u043a\\u0442\\u0430 \\u041a\\u0418\\u0418. \\u041a\\u043e\\u043c\\u0438\\u0441\\u0441\\u0438\\u044f \\u043f\\u043e \\u043a\\u0430\\u0442\\u0435\\u0433\\u043e\\u0440\\u0438\\u0440\\u043e\\u0432\\u0430\\u043d\\u0438\\u044e \\u0440\\u0430\\u0441\\u0441\\u043c\\u0430\\u0442\\u0440\\u0438\\u0432\\u0430\\u0435\\u0442 \\u0432\\u043e\\u0437\\u043c\\u043e\\u0436\\u043d\\u044b\\u0435 \\u0434\\u0435\\u0439\\u0441\\u0442\\u0432\\u0438\\u044f \\u043d\\u0430\\u0440\\u0443\\u0448\\u0438\\u0442\\u0435\\u043b\\u0435\\u0439 \\u0432 \\u043e\\u0442\\u043d\\u043e\\u0448\\u0435\\u043d\\u0438\\u0438 \\u043e\\u0431\\u044a\\u0435\\u043a\\u0442\\u043e\\u0432 \\u041a\\u0418\\u0418, \\u0430 \\u0442\\u0430\\u043a\\u0436\\u0435 \\u0438\\u043d\\u044b\\u0435 \\u0438\\u0441\\u0442\\u043e\\u0447\\u043d\\u0438\\u043a\\u0438 \\u0423\\u0411\\u0418 \\u0438 \\u0430\\u043d\\u0430\\u043b\\u0438\\u0437\\u0438\\u0440\\u0443\\u0435\\u0442 \\u0423\\u0411\\u0418, \\u043a\\u043e\\u0442\\u043e\\u0440\\u044b\\u0435 \\u043c\\u043e\\u0433\\u0443\\u0442 \\u043f\\u0440\\u0438\\u0432\\u0435\\u0441\\u0442\\u0438 \\u043a \\u0432\\u043e\\u0437\\u043d\\u0438\\u043a\\u043d\\u043e\\u0432\\u0435\\u043d\\u0438\\u044e \\u043a\\u043e\\u043c\\u043f\\u044c\\u044e\\u0442\\u0435\\u0440\\u043d\\u044b\\u0445 \\u0438\\u043d\\u0446\\u0438\\u0434\\u0435\\u043d\\u0442\\u043e\\u0432 \\u043d\\u0430 \\u043e\\u0431\\u044a\\u0435\\u043a\\u0442\\u0430\\u0445 \\u041a\\u0418\\u0418 (\\u043f\\u0443\\u043d\\u043a\\u0442\\u00a014 \\u041f\\u0440\\u0430\\u0432\\u0438\\u043b \\u043a\\u0430\\u0442\\u0435\\u0433\\u043e\\u0440\\u0438\\u0440\\u043e\\u0432\\u0430\\u043d\\u0438\\u044f).\\u0421\\u0432\\u0435\\u0434\\u0435\\u043d\\u0438\\u044f \\u043e\\u0431 \\u0423\\u0411\\u0418 \\u0438 \\u043e \\u043a\\u0430\\u0442\\u0435\\u0433\\u043e\\u0440\\u0438\\u044f\\u0445 \\u043d\\u0430\\u0440\\u0443\\u0448\\u0438\\u0442\\u0435\\u043b\\u0435\\u0439 \\u0432 \\u043e\\u0442\\u043d\\u043e\\u0448\\u0435\\u043d\\u0438\\u0438 \\u043e\\u0431\\u044a\\u0435\\u043a\\u0442\\u043e\\u0432 \\u041a\\u0418\\u0418 \\u0442\\u0430\\u043a\\u0436\\u0435 \\u0432\\u043d\\u043e\\u0441\\u044f\\u0442\\u0441\\u044f \\u0432 \\u043f\\u0443\\u043d\\u043a\\u0442\\u00a06 \\u0444\\u043e\\u0440\\u043c\\u044b, \\u0443\\u0442\\u0432\\u0435\\u0440\\u0436\\u0434\\u0435\\u043d\\u043d\\u043e\\u0439\\u043f\\u0440\\u0438\\u043a\\u0430\\u0437\\u043e\\u043c \\u0424\\u0421\\u0422\\u042d\\u041a \\u0420\\u043e\\u0441\\u0441\\u0438\\u0438 \\u043e\\u0442 22.12.2017 \\u2116\\u00a0236\\u00ab\\u041e\\u0431 \\u0443\\u0442\\u0432\\u0435\\u0440\\u0436\\u0434\\u0435\\u043d\\u0438\\u0438 \\u0444\\u043e\\u0440\\u043c\\u044b \\u043d\\u0430\\u043f\\u0440\\u0430\\u0432\\u043b\\u0435\\u043d\\u0438\\u044f \\u0441\\u0432\\u0435\\u0434\\u0435\\u043d\\u0438\\u0439 \\u043e \\u0440\\u0435\\u0437\\u0443\\u043b\\u044c\\u0442\\u0430\\u0442\\u0430\\u0445 \\u043f\\u0440\\u0438\\u0441\\u0432\\u043e\\u0435\\u043d\\u0438\\u044f \\u043e\\u0431\\u044a\\u0435\\u043a\\u0442\\u0443 \\u043a\\u0440\\u0438\\u0442\\u0438\\u0447\\u0435\\u0441\\u043a\\u043e\\u0439 \\u0438\\u043d\\u0444\\u043e\\u0440\\u043c\\u0430\\u0446\\u0438\\u043e\\u043d\\u043d\\u043e\\u0439 \\u0438\\u043d\\u0444\\u0440\\u0430\\u0441\\u0442\\u0440\\u0443\\u043a\\u0442\\u0443\\u0440\\u044b \\u043e\\u0434\\u043d\\u043e\\u0439 \\u0438\\u0437 \\u043a\\u0430\\u0442\\u0435\\u0433\\u043e\\u0440\\u0438\\u0439 \\u0437\\u043d\\u0430\\u0447\\u0438\\u043c\\u043e\\u0441\\u0442\\u0438 \\u043b\\u0438\\u0431\\u043e \\u043e\\u0431 \\u043e\\u0442\\u0441\\u0443\\u0442\\u0441\\u0442\\u0432\\u0438\\u0438 \\u043d\\u0435\\u043e\\u0431\\u0445\\u043e\\u0434\\u0438\\u043c\\u043e\\u0441\\u0442\\u0438 \\u043f\\u0440\\u0438\\u0441\\u0432\\u043e\\u0435\\u043d\\u0438\\u044f \\u0435\\u043c\\u0443 \\u043e\\u0434\\u043d\\u043e\\u0439 \\u0438\\u0437 \\u0442\\u0430\\u043a\\u0438\\u0445 \\u043a\\u0430\\u0442\\u0435\\u0433\\u043e\\u0440\\u0438\\u0439\\u00bb.\\u0422\\u0430\\u043a\\u0438\\u043c \\u043e\\u0431\\u0440\\u0430\\u0437\\u043e\\u043c, \\u043f\\u043e\\u0441\\u043b\\u0435 \\u043f\\u0440\\u043e\\u0432\\u0435\\u0434\\u0435\\u043d\\u0438\\u044f \\u043a\\u0430\\u0442\\u0435\\u0433\\u043e\\u0440\\u0438\\u0440\\u043e\\u0432\\u0430\\u043d\\u0438\\u044f \\u043e\\u0431\\u044a\\u0435\\u043a\\u0442\\u043e\\u0432 \\u041a\\u0418\\u0418 \\u0443 \\u0441\\u0443\\u0431\\u044a\\u0435\\u043a\\u0442\\u0430 \\u041a\\u0418\\u0418 \\u0443\\u0436\\u0435 \\u043f\\u0440\\u043e\\u0432\\u0435\\u0434\\u0435\\u043d\\u043e \\u0447\\u0430\\u0441\\u0442\\u0438\\u0447\\u043d\\u043e\\u0435 \\u043c\\u043e\\u0434\\u0435\\u043b\\u0438\\u0440\\u043e\\u0432\\u0430\\u043d\\u0438\\u0435 \\u0423\\u0411\\u0418 \\u0438 \\u0435\\u0441\\u0442\\u044c \\u043f\\u043e\\u043d\\u0438\\u043c\\u0430\\u043d\\u0438\\u0435, \\u043a\\u0430\\u043a\\u0438\\u0435 \\u0423\\u0411\\u0418 \\u044f\\u0432\\u043b\\u044f\\u044e\\u0442\\u0441\\u044f \\u0430\\u043a\\u0442\\u0443\\u0430\\u043b\\u044c\\u043d\\u044b\\u043c\\u0438.\\u0420\\u0430\\u0437\\u0440\\u0430\\u0431\\u043e\\u0442\\u043a\\u0430 \\u0422\\u0435\\u0445\\u043d\\u0438\\u0447\\u0435\\u0441\\u043a\\u043e\\u0433\\u043e \\u0437\\u0430\\u0434\\u0430\\u043d\\u0438\\u044f \\u043d\\u0430 \\u0441\\u043e\\u0437\\u0434\\u0430\\u043d\\u0438\\u0435 \\u0441\\u0438\\u0441\\u0442\\u0435\\u043c\\u044b \\u043e\\u0431\\u0435\\u0441\\u043f\\u0435\\u0447\\u0435\\u043d\\u0438\\u044f \\u0438\\u043d\\u0444\\u043e\\u0440\\u043c\\u0430\\u0446\\u0438\\u043e\\u043d\\u043d\\u043e\\u0439 \\u0431\\u0435\\u0437\\u043e\\u043f\\u0430\\u0441\\u043d\\u043e\\u0441\\u0442\\u0438 (\\u0434\\u0430\\u043b\\u0435\\u0435 \\u2013 \\u0421\\u041e\\u0418\\u0411) \\u0437\\u043d\\u0430\\u0447\\u0438\\u043c\\u044b\\u0445 \\u043e\\u0431\\u044a\\u0435\\u043a\\u0442\\u043e\\u0432 \\u041a\\u0418\\u0418 \\u043f\\u0440\\u043e\\u0438\\u0437\\u0432\\u043e\\u0434\\u0438\\u0442\\u0441\\u044f \\u0432 \\u0441\\u043e\\u043e\\u0442\\u0432\\u0435\\u0442\\u0441\\u0442\\u0432\\u0438\\u0438 \\u0441 \\u043f\\u0440\\u0438\\u0441\\u0432\\u043e\\u0435\\u043d\\u043d\\u043e\\u0439 \\u043e\\u0431\\u044a\\u0435\\u043a\\u0442\\u0443 \\u041a\\u0418\\u0418 \\u043a\\u0430\\u0442\\u0435\\u0433\\u043e\\u0440\\u0438\\u0435\\u0439 \\u0437\\u043d\\u0430\\u0447\\u0438\\u043c\\u043e\\u0441\\u0442\\u0438. \\u0421\\u043e\\u0441\\u0442\\u0430\\u0432 \\u043c\\u0435\\u0440 \\u043f\\u043e \\u043e\\u0431\\u0435\\u0441\\u043f\\u0435\\u0447\\u0435\\u043d\\u0438\\u044e \\u0431\\u0435\\u0437\\u043e\\u043f\\u0430\\u0441\\u043d\\u043e\\u0441\\u0442\\u0438 \\u0437\\u043d\\u0430\\u0447\\u0438\\u043c\\u044b\\u0445 \\u043e\\u0431\\u044a\\u0435\\u043a\\u0442\\u043e\\u0432 \\u041a\\u0418\\u0418 \\u043e\\u043f\\u0440\\u0435\\u0434\\u0435\\u043b\\u0435\\u043d \\u0432 \\u0422\\u0440\\u0435\\u0431\\u043e\\u0432\\u0430\\u043d\\u0438\\u044f\\u0445 \\u043f\\u043e \\u043e\\u0431\\u0435\\u0441\\u043f\\u0435\\u0447\\u0435\\u043d\\u0438\\u044e \\u0431\\u0435\\u0437\\u043e\\u043f\\u0430\\u0441\\u043d\\u043e\\u0441\\u0442\\u0438 \\u0437\\u043d\\u0430\\u0447\\u0438\\u043c\\u044b\\u0445 \\u043e\\u0431\\u044a\\u0435\\u043a\\u0442\\u043e\\u0432 \\u041a\\u0418\\u0418 \\u0420\\u0424, \\u0443\\u0442\\u0432\\u0435\\u0440\\u0436\\u0434\\u0435\\u043d\\u043d\\u044b\\u0445\\u043f\\u0440\\u0438\\u043a\\u0430\\u0437\\u043e\\u043c \\u0424\\u0421\\u0422\\u042d\\u041a \\u0420\\u043e\\u0441\\u0441\\u0438\\u0438 \\u043e\\u0442 25.12.2017 \\u2116\\u00a0239(\\u0434\\u0430\\u043b\\u0435\\u0435 \\u2013 \\u0422\\u0440\\u0435\\u0431\\u043e\\u0432\\u0430\\u043d\\u0438\\u044f \\u043a \\u0421\\u0411). \\u0412 \\u0437\\u0430\\u0432\\u0438\\u0441\\u0438\\u043c\\u043e\\u0441\\u0442\\u0438 \\u043e\\u0442 \\u043f\\u0440\\u0438\\u0441\\u0432\\u043e\\u0435\\u043d\\u043d\\u043e\\u0439 \\u043a\\u0430\\u0442\\u0435\\u0433\\u043e\\u0440\\u0438\\u0438 \\u0437\\u043d\\u0430\\u0447\\u0438\\u043c\\u043e\\u0441\\u0442\\u0438 \\u043a \\u043e\\u0431\\u044a\\u0435\\u043a\\u0442\\u0443 \\u041a\\u0418\\u0418 \\u043f\\u0440\\u0438\\u043c\\u0435\\u043d\\u0438\\u043c \\u043e\\u043f\\u0440\\u0435\\u0434\\u0435\\u043b\\u0435\\u043d\\u043d\\u044b\\u0439 \\u0431\\u0430\\u0437\\u043e\\u0432\\u044b\\u0439 \\u043d\\u0430\\u0431\\u043e\\u0440 \\u043c\\u0435\\u0440 \\u043f\\u043e \\u043e\\u0431\\u0435\\u0441\\u043f\\u0435\\u0447\\u0435\\u043d\\u0438\\u044e \\u0431\\u0435\\u0437\\u043e\\u043f\\u0430\\u0441\\u043d\\u043e\\u0441\\u0442\\u0438.\\u041f\\u043e\\u043b\\u043d\\u043e\\u0446\\u0435\\u043d\\u043d\\u0430\\u044f \\u043c\\u043e\\u0434\\u0435\\u043b\\u044c \\u0443\\u0433\\u0440\\u043e\\u0437 \\u0438 \\u043d\\u0430\\u0440\\u0443\\u0448\\u0438\\u0442\\u0435\\u043b\\u0435\\u0439 \\u0431\\u0435\\u0437\\u043e\\u043f\\u0430\\u0441\\u043d\\u043e\\u0441\\u0442\\u0438 \\u0438\\u043d\\u0444\\u043e\\u0440\\u043c\\u0430\\u0446\\u0438\\u0438 \\u0440\\u0430\\u0437\\u0440\\u0430\\u0431\\u0430\\u0442\\u044b\\u0432\\u0430\\u0435\\u0442\\u0441\\u044f \\u043d\\u0430 \\u044d\\u0442\\u0430\\u043f\\u0435 \\u0440\\u0430\\u0437\\u0440\\u0430\\u0431\\u043e\\u0442\\u043a\\u0438 \\u043e\\u0440\\u0433\\u0430\\u043d\\u0438\\u0437\\u0430\\u0446\\u0438\\u043e\\u043d\\u043d\\u044b\\u0445 \\u0438 \\u0442\\u0435\\u0445\\u043d\\u0438\\u0447\\u0435\\u0441\\u043a\\u0438\\u0445 \\u043c\\u0435\\u0440 \\u043f\\u043e \\u043e\\u0431\\u0435\\u0441\\u043f\\u0435\\u0447\\u0435\\u043d\\u0438\\u044e \\u0431\\u0435\\u0437\\u043e\\u043f\\u0430\\u0441\\u043d\\u043e\\u0441\\u0442\\u0438 \\u0437\\u043d\\u0430\\u0447\\u0438\\u043c\\u043e\\u0433\\u043e \\u043e\\u0431\\u044a\\u0435\\u043a\\u0442\\u0430 \\u041a\\u0418\\u0418 (\\u043f\\u0443\\u043d\\u043a\\u0442\\u00a011.1 \\u0422\\u0440\\u0435\\u0431\\u043e\\u0432\\u0430\\u043d\\u0438\\u0439 \\u043a \\u0421\\u0411). \\u0411\\u0430\\u0437\\u043e\\u0432\\u044b\\u0439 \\u043d\\u0430\\u0431\\u043e\\u0440 \\u043c\\u0435\\u0440 \\u043f\\u043e\\u0434\\u043b\\u0435\\u0436\\u0438\\u0442 \\u0430\\u0434\\u0430\\u043f\\u0442\\u0430\\u0446\\u0438\\u0438 \\u0432 \\u0441\\u043e\\u043e\\u0442\\u0432\\u0435\\u0442\\u0441\\u0442\\u0432\\u0438\\u0438 \\u0441 \\u0430\\u043a\\u0442\\u0443\\u0430\\u043b\\u044c\\u043d\\u044b\\u043c\\u0438 \\u0434\\u043b\\u044f \\u0437\\u043d\\u0430\\u0447\\u0438\\u043c\\u043e\\u0433\\u043e \\u043e\\u0431\\u044a\\u0435\\u043a\\u0442\\u0430 \\u041a\\u0418\\u0418 \\u0423\\u0411\\u0418. \\u041f\\u0440\\u0438 \\u0430\\u0434\\u0430\\u043f\\u0442\\u0430\\u0446\\u0438\\u0438 \\u0431\\u0430\\u0437\\u043e\\u0432\\u043e\\u0433\\u043e \\u043d\\u0430\\u0431\\u043e\\u0440\\u0430 \\u043c\\u0435\\u0440 \\u0434\\u043b\\u044f \\u043a\\u0430\\u0436\\u0434\\u043e\\u0439 \\u0423\\u0411\\u0418, \\u0432\\u043a\\u043b\\u044e\\u0447\\u0435\\u043d\\u043d\\u043e\\u0439 \\u0432 \\u043c\\u043e\\u0434\\u0435\\u043b\\u044c \\u0443\\u0433\\u0440\\u043e\\u0437, \\u0441\\u043e\\u043f\\u043e\\u0441\\u0442\\u0430\\u0432\\u043b\\u044f\\u0435\\u0442\\u0441\\u044f \\u043c\\u0435\\u0440\\u0430 \\u0438\\u043b\\u0438 \\u0433\\u0440\\u0443\\u043f\\u043f\\u0430 \\u043c\\u0435\\u0440, \\u043e\\u0431\\u0435\\u0441\\u043f\\u0435\\u0447\\u0438\\u0432\\u0430\\u044e\\u0449\\u0438\\u0435 \\u0431\\u043b\\u043e\\u043a\\u0438\\u0440\\u043e\\u0432\\u0430\\u043d\\u0438\\u0435 \\u043e\\u0434\\u043d\\u043e\\u0439 \\u0438\\u043b\\u0438 \\u043d\\u0435\\u0441\\u043a\\u043e\\u043b\\u044c\\u043a\\u0438\\u0445 \\u0423\\u0411\\u0418 \\u0438\\u043b\\u0438 \\u0441\\u043d\\u0438\\u0436\\u0430\\u044e\\u0449\\u0438\\u0435 \\u0432\\u043e\\u0437\\u043c\\u043e\\u0436\\u043d\\u043e\\u0441\\u0442\\u044c \\u0435\\u0435 \\u0440\\u0435\\u0430\\u043b\\u0438\\u0437\\u0430\\u0446\\u0438\\u0438, \\u0438\\u0441\\u0445\\u043e\\u0434\\u044f \\u0438\\u0437 \\u0443\\u0441\\u043b\\u043e\\u0432\\u0438\\u0439 \\u0444\\u0443\\u043d\\u043a\\u0446\\u0438\\u043e\\u043d\\u0438\\u0440\\u043e\\u0432\\u0430\\u043d\\u0438\\u044f \\u0437\\u043d\\u0430\\u0447\\u0438\\u043c\\u043e\\u0433\\u043e \\u043e\\u0431\\u044a\\u0435\\u043a\\u0442\\u0430 \\u041a\\u0418\\u0418. \\u0412 \\u0441\\u043b\\u0443\\u0447\\u0430\\u0435 \\u0435\\u0441\\u043b\\u0438 \\u0431\\u0430\\u0437\\u043e\\u0432\\u044b\\u0439 \\u043d\\u0430\\u0431\\u043e\\u0440 \\u043c\\u0435\\u0440 \\u043d\\u0435 \\u043f\\u043e\\u0437\\u0432\\u043e\\u043b\\u044f\\u0435\\u0442 \\u043e\\u0431\\u0435\\u0441\\u043f\\u0435\\u0447\\u0438\\u0442\\u044c \\u0431\\u043b\\u043e\\u043a\\u0438\\u0440\\u043e\\u0432\\u0430\\u043d\\u0438\\u0435 (\\u043d\\u0435\\u0439\\u0442\\u0440\\u0430\\u043b\\u0438\\u0437\\u0430\\u0446\\u0438\\u044e) \\u0432\\u0441\\u0435\\u0445 \\u0423\\u0411\\u0418, \\u0432 \\u043d\\u0435\\u0433\\u043e \\u0434\\u043e\\u043f\\u043e\\u043b\\u043d\\u0438\\u0442\\u0435\\u043b\\u044c\\u043d\\u043e \\u0432\\u043a\\u043b\\u044e\\u0447\\u0430\\u044e\\u0442\\u0441\\u044f \\u043c\\u0435\\u0440\\u044b, \\u043f\\u0440\\u0438\\u0432\\u0435\\u0434\\u0435\\u043d\\u043d\\u044b\\u0435 \\u0432 \\u043f\\u0440\\u0438\\u043b\\u043e\\u0436\\u0435\\u043d\\u0438\\u0438 \\u043a \\u0422\\u0440\\u0435\\u0431\\u043e\\u0432\\u0430\\u043d\\u0438\\u044f\\u043c \\u043a \\u0421\\u0411.\\u0418\\u0437 \\u0432\\u044b\\u0448\\u0435\\u0441\\u043a\\u0430\\u0437\\u0430\\u043d\\u043d\\u043e\\u0433\\u043e \\u0441\\u043b\\u0435\\u0434\\u0443\\u0435\\u0442, \\u0447\\u0442\\u043e \\u043f\\u0435\\u0440\\u0432\\u043e\\u043d\\u0430\\u0447\\u0430\\u043b\\u044c\\u043d\\u043e\\u0435, \\u043d\\u043e \\u043d\\u0435 \\u043f\\u043e\\u043b\\u043d\\u043e\\u0435 \\u043c\\u043e\\u0434\\u0435\\u043b\\u0438\\u0440\\u043e\\u0432\\u0430\\u043d\\u0438\\u0435 \\u0443\\u0433\\u0440\\u043e\\u0437 \\u043f\\u0440\\u043e\\u0438\\u0441\\u0445\\u043e\\u0434\\u0438\\u0442 \\u043d\\u0430 \\u044d\\u0442\\u0430\\u043f\\u0435 \\u043a\\u0430\\u0442\\u0435\\u0433\\u043e\\u0440\\u0438\\u0440\\u043e\\u0432\\u0430\\u043d\\u0438\\u044f \\u043e\\u0431\\u044a\\u0435\\u043a\\u0442\\u043e\\u0432 \\u041a\\u0418\\u0418. \\u0420\\u0430\\u0437\\u0440\\u0430\\u0431\\u043e\\u0442\\u043a\\u0430 \\u043f\\u043e\\u043b\\u043d\\u043e\\u0446\\u0435\\u043d\\u043d\\u043e\\u0439 \\u043c\\u043e\\u0434\\u0435\\u043b\\u0438 \\u0443\\u0433\\u0440\\u043e\\u0437 \\u0441 \\u0443\\u0447\\u0435\\u0442\\u043e\\u043c \\u0432\\u0441\\u0435\\u0445 \\u043e\\u0441\\u043e\\u0431\\u0435\\u043d\\u043d\\u043e\\u0441\\u0442\\u0435\\u0439 \\u0437\\u043d\\u0430\\u0447\\u0438\\u043c\\u043e\\u0433\\u043e \\u043e\\u0431\\u044a\\u0435\\u043a\\u0442\\u0430 \\u041a\\u0418\\u0418 \\u043e\\u0441\\u0443\\u0449\\u0435\\u0441\\u0442\\u0432\\u043b\\u044f\\u0435\\u0442\\u0441\\u044f \\u043f\\u0440\\u0438 \\u043f\\u0440\\u043e\\u0435\\u043a\\u0442\\u0438\\u0440\\u043e\\u0432\\u0430\\u043d\\u0438\\u0438 \\u0421\\u041e\\u0418\\u0411 \\u0434\\u043b\\u044f \\u0442\\u0430\\u043a\\u043e\\u0433\\u043e \\u043e\\u0431\\u044a\\u0435\\u043a\\u0442\\u0430. \\u0422\\u043e \\u0435\\u0441\\u0442\\u044c \\u0440\\u0430\\u0437\\u0440\\u0430\\u0431\\u043e\\u0442\\u043a\\u0430 \\u043c\\u043e\\u0434\\u0435\\u043b\\u0438 \\u0423\\u0411\\u0418 \\u043d\\u0435 \\u0442\\u0440\\u0435\\u0431\\u0443\\u0435\\u0442\\u0441\\u044f \\u043d\\u0430 \\u043c\\u043e\\u043c\\u0435\\u043d\\u0442 \\u0444\\u043e\\u0440\\u043c\\u0438\\u0440\\u043e\\u0432\\u0430\\u043d\\u0438\\u044f \\u0442\\u0435\\u0445\\u043d\\u0438\\u0447\\u0435\\u0441\\u043a\\u043e\\u0433\\u043e \\u0437\\u0430\\u0434\\u0430\\u043d\\u0438\\u044f \\u043d\\u0430 \\u043f\\u0440\\u043e\\u0435\\u043a\\u0442\\u0438\\u0440\\u043e\\u0432\\u0430\\u043d\\u0438\\u0435 \\u0421\\u041e\\u0418\\u0411, \\u0430 \\u043e\\u0441\\u0443\\u0449\\u0435\\u0441\\u0442\\u0432\\u043b\\u044f\\u0435\\u0442\\u0441\\u044f \\u0443\\u0436\\u0435 \\u0432 \\u0440\\u0430\\u043c\\u043a\\u0430\\u0445 \\u0432\\u044b\\u043f\\u043e\\u043b\\u043d\\u0435\\u043d\\u0438\\u044f \\u0442\\u0435\\u0445\\u043d\\u0438\\u0447\\u0435\\u0441\\u043a\\u043e\\u0433\\u043e \\u0437\\u0430\\u0434\\u0430\\u043d\\u0438\\u044f (\\u043f\\u0440\\u043e\\u0435\\u043a\\u0442\\u0438\\u0440\\u043e\\u0432\\u0430\\u043d\\u0438\\u0435 \\u0421\\u041e\\u0418\\u0411 \\u0432 \\u0441\\u043e\\u043e\\u0442\\u0432\\u0435\\u0442\\u0441\\u0442\\u0432\\u0438\\u0438 \\u0441 \\u0442\\u0440\\u0435\\u0431\\u043e\\u0432\\u0430\\u043d\\u0438\\u044f\\u043c\\u0438 \\u0442\\u0435\\u0445\\u043d\\u0438\\u0447\\u0435\\u0441\\u043a\\u043e\\u0433\\u043e \\u0437\\u0430\\u0434\\u0430\\u043d\\u0438\\u044f).\",\n          \"\\u0434\\u0430, \\u0434\\u043e\\u043f\\u0443\\u0441\\u043a\\u0430\\u0435\\u0442\\u0441\\u044f, \\u043e\\u0434\\u043d\\u0430\\u043a\\u043e \\u0432 \\u043e\\u0442\\u043d\\u043e\\u0448\\u0435\\u043d\\u0438\\u0438 \\u0438\\u0441\\u043f\\u043e\\u043b\\u044c\\u0437\\u0443\\u0435\\u043c\\u044b\\u0445 \\u0444\\u0443\\u043d\\u043a\\u0446\\u0438\\u0439 \\u0437\\u0430\\u0449\\u0438\\u0442\\u044b \\u043d\\u0435\\u043e\\u0431\\u0445\\u043e\\u0434\\u0438\\u043c\\u043e \\u043f\\u0440\\u043e\\u0432\\u0435\\u0441\\u0442\\u0438 \\u043e\\u0446\\u0435\\u043d\\u043a\\u0443 \\u043d\\u0430 \\u0441\\u043e\\u043e\\u0442\\u0432\\u0435\\u0442\\u0441\\u0442\\u0432\\u0438\\u0435 \\u0442\\u0440\\u0435\\u0431\\u043e\\u0432\\u0430\\u043d\\u0438\\u044f\\u043c \\u043f\\u043e \\u0431\\u0435\\u0437\\u043e\\u043f\\u0430\\u0441\\u043d\\u043e\\u0441\\u0442\\u0438 \\u0432 \\u0444\\u043e\\u0440\\u043c\\u0430\\u0445 \\u0438\\u0441\\u043f\\u044b\\u0442\\u0430\\u043d\\u0438\\u0439 \\u0438\\u043b\\u0438 \\u043f\\u0440\\u0438\\u0435\\u043c\\u043a\\u0438. \\u0422\\u0440\\u0435\\u0431\\u043e\\u0432\\u0430\\u043d\\u0438\\u044f \\u043e \\u043f\\u0440\\u0438\\u043c\\u0435\\u043d\\u0435\\u043d\\u0438\\u0438 \\u0441\\u0440\\u0435\\u0434\\u0441\\u0442\\u0432 \\u0437\\u0430\\u0449\\u0438\\u0442\\u044b \\u0438\\u043d\\u0444\\u043e\\u0440\\u043c\\u0430\\u0446\\u0438\\u0438 (\\u0432\\u0441\\u0442\\u0440\\u043e\\u0435\\u043d\\u043d\\u044b\\u0445 \\u0444\\u0443\\u043d\\u043a\\u0446\\u0438\\u0439 \\u0437\\u0430\\u0449\\u0438\\u0442\\u044b, \\u0434\\u0430\\u043b\\u0435\\u0435 \\u2013 \\u0421\\u0440\\u0417\\u0418), \\u043f\\u0440\\u043e\\u0448\\u0435\\u0434\\u0448\\u0438\\u0445 \\u043e\\u0446\\u0435\\u043d\\u043a\\u0443 \\u043d\\u0430 \\u0441\\u043e\\u043e\\u0442\\u0432\\u0435\\u0442\\u0441\\u0442\\u0432\\u0438\\u0435 \\u0442\\u0440\\u0435\\u0431\\u043e\\u0432\\u0430\\u043d\\u0438\\u044f\\u043c \\u043f\\u043e \\u0431\\u0435\\u0437\\u043e\\u043f\\u0430\\u0441\\u043d\\u043e\\u0441\\u0442\\u0438 \\u0432 \\u0444\\u043e\\u0440\\u043c\\u0430\\u0445 \\u043e\\u0431\\u044f\\u0437\\u0430\\u0442\\u0435\\u043b\\u044c\\u043d\\u043e\\u0439 \\u0441\\u0435\\u0440\\u0442\\u0438\\u0444\\u0438\\u043a\\u0430\\u0446\\u0438\\u0438, \\u0438\\u0441\\u043f\\u044b\\u0442\\u0430\\u043d\\u0438\\u0439 \\u0438\\u043b\\u0438 \\u043f\\u0440\\u0438\\u0435\\u043c\\u043a\\u0438, \\u0443\\u0441\\u0442\\u0430\\u043d\\u043e\\u0432\\u043b\\u0435\\u043d\\u044b \\u0432 \\u0422\\u0440\\u0435\\u0431\\u043e\\u0432\\u0430\\u043d\\u0438\\u044f\\u0445 \\u043f\\u043e \\u043e\\u0431\\u0435\\u0441\\u043f\\u0435\\u0447\\u0435\\u043d\\u0438\\u044e \\u0431\\u0435\\u0437\\u043e\\u043f\\u0430\\u0441\\u043d\\u043e\\u0441\\u0442\\u0438 \\u0437\\u043d\\u0430\\u0447\\u0438\\u043c\\u044b\\u0445 \\u043e\\u0431\\u044a\\u0435\\u043a\\u0442\\u043e\\u0432 \\u043a\\u0440\\u0438\\u0442\\u0438\\u0447\\u0435\\u0441\\u043a\\u043e\\u0439 \\u0438\\u043d\\u0444\\u043e\\u0440\\u043c\\u0430\\u0446\\u0438\\u043e\\u043d\\u043d\\u043e\\u0439 \\u0438\\u043d\\u0444\\u0440\\u0430\\u0441\\u0442\\u0440\\u0443\\u043a\\u0442\\u0443\\u0440\\u044b (\\u0434\\u0430\\u043b\\u0435\\u0435 \\u2013 \\u041a\\u0418\\u0418), \\u0443\\u0442\\u0432\\u0435\\u0440\\u0436\\u0434\\u0435\\u043d\\u043d\\u044b\\u0445\\u043f\\u0440\\u0438\\u043a\\u0430\\u0437\\u043e\\u043c \\u0424\\u0421\\u0422\\u042d\\u041a \\u0420\\u043e\\u0441\\u0441\\u0438\\u0438 \\u043e\\u0442 25.12.2017 \\u2116 239(\\u0434\\u0430\\u043b\\u0435\\u0435 \\u2013 \\u0422\\u0440\\u0435\\u0431\\u043e\\u0432\\u0430\\u043d\\u0438\\u044f \\u043a \\u0421\\u0411).\\u041e\\u0446\\u0435\\u043d\\u043a\\u0430 \\u0441\\u043e\\u043e\\u0442\\u0432\\u0435\\u0442\\u0441\\u0442\\u0432\\u0438\\u044f \\u0432 \\u0444\\u043e\\u0440\\u043c\\u0435 \\u0438\\u0441\\u043f\\u044b\\u0442\\u0430\\u043d\\u0438\\u0439 \\u0438\\u043b\\u0438 \\u043f\\u0440\\u0438\\u0435\\u043c\\u043a\\u0438 \\u043f\\u0440\\u043e\\u0432\\u043e\\u0434\\u0438\\u0442\\u0441\\u044f \\u0441\\u0443\\u0431\\u044a\\u0435\\u043a\\u0442\\u0430\\u043c\\u0438 \\u041a\\u0418\\u0418 \\u0441\\u0430\\u043c\\u043e\\u0441\\u0442\\u043e\\u044f\\u0442\\u0435\\u043b\\u044c\\u043d\\u043e \\u0438\\u043b\\u0438 \\u0441 \\u043f\\u0440\\u0438\\u0432\\u043b\\u0435\\u0447\\u0435\\u043d\\u0438\\u0435\\u043c \\u043e\\u0440\\u0433\\u0430\\u043d\\u0438\\u0437\\u0430\\u0446\\u0438\\u0439, \\u0438\\u043c\\u0435\\u044e\\u0449\\u0438\\u0445 \\u0432 \\u0441\\u043e\\u043e\\u0442\\u0432\\u0435\\u0442\\u0441\\u0442\\u0432\\u0438\\u0438 \\u0441 \\u0437\\u0430\\u043a\\u043e\\u043d\\u043e\\u0434\\u0430\\u0442\\u0435\\u043b\\u044c\\u0441\\u0442\\u0432\\u043e\\u043c \\u0420\\u043e\\u0441\\u0441\\u0438\\u0439\\u0441\\u043a\\u043e\\u0439 \\u0424\\u0435\\u0434\\u0435\\u0440\\u0430\\u0446\\u0438\\u0438 \\u043b\\u0438\\u0446\\u0435\\u043d\\u0437\\u0438\\u0438 \\u043d\\u0430 \\u0434\\u0435\\u044f\\u0442\\u0435\\u043b\\u044c\\u043d\\u043e\\u0441\\u0442\\u044c \\u0432 \\u043e\\u0431\\u043b\\u0430\\u0441\\u0442\\u0438 \\u0437\\u0430\\u0449\\u0438\\u0442\\u044b \\u0438\\u043d\\u0444\\u043e\\u0440\\u043c\\u0430\\u0446\\u0438\\u0438.\\u041f\\u0440\\u0438 \\u044d\\u0442\\u043e\\u043c \\u0434\\u043b\\u044f \\u0444\\u0443\\u043d\\u043a\\u0446\\u0438\\u0439 \\u0431\\u0435\\u0437\\u043e\\u043f\\u0430\\u0441\\u043d\\u043e\\u0441\\u0442\\u0438, \\u0432\\u0441\\u0442\\u0440\\u043e\\u0435\\u043d\\u043d\\u044b\\u0445 \\u0432 \\u043f\\u0440\\u0438\\u043a\\u043b\\u0430\\u0434\\u043d\\u043e\\u0435 \\u0438\\u043b\\u0438 \\u043e\\u0431\\u0449\\u0435\\u0441\\u0438\\u0441\\u0442\\u0435\\u043c\\u043d\\u043e\\u0435 \\u043f\\u0440\\u043e\\u0433\\u0440\\u0430\\u043c\\u043c\\u043d\\u043e\\u0435 \\u043e\\u0431\\u0435\\u0441\\u043f\\u0435\\u0447\\u0435\\u043d\\u0438\\u0435 (\\u0434\\u0430\\u043b\\u0435\\u0435 \\u2013 \\u041f\\u041e), \\u043d\\u0435 \\u0442\\u0440\\u0435\\u0431\\u0443\\u0435\\u0442\\u0441\\u044f \\u043f\\u0440\\u043e\\u0432\\u043e\\u0434\\u0438\\u0442\\u044c \\u0434\\u043e\\u043f\\u043e\\u043b\\u043d\\u0438\\u0442\\u0435\\u043b\\u044c\\u043d\\u0443\\u044e \\u043e\\u0446\\u0435\\u043d\\u043a\\u0443 \\u0441\\u043e\\u043e\\u0442\\u0432\\u0435\\u0442\\u0441\\u0442\\u0432\\u0438\\u044f \\u043f\\u043e \\u043e\\u0446\\u0435\\u043d\\u043e\\u0447\\u043d\\u043e\\u043c\\u0443 \\u0443\\u0440\\u043e\\u0432\\u043d\\u044e \\u0434\\u043e\\u0432\\u0435\\u0440\\u0438\\u044f. \\u0422\\u0440\\u0435\\u0431\\u043e\\u0432\\u0430\\u043d\\u0438\\u044f \\u043a \\u0441\\u043e\\u043e\\u0442\\u0432\\u0435\\u0442\\u0441\\u0442\\u0432\\u0438\\u044e 6 \\u0438\\u043b\\u0438 \\u0431\\u043e\\u043b\\u0435\\u0435 \\u0432\\u044b\\u0441\\u043e\\u043a\\u043e\\u043c\\u0443 \\u0443\\u0440\\u043e\\u0432\\u043d\\u044e \\u0434\\u043e\\u0432\\u0435\\u0440\\u0438\\u044f \\u043f\\u0440\\u0435\\u0434\\u044a\\u044f\\u0432\\u043b\\u044f\\u044e\\u0442\\u0441\\u044f \\u0442\\u043e\\u043b\\u044c\\u043a\\u043e \\u043a \\u0441\\u0435\\u0440\\u0442\\u0438\\u0444\\u0438\\u0446\\u0438\\u0440\\u043e\\u0432\\u0430\\u043d\\u043d\\u044b\\u043c \\u0421\\u0440\\u0417\\u0418, \\u0430 \\u0442\\u0430\\u043a\\u0436\\u0435 \\u043d\\u0435 \\u0432\\u0441\\u0442\\u0440\\u043e\\u0435\\u043d\\u043d\\u044b\\u043c \\u0432 \\u043e\\u0431\\u0449\\u0435\\u0441\\u0438\\u0441\\u0442\\u0435\\u043c\\u043d\\u043e\\u0435 \\u0438\\u043b\\u0438 \\u043f\\u0440\\u0438\\u043a\\u043b\\u0430\\u0434\\u043d\\u043e\\u0435 \\u041f\\u041e, \\u0442\\u0430\\u043a \\u043d\\u0430\\u0437\\u044b\\u0432\\u0430\\u0435\\u043c\\u044b\\u0435 \\u043d\\u0430\\u043b\\u043e\\u0436\\u0435\\u043d\\u043d\\u044b\\u0435 (\\u043f\\u0443\\u043d\\u043a\\u0442\\u044b\\u00a029 \\u0438 29.2 \\u0422\\u0440\\u0435\\u0431\\u043e\\u0432\\u0430\\u043d\\u0438\\u0439 \\u043a \\u0421\\u0411).\\u0422\\u0430\\u043a\\u0438\\u043c \\u043e\\u0431\\u0440\\u0430\\u0437\\u043e\\u043c, \\u0432 \\u0441\\u043b\\u0443\\u0447\\u0430\\u0435 \\u043f\\u0440\\u0438\\u043c\\u0435\\u043d\\u0435\\u043d\\u0438\\u044f \\u0432\\u0441\\u0442\\u0440\\u043e\\u0435\\u043d\\u043d\\u044b\\u0445 \\u0432 \\u043e\\u0431\\u0449\\u0435\\u0441\\u0438\\u0441\\u0442\\u0435\\u043c\\u043d\\u043e\\u0435 \\u0438\\u043b\\u0438 \\u043f\\u0440\\u0438\\u043a\\u043b\\u0430\\u0434\\u043d\\u043e\\u0435 \\u041f\\u041e \\u0444\\u0443\\u043d\\u043a\\u0446\\u0438\\u0439 \\u0431\\u0435\\u0437\\u043e\\u043f\\u0430\\u0441\\u043d\\u043e\\u0441\\u0442\\u0438, \\u043d\\u0435\\u043e\\u0431\\u0445\\u043e\\u0434\\u0438\\u043c\\u043e \\u043f\\u0440\\u043e\\u0432\\u0435\\u0441\\u0442\\u0438 \\u0432 \\u043e\\u0442\\u043d\\u043e\\u0448\\u0435\\u043d\\u0438\\u0438 \\u043d\\u0438\\u0445 \\u043e\\u0446\\u0435\\u043d\\u043a\\u0443 \\u043d\\u0430 \\u0441\\u043e\\u043e\\u0442\\u0432\\u0435\\u0442\\u0441\\u0442\\u0432\\u0438\\u0435 \\u0442\\u0440\\u0435\\u0431\\u043e\\u0432\\u0430\\u043d\\u0438\\u044f\\u043c \\u0431\\u0435\\u0437\\u043e\\u043f\\u0430\\u0441\\u043d\\u043e\\u0441\\u0442\\u0438 \\u0432 \\u0444\\u043e\\u0440\\u043c\\u0435 \\u0438\\u0441\\u043f\\u044b\\u0442\\u0430\\u043d\\u0438\\u0439 \\u0438\\u043b\\u0438 \\u043f\\u0440\\u0438\\u0435\\u043c\\u043a\\u0438, \\u043d\\u043e \\u043d\\u0435 \\u0442\\u0440\\u0435\\u0431\\u0443\\u0435\\u0442\\u0441\\u044f \\u043f\\u0440\\u043e\\u0432\\u0435\\u0434\\u0435\\u043d\\u0438\\u0435 \\u0434\\u043e\\u043f\\u043e\\u043b\\u043d\\u0438\\u0442\\u0435\\u043b\\u044c\\u043d\\u044b\\u0445 \\u043c\\u0435\\u0440\\u043e\\u043f\\u0440\\u0438\\u044f\\u0442\\u0438\\u0439, \\u043f\\u043e\\u0434\\u0442\\u0432\\u0435\\u0440\\u0436\\u0434\\u0430\\u044e\\u0449\\u0438\\u0445 \\u0441\\u043e\\u043e\\u0442\\u0432\\u0435\\u0442\\u0441\\u0442\\u0432\\u0438\\u0435 \\u0442\\u0430\\u043a\\u043e\\u0433\\u043e \\u0421\\u0440\\u0417\\u0418 \\u043f\\u043e \\u043e\\u0446\\u0435\\u043d\\u043e\\u0447\\u043d\\u043e\\u043c\\u0443 \\u0443\\u0440\\u043e\\u0432\\u043d\\u044e \\u0434\\u043e\\u0432\\u0435\\u0440\\u0438\\u044f.\"\n        ],\n        \"semantic_type\": \"\",\n        \"description\": \"\"\n      }\n    },\n    {\n      \"column\": \"LLM_Answer\",\n      \"properties\": {\n        \"dtype\": \"string\",\n        \"num_unique_values\": 3,\n        \"samples\": [\n          \"\\u0412 \\u0437\\u043d\\u0430\\u0447\\u0438\\u043c\\u043e\\u043c \\u043e\\u0431\\u044a\\u0435\\u043a\\u0442\\u0435 \\u043d\\u0435 \\u0434\\u043e\\u043f\\u0443\\u0441\\u043a\\u0430\\u0435\\u0442\\u0441\\u044f \\u043d\\u0430\\u043b\\u0438\\u0447\\u0438\\u0435 \\u0443\\u0434\\u0430\\u043b\\u0435\\u043d\\u043d\\u043e\\u0433\\u043e \\u0434\\u043e\\u0441\\u0442\\u0443\\u043f\\u0430 \\u043a \\u043f\\u0440\\u043e\\u0433\\u0440\\u0430\\u043c\\u043c\\u043d\\u044b\\u043c \\u0438 \\u043f\\u0440\\u043e\\u0433\\u0440\\u0430\\u043c\\u043c\\u043d\\u043e-\\u0430\\u043f\\u043f\\u0430\\u0440\\u0430\\u0442\\u043d\\u044b\\u043c \\u0441\\u0440\\u0435\\u0434\\u0441\\u0442\\u0432\\u0430\\u043c, \\u0432 \\u0442\\u043e\\u043c \\u0447\\u0438\\u0441\\u043b\\u0435 \\u0441\\u0440\\u0435\\u0434\\u0441\\u0442\\u0432\\u0430\\u043c \\u0437\\u0430\\u0449\\u0438\\u0442\\u044b \\u0438\\u043d\\u0444\\u043e\\u0440\\u043c\\u0430\\u0446\\u0438\\u0438, \\u0434\\u043b\\u044f \\u043e\\u0431\\u043d\\u043e\\u0432\\u043b\\u0435\\u043d\\u0438\\u044f \\u0438\\u043b\\u0438 \\u0443\\u043f\\u0440\\u0430\\u0432\\u043b\\u0435\\u043d\\u0438\\u044f \\u0441\\u043e \\u0441\\u0442\\u043e\\u0440\\u043e\\u043d\\u044b \\u043b\\u0438\\u0446, \\u043d\\u0435 \\u044f\\u0432\\u043b\\u044f\\u044e\\u0449\\u0438\\u0445\\u0441\\u044f \\u0440\\u0430\\u0431\\u043e\\u0442\\u043d\\u0438\\u043a\\u0430\\u043c\\u0438 \\u0441\\u0443\\u0431\\u044a\\u0435\\u043a\\u0442\\u0430 \\u043a\\u0440\\u0438\\u0442\\u0438\\u0447\\u0435\\u0441\\u043a\\u043e\\u0439 \\u0438\\u043d\\u0444\\u043e\\u0440\\u043c\\u0430\\u0446\\u0438\\u043e\\u043d\\u043d\\u043e\\u0439 \\u0438\\u043d\\u0444\\u0440\\u0430\\u0441\\u0442\\u0440\\u0443\\u043a\\u0442\\u0443\\u0440\\u044b.\",\n          \"\\u041c\\u043e\\u0434\\u0435\\u043b\\u0438\\u0440\\u043e\\u0432\\u0430\\u043d\\u0438\\u0435 \\u0443\\u0433\\u0440\\u043e\\u0437 \\u0434\\u043e\\u043b\\u0436\\u043d\\u043e \\u0432\\u044b\\u043f\\u043e\\u043b\\u043d\\u044f\\u0442\\u044c\\u0441\\u044f \\u0434\\u043e \\u0440\\u0430\\u0437\\u0440\\u0430\\u0431\\u043e\\u0442\\u043a\\u0438 \\u0442\\u0435\\u0445\\u043d\\u0438\\u0447\\u0435\\u0441\\u043a\\u043e\\u0433\\u043e \\u0437\\u0430\\u0434\\u0430\\u043d\\u0438\\u044f \\u043d\\u0430 \\u0441\\u0438\\u0441\\u0442\\u0435\\u043c\\u0443 \\u043e\\u0431\\u0435\\u0441\\u043f\\u0435\\u0447\\u0435\\u043d\\u0438\\u044f \\u0438\\u043d\\u0444\\u043e\\u0440\\u043c\\u0430\\u0446\\u0438\\u043e\\u043d\\u043d\\u043e\\u0439 \\u0431\\u0435\\u0437\\u043e\\u043f\\u0430\\u0441\\u043d\\u043e\\u0441\\u0442\\u0438 (\\u0421\\u041e\\u0418\\u0411).\",\n          \"\\u041d\\u0435 \\u0437\\u043d\\u0430\\u044e\"\n        ],\n        \"semantic_type\": \"\",\n        \"description\": \"\"\n      }\n    },\n    {\n      \"column\": \"rouge1\",\n      \"properties\": {\n        \"dtype\": \"category\",\n        \"num_unique_values\": 1,\n        \"samples\": [\n          [\n            0.0,\n            0.0,\n            0.0\n          ]\n        ],\n        \"semantic_type\": \"\",\n        \"description\": \"\"\n      }\n    },\n    {\n      \"column\": \"rouge2\",\n      \"properties\": {\n        \"dtype\": \"category\",\n        \"num_unique_values\": 1,\n        \"samples\": [\n          [\n            0.0,\n            0.0,\n            0.0\n          ]\n        ],\n        \"semantic_type\": \"\",\n        \"description\": \"\"\n      }\n    },\n    {\n      \"column\": \"rougeL\",\n      \"properties\": {\n        \"dtype\": \"category\",\n        \"num_unique_values\": 1,\n        \"samples\": [\n          [\n            0,\n            0,\n            0\n          ]\n        ],\n        \"semantic_type\": \"\",\n        \"description\": \"\"\n      }\n    }\n  ]\n}"
            }
          },
          "metadata": {},
          "execution_count": 22
        }
      ]
    },
    {
      "cell_type": "markdown",
      "source": [
        "#Семантическая похожесть на основе Sentence Transformers"
      ],
      "metadata": {
        "id": "GX4X-EHbLGKa"
      }
    },
    {
      "cell_type": "markdown",
      "source": [
        "##Опора"
      ],
      "metadata": {
        "id": "uOYsgdXdsZKx"
      }
    },
    {
      "cell_type": "code",
      "source": [
        "from transformers import BertTokenizer, BertModel\n",
        "import torch\n",
        "from sklearn.metrics.pairwise import cosine_similarity"
      ],
      "metadata": {
        "id": "XDaHBfHtLLcs"
      },
      "execution_count": 23,
      "outputs": []
    },
    {
      "cell_type": "code",
      "source": [
        "# Load the BERT tokenizer and model\n",
        "tokenizer = BertTokenizer.from_pretrained('bert-base-uncased')\n",
        "model = BertModel.from_pretrained('bert-base-uncased')"
      ],
      "metadata": {
        "id": "2vugVpQwLO9b"
      },
      "execution_count": null,
      "outputs": []
    },
    {
      "cell_type": "code",
      "source": [
        "# Example sentences (already preprocessed)\n",
        "tokens1 = [\"[CLS]\", \"i\", \"like\", \"coding\", \"in\", \"python\", \".\", \"[SEP]\"]\n",
        "tokens2 = [\"[CLS]\", \"python\", \"is\", \"my\", \"favorite\", \"programming\", \"language\", \".\", \"[SEP]\"]\n"
      ],
      "metadata": {
        "id": "u_x4CaZfLQ5S"
      },
      "execution_count": null,
      "outputs": []
    },
    {
      "cell_type": "code",
      "source": [
        "# Convert tokens to input IDs\n",
        "input_ids1 = torch.tensor(tokenizer.convert_tokens_to_ids(tokens1)).unsqueeze(0)  # Batch size 1\n",
        "input_ids2 = torch.tensor(tokenizer.convert_tokens_to_ids(tokens2)).unsqueeze(0)  # Batch size 1"
      ],
      "metadata": {
        "id": "49banQfkPJzU"
      },
      "execution_count": null,
      "outputs": []
    },
    {
      "cell_type": "code",
      "source": [
        "# Obtain the BERT embeddings\n",
        "with torch.no_grad():\n",
        "    t_outputs1 = model(t_input_ids1)\n",
        "    t_outputs2 = model(t_input_ids2)\n",
        "    t_embeddings1 = t_outputs1.last_hidden_state[:, 0, :]  # [CLS] token\n",
        "    t_embeddings2 = t_outputs2.last_hidden_state[:, 0, :]  # [CLS] token\n"
      ],
      "metadata": {
        "id": "RPB2Q7VtWsAN"
      },
      "execution_count": null,
      "outputs": []
    },
    {
      "cell_type": "code",
      "source": [
        "# Calculate similarity\n",
        "t_similarity_score = cosine_similarity(t_embeddings1, t_embeddings2)\n",
        "print(\"Similarity Score:\", t_similarity_score)"
      ],
      "metadata": {
        "id": "QqNsxmygW7WD"
      },
      "execution_count": null,
      "outputs": []
    },
    {
      "cell_type": "markdown",
      "source": [
        "##Реализация"
      ],
      "metadata": {
        "id": "izwCASA9EJqw"
      }
    },
    {
      "cell_type": "code",
      "source": [
        "from transformers import AutoTokenizer, AutoModel\n",
        "import torch\n",
        "from sklearn.metrics.pairwise import cosine_similarity"
      ],
      "metadata": {
        "id": "F7LDlhR0EJTn"
      },
      "execution_count": 24,
      "outputs": []
    },
    {
      "cell_type": "code",
      "source": [
        "# Load the BERT tokenizer and model\n",
        "tokenizer = AutoTokenizer.from_pretrained(\"deepvk/USER-bge-m3\")\n",
        "model = AutoModel.from_pretrained(\"deepvk/USER-bge-m3\")"
      ],
      "metadata": {
        "id": "KbAvNun-EgQH"
      },
      "execution_count": 25,
      "outputs": []
    },
    {
      "cell_type": "code",
      "source": [
        "# Example sentences (already preprocessed)\n",
        "tokens_answer = []\n",
        "for e in range(len(answers)):\n",
        "  tokens_answer.append(answers[e].split())\n",
        "\n",
        "tokens_message = []\n",
        "for e in range(len(message)):\n",
        "  tokens_message.append(message[e].split())"
      ],
      "metadata": {
        "collapsed": true,
        "id": "_4IJYo65EgQI"
      },
      "execution_count": 26,
      "outputs": []
    },
    {
      "cell_type": "code",
      "source": [
        "# Convert tokens to input IDs\n",
        "input_ids_messages = []\n",
        "input_ids_answers = []\n",
        "\n",
        "for e in range(len(tokens_answer)):\n",
        "  input_ids_messages.append(torch.tensor(tokenizer.convert_tokens_to_ids(tokens_message[e])).unsqueeze(0))  # Batch size 1\n",
        "  input_ids_answers.append(torch.tensor(tokenizer.convert_tokens_to_ids(tokens_answer[e])).unsqueeze(0))  # Batch size 1"
      ],
      "metadata": {
        "id": "VikAGKZpEgQI"
      },
      "execution_count": 27,
      "outputs": []
    },
    {
      "cell_type": "code",
      "source": [
        "# Obtain the BERT embeddings\n",
        "outputs_messages = []\n",
        "outputs_answers = []\n",
        "embeddings_messages = []\n",
        "embeddings_answers = []\n",
        "with torch.no_grad():\n",
        "    for e in range(len(tokens_answer)):\n",
        "      outputs_messages.append(model(input_ids_messages[e]))\n",
        "      outputs_answers.append(model(input_ids_answers[e]))\n",
        "      embeddings_messages.append(outputs_messages[e].last_hidden_state[:, 0, :])  # [CLS] token\n",
        "      embeddings_answers.append(outputs_answers[e].last_hidden_state[:, 0, :])  # [CLS] token"
      ],
      "metadata": {
        "id": "EjSeiT73EgQI"
      },
      "execution_count": 28,
      "outputs": []
    },
    {
      "cell_type": "code",
      "source": [
        "# Calculate similarity\n",
        "similarity_score = []\n",
        "i = 0\n",
        "average_similarity_score = 0\n",
        "df_sim_score = pd.DataFrame(columns=['Answer', 'LLM_Answer', 'Similarity Score'])\n",
        "for e in range(len(tokens_answer)):\n",
        "  similarity_score.append(cosine_similarity(embeddings_messages[e], embeddings_answers[e]))\n",
        "  average_similarity_score += similarity_score[e]\n",
        "  i +=1\n",
        "  new_row = {'Answer': answers[e], 'LLM_Answer': message[e], 'Similarity Score': similarity_score[e]}\n",
        "  df_sim_score = pd.concat([df_sim_score, pd.DataFrame([new_row])], ignore_index=True)\n",
        "print(\"Average Similarity Score = \", average_similarity_score / i)\n",
        "df_sim_score"
      ],
      "metadata": {
        "colab": {
          "base_uri": "https://localhost:8080/",
          "height": 161
        },
        "outputId": "fb5afe54-e719-4beb-add9-9f0ee9c997b8",
        "id": "_anMaa-SEgQI"
      },
      "execution_count": 29,
      "outputs": [
        {
          "output_type": "stream",
          "name": "stdout",
          "text": [
            "Average Similarity Score =  [[0.41952765]]\n"
          ]
        },
        {
          "output_type": "execute_result",
          "data": {
            "text/plain": [
              "                                              Answer  \\\n",
              "0  прямые ограничения по допуску иностранных граж...   \n",
              "1  первичное моделирование угроз безопасности инф...   \n",
              "2  да, допускается, однако в отношении используем...   \n",
              "\n",
              "                                          LLM_Answer Similarity Score  \n",
              "0  В значимом объекте не допускается наличие удал...    [[0.1976471]]  \n",
              "1  Моделирование угроз должно выполняться до разр...   [[0.63362443]]  \n",
              "2                                            Не знаю   [[0.42731145]]  "
            ],
            "text/html": [
              "\n",
              "  <div id=\"df-4ff35cb1-0e0f-4191-b8db-0b0b06b04847\" class=\"colab-df-container\">\n",
              "    <div>\n",
              "<style scoped>\n",
              "    .dataframe tbody tr th:only-of-type {\n",
              "        vertical-align: middle;\n",
              "    }\n",
              "\n",
              "    .dataframe tbody tr th {\n",
              "        vertical-align: top;\n",
              "    }\n",
              "\n",
              "    .dataframe thead th {\n",
              "        text-align: right;\n",
              "    }\n",
              "</style>\n",
              "<table border=\"1\" class=\"dataframe\">\n",
              "  <thead>\n",
              "    <tr style=\"text-align: right;\">\n",
              "      <th></th>\n",
              "      <th>Answer</th>\n",
              "      <th>LLM_Answer</th>\n",
              "      <th>Similarity Score</th>\n",
              "    </tr>\n",
              "  </thead>\n",
              "  <tbody>\n",
              "    <tr>\n",
              "      <th>0</th>\n",
              "      <td>прямые ограничения по допуску иностранных граж...</td>\n",
              "      <td>В значимом объекте не допускается наличие удал...</td>\n",
              "      <td>[[0.1976471]]</td>\n",
              "    </tr>\n",
              "    <tr>\n",
              "      <th>1</th>\n",
              "      <td>первичное моделирование угроз безопасности инф...</td>\n",
              "      <td>Моделирование угроз должно выполняться до разр...</td>\n",
              "      <td>[[0.63362443]]</td>\n",
              "    </tr>\n",
              "    <tr>\n",
              "      <th>2</th>\n",
              "      <td>да, допускается, однако в отношении используем...</td>\n",
              "      <td>Не знаю</td>\n",
              "      <td>[[0.42731145]]</td>\n",
              "    </tr>\n",
              "  </tbody>\n",
              "</table>\n",
              "</div>\n",
              "    <div class=\"colab-df-buttons\">\n",
              "\n",
              "  <div class=\"colab-df-container\">\n",
              "    <button class=\"colab-df-convert\" onclick=\"convertToInteractive('df-4ff35cb1-0e0f-4191-b8db-0b0b06b04847')\"\n",
              "            title=\"Convert this dataframe to an interactive table.\"\n",
              "            style=\"display:none;\">\n",
              "\n",
              "  <svg xmlns=\"http://www.w3.org/2000/svg\" height=\"24px\" viewBox=\"0 -960 960 960\">\n",
              "    <path d=\"M120-120v-720h720v720H120Zm60-500h600v-160H180v160Zm220 220h160v-160H400v160Zm0 220h160v-160H400v160ZM180-400h160v-160H180v160Zm440 0h160v-160H620v160ZM180-180h160v-160H180v160Zm440 0h160v-160H620v160Z\"/>\n",
              "  </svg>\n",
              "    </button>\n",
              "\n",
              "  <style>\n",
              "    .colab-df-container {\n",
              "      display:flex;\n",
              "      gap: 12px;\n",
              "    }\n",
              "\n",
              "    .colab-df-convert {\n",
              "      background-color: #E8F0FE;\n",
              "      border: none;\n",
              "      border-radius: 50%;\n",
              "      cursor: pointer;\n",
              "      display: none;\n",
              "      fill: #1967D2;\n",
              "      height: 32px;\n",
              "      padding: 0 0 0 0;\n",
              "      width: 32px;\n",
              "    }\n",
              "\n",
              "    .colab-df-convert:hover {\n",
              "      background-color: #E2EBFA;\n",
              "      box-shadow: 0px 1px 2px rgba(60, 64, 67, 0.3), 0px 1px 3px 1px rgba(60, 64, 67, 0.15);\n",
              "      fill: #174EA6;\n",
              "    }\n",
              "\n",
              "    .colab-df-buttons div {\n",
              "      margin-bottom: 4px;\n",
              "    }\n",
              "\n",
              "    [theme=dark] .colab-df-convert {\n",
              "      background-color: #3B4455;\n",
              "      fill: #D2E3FC;\n",
              "    }\n",
              "\n",
              "    [theme=dark] .colab-df-convert:hover {\n",
              "      background-color: #434B5C;\n",
              "      box-shadow: 0px 1px 3px 1px rgba(0, 0, 0, 0.15);\n",
              "      filter: drop-shadow(0px 1px 2px rgba(0, 0, 0, 0.3));\n",
              "      fill: #FFFFFF;\n",
              "    }\n",
              "  </style>\n",
              "\n",
              "    <script>\n",
              "      const buttonEl =\n",
              "        document.querySelector('#df-4ff35cb1-0e0f-4191-b8db-0b0b06b04847 button.colab-df-convert');\n",
              "      buttonEl.style.display =\n",
              "        google.colab.kernel.accessAllowed ? 'block' : 'none';\n",
              "\n",
              "      async function convertToInteractive(key) {\n",
              "        const element = document.querySelector('#df-4ff35cb1-0e0f-4191-b8db-0b0b06b04847');\n",
              "        const dataTable =\n",
              "          await google.colab.kernel.invokeFunction('convertToInteractive',\n",
              "                                                    [key], {});\n",
              "        if (!dataTable) return;\n",
              "\n",
              "        const docLinkHtml = 'Like what you see? Visit the ' +\n",
              "          '<a target=\"_blank\" href=https://colab.research.google.com/notebooks/data_table.ipynb>data table notebook</a>'\n",
              "          + ' to learn more about interactive tables.';\n",
              "        element.innerHTML = '';\n",
              "        dataTable['output_type'] = 'display_data';\n",
              "        await google.colab.output.renderOutput(dataTable, element);\n",
              "        const docLink = document.createElement('div');\n",
              "        docLink.innerHTML = docLinkHtml;\n",
              "        element.appendChild(docLink);\n",
              "      }\n",
              "    </script>\n",
              "  </div>\n",
              "\n",
              "\n",
              "<div id=\"df-d30dce64-d21c-4c28-acd7-263f973d2dd1\">\n",
              "  <button class=\"colab-df-quickchart\" onclick=\"quickchart('df-d30dce64-d21c-4c28-acd7-263f973d2dd1')\"\n",
              "            title=\"Suggest charts\"\n",
              "            style=\"display:none;\">\n",
              "\n",
              "<svg xmlns=\"http://www.w3.org/2000/svg\" height=\"24px\"viewBox=\"0 0 24 24\"\n",
              "     width=\"24px\">\n",
              "    <g>\n",
              "        <path d=\"M19 3H5c-1.1 0-2 .9-2 2v14c0 1.1.9 2 2 2h14c1.1 0 2-.9 2-2V5c0-1.1-.9-2-2-2zM9 17H7v-7h2v7zm4 0h-2V7h2v10zm4 0h-2v-4h2v4z\"/>\n",
              "    </g>\n",
              "</svg>\n",
              "  </button>\n",
              "\n",
              "<style>\n",
              "  .colab-df-quickchart {\n",
              "      --bg-color: #E8F0FE;\n",
              "      --fill-color: #1967D2;\n",
              "      --hover-bg-color: #E2EBFA;\n",
              "      --hover-fill-color: #174EA6;\n",
              "      --disabled-fill-color: #AAA;\n",
              "      --disabled-bg-color: #DDD;\n",
              "  }\n",
              "\n",
              "  [theme=dark] .colab-df-quickchart {\n",
              "      --bg-color: #3B4455;\n",
              "      --fill-color: #D2E3FC;\n",
              "      --hover-bg-color: #434B5C;\n",
              "      --hover-fill-color: #FFFFFF;\n",
              "      --disabled-bg-color: #3B4455;\n",
              "      --disabled-fill-color: #666;\n",
              "  }\n",
              "\n",
              "  .colab-df-quickchart {\n",
              "    background-color: var(--bg-color);\n",
              "    border: none;\n",
              "    border-radius: 50%;\n",
              "    cursor: pointer;\n",
              "    display: none;\n",
              "    fill: var(--fill-color);\n",
              "    height: 32px;\n",
              "    padding: 0;\n",
              "    width: 32px;\n",
              "  }\n",
              "\n",
              "  .colab-df-quickchart:hover {\n",
              "    background-color: var(--hover-bg-color);\n",
              "    box-shadow: 0 1px 2px rgba(60, 64, 67, 0.3), 0 1px 3px 1px rgba(60, 64, 67, 0.15);\n",
              "    fill: var(--button-hover-fill-color);\n",
              "  }\n",
              "\n",
              "  .colab-df-quickchart-complete:disabled,\n",
              "  .colab-df-quickchart-complete:disabled:hover {\n",
              "    background-color: var(--disabled-bg-color);\n",
              "    fill: var(--disabled-fill-color);\n",
              "    box-shadow: none;\n",
              "  }\n",
              "\n",
              "  .colab-df-spinner {\n",
              "    border: 2px solid var(--fill-color);\n",
              "    border-color: transparent;\n",
              "    border-bottom-color: var(--fill-color);\n",
              "    animation:\n",
              "      spin 1s steps(1) infinite;\n",
              "  }\n",
              "\n",
              "  @keyframes spin {\n",
              "    0% {\n",
              "      border-color: transparent;\n",
              "      border-bottom-color: var(--fill-color);\n",
              "      border-left-color: var(--fill-color);\n",
              "    }\n",
              "    20% {\n",
              "      border-color: transparent;\n",
              "      border-left-color: var(--fill-color);\n",
              "      border-top-color: var(--fill-color);\n",
              "    }\n",
              "    30% {\n",
              "      border-color: transparent;\n",
              "      border-left-color: var(--fill-color);\n",
              "      border-top-color: var(--fill-color);\n",
              "      border-right-color: var(--fill-color);\n",
              "    }\n",
              "    40% {\n",
              "      border-color: transparent;\n",
              "      border-right-color: var(--fill-color);\n",
              "      border-top-color: var(--fill-color);\n",
              "    }\n",
              "    60% {\n",
              "      border-color: transparent;\n",
              "      border-right-color: var(--fill-color);\n",
              "    }\n",
              "    80% {\n",
              "      border-color: transparent;\n",
              "      border-right-color: var(--fill-color);\n",
              "      border-bottom-color: var(--fill-color);\n",
              "    }\n",
              "    90% {\n",
              "      border-color: transparent;\n",
              "      border-bottom-color: var(--fill-color);\n",
              "    }\n",
              "  }\n",
              "</style>\n",
              "\n",
              "  <script>\n",
              "    async function quickchart(key) {\n",
              "      const quickchartButtonEl =\n",
              "        document.querySelector('#' + key + ' button');\n",
              "      quickchartButtonEl.disabled = true;  // To prevent multiple clicks.\n",
              "      quickchartButtonEl.classList.add('colab-df-spinner');\n",
              "      try {\n",
              "        const charts = await google.colab.kernel.invokeFunction(\n",
              "            'suggestCharts', [key], {});\n",
              "      } catch (error) {\n",
              "        console.error('Error during call to suggestCharts:', error);\n",
              "      }\n",
              "      quickchartButtonEl.classList.remove('colab-df-spinner');\n",
              "      quickchartButtonEl.classList.add('colab-df-quickchart-complete');\n",
              "    }\n",
              "    (() => {\n",
              "      let quickchartButtonEl =\n",
              "        document.querySelector('#df-d30dce64-d21c-4c28-acd7-263f973d2dd1 button');\n",
              "      quickchartButtonEl.style.display =\n",
              "        google.colab.kernel.accessAllowed ? 'block' : 'none';\n",
              "    })();\n",
              "  </script>\n",
              "</div>\n",
              "    </div>\n",
              "  </div>\n"
            ],
            "application/vnd.google.colaboratory.intrinsic+json": {
              "type": "dataframe",
              "variable_name": "df_sim_score",
              "summary": "{\n  \"name\": \"df_sim_score\",\n  \"rows\": 3,\n  \"fields\": [\n    {\n      \"column\": \"Answer\",\n      \"properties\": {\n        \"dtype\": \"string\",\n        \"num_unique_values\": 3,\n        \"samples\": [\n          \"\\u043f\\u0440\\u044f\\u043c\\u044b\\u0435 \\u043e\\u0433\\u0440\\u0430\\u043d\\u0438\\u0447\\u0435\\u043d\\u0438\\u044f \\u043f\\u043e \\u0434\\u043e\\u043f\\u0443\\u0441\\u043a\\u0443 \\u0438\\u043d\\u043e\\u0441\\u0442\\u0440\\u0430\\u043d\\u043d\\u044b\\u0445 \\u0433\\u0440\\u0430\\u0436\\u0434\\u0430\\u043d \\u043a \\u044d\\u043a\\u0441\\u043f\\u043b\\u0443\\u0430\\u0442\\u0430\\u0446\\u0438\\u0438 \\u0438 \\u043e\\u0431\\u0441\\u043b\\u0443\\u0436\\u0438\\u0432\\u0430\\u043d\\u0438\\u044e \\u0437\\u043d\\u0430\\u0447\\u0438\\u043c\\u043e\\u0433\\u043e \\u043e\\u0431\\u044a\\u0435\\u043a\\u0442\\u0430 \\u043a\\u0440\\u0438\\u0442\\u0438\\u0447\\u0435\\u0441\\u043a\\u043e\\u0439 \\u0438\\u043d\\u0444\\u043e\\u0440\\u043c\\u0430\\u0446\\u0438\\u043e\\u043d\\u043d\\u043e\\u0439 \\u0438\\u043d\\u0444\\u0440\\u0430\\u0441\\u0442\\u0440\\u0443\\u043a\\u0442\\u0443\\u0440\\u044b (\\u0434\\u0430\\u043b\\u0435\\u0435 \\u2013 \\u041a\\u0418\\u0418) \\u043d\\u0435 \\u0443\\u0441\\u0442\\u0430\\u043d\\u043e\\u0432\\u043b\\u0435\\u043d\\u044b \\u0432 \\u0434\\u0435\\u0439\\u0441\\u0442\\u0432\\u0443\\u044e\\u0449\\u0435\\u043c \\u0437\\u0430\\u043a\\u043e\\u043d\\u043e\\u0434\\u0430\\u0442\\u0435\\u043b\\u044c\\u0441\\u0442\\u0432\\u0435 \\u0420\\u043e\\u0441\\u0441\\u0438\\u0439\\u0441\\u043a\\u043e\\u0439 \\u0424\\u0435\\u0434\\u0435\\u0440\\u0430\\u0446\\u0438\\u0438 (\\u0434\\u0430\\u043b\\u0435\\u0435 \\u2013 \\u0420\\u0424). \\u0412 \\u0440\\u0430\\u043c\\u043a\\u0430\\u0445 \\u0442\\u0440\\u0443\\u0434\\u043e\\u0432\\u043e\\u0433\\u043e \\u0434\\u043e\\u0433\\u043e\\u0432\\u043e\\u0440\\u0430 \\u0434\\u043e\\u043f\\u0443\\u0441\\u043a\\u0430\\u0435\\u0442\\u0441\\u044f \\u043d\\u0430\\u043d\\u0438\\u043c\\u0430\\u0442\\u044c \\u0438\\u043d\\u043e\\u0441\\u0442\\u0440\\u0430\\u043d\\u043d\\u044b\\u0445 \\u0433\\u0440\\u0430\\u0436\\u0434\\u0430\\u043d \\u0434\\u043b\\u044f \\u0440\\u0430\\u0431\\u043e\\u0442\\u044b \\u043d\\u0430 \\u0437\\u043d\\u0430\\u0447\\u0438\\u043c\\u044b\\u0445 \\u043e\\u0431\\u044a\\u0435\\u043a\\u0442\\u0430\\u0445 \\u041a\\u0418\\u0418.\\u041e\\u0434\\u043d\\u0430\\u043a\\u043e \\u0441\\u0443\\u0449\\u0435\\u0441\\u0442\\u0432\\u0443\\u044e\\u0442 \\u0438\\u0441\\u043a\\u043b\\u044e\\u0447\\u0435\\u043d\\u0438\\u044f \\u0434\\u043b\\u044f \\u043e\\u0431\\u044a\\u0435\\u043a\\u0442\\u043e\\u0432 \\u041a\\u0418\\u0418, \\u0444\\u0443\\u043d\\u043a\\u0446\\u0438\\u043e\\u043d\\u0438\\u0440\\u0443\\u044e\\u0449\\u0438\\u0445 \\u0432 \\u0441\\u0444\\u0435\\u0440\\u0435 \\u0442\\u043e\\u043f\\u043b\\u0438\\u0432\\u043d\\u043e-\\u044d\\u043d\\u0435\\u0440\\u0433\\u0435\\u0442\\u0438\\u0447\\u0435\\u0441\\u043a\\u043e\\u0433\\u043e \\u043a\\u043e\\u043c\\u043f\\u043b\\u0435\\u043a\\u0441\\u0430 (\\u0434\\u0430\\u043b\\u0435\\u0435 \\u2013 \\u0422\\u042d\\u041a). \\u0421\\u043e\\u0433\\u043b\\u0430\\u0441\\u043d\\u043e \\u043f\\u0443\\u043d\\u043a\\u0442\\u0443\\u00a05 \\u0447\\u0430\\u0441\\u0442\\u0438\\u00a01 \\u0441\\u0442\\u0430\\u0442\\u044c\\u0438\\u00a010\\u0424\\u0435\\u0434\\u0435\\u0440\\u0430\\u043b\\u044c\\u043d\\u043e\\u0433\\u043e \\u0437\\u0430\\u043a\\u043e\\u043d\\u0430 \\u043e\\u0442 21.07.2011 \\u2116\\u00a0256-\\u0424\\u0417 \\u00ab\\u041e \\u0431\\u0435\\u0437\\u043e\\u043f\\u0430\\u0441\\u043d\\u043e\\u0441\\u0442\\u0438 \\u043e\\u0431\\u044a\\u0435\\u043a\\u0442\\u043e\\u0432 \\u0442\\u043e\\u043f\\u043b\\u0438\\u0432\\u043d\\u043e-\\u044d\\u043d\\u0435\\u0440\\u0433\\u0435\\u0442\\u0438\\u0447\\u0435\\u0441\\u043a\\u043e\\u0433\\u043e \\u043a\\u043e\\u043c\\u043f\\u043b\\u0435\\u043a\\u0441\\u0430\\u00bb, \\u0440\\u0430\\u0431\\u043e\\u0442\\u0443, \\u043d\\u0435\\u043f\\u043e\\u0441\\u0440\\u0435\\u0434\\u0441\\u0442\\u0432\\u0435\\u043d\\u043d\\u043e \\u0441\\u0432\\u044f\\u0437\\u0430\\u043d\\u043d\\u0443\\u044e \\u0441 \\u043e\\u0431\\u0435\\u0441\\u043f\\u0435\\u0447\\u0435\\u043d\\u0438\\u0435\\u043c \\u0431\\u0435\\u0437\\u043e\\u043f\\u0430\\u0441\\u043d\\u043e\\u0441\\u0442\\u0438 \\u043e\\u0431\\u044a\\u0435\\u043a\\u0442\\u043e\\u0432 \\u0422\\u042d\\u041a, \\u043d\\u0435 \\u0432\\u043f\\u0440\\u0430\\u0432\\u0435 \\u0432\\u044b\\u043f\\u043e\\u043b\\u043d\\u044f\\u0442\\u044c:\\u00b7\\u00a0\\u00a0\\u00a0\\u00a0 \\u043b\\u0438\\u0446\\u0430, \\u044f\\u0432\\u043b\\u044f\\u044e\\u0449\\u0438\\u0435\\u0441\\u044f \\u0438\\u043d\\u043e\\u0441\\u0442\\u0440\\u0430\\u043d\\u043d\\u044b\\u043c\\u0438 \\u0433\\u0440\\u0430\\u0436\\u0434\\u0430\\u043d\\u0430\\u043c\\u0438;\\u00b7\\u00a0\\u00a0\\u00a0\\u00a0 \\u0433\\u0440\\u0430\\u0436\\u0434\\u0430\\u043d\\u0438\\u043d\\u044b \\u0420\\u0424, \\u0438\\u043c\\u0435\\u044e\\u0449\\u0438\\u0435 \\u0433\\u0440\\u0430\\u0436\\u0434\\u0430\\u043d\\u0441\\u0442\\u0432\\u043e \\u0438\\u043d\\u043e\\u0441\\u0442\\u0440\\u0430\\u043d\\u043d\\u043e\\u0433\\u043e \\u0433\\u043e\\u0441\\u0443\\u0434\\u0430\\u0440\\u0441\\u0442\\u0432\\u0430 \\u043b\\u0438\\u0431\\u043e \\u0432\\u0438\\u0434 \\u043d\\u0430 \\u0436\\u0438\\u0442\\u0435\\u043b\\u044c\\u0441\\u0442\\u0432\\u043e \\u0438\\u043b\\u0438 \\u0438\\u043d\\u043e\\u0439 \\u0434\\u043e\\u043a\\u0443\\u043c\\u0435\\u043d\\u0442, \\u043f\\u043e\\u0434\\u0442\\u0432\\u0435\\u0440\\u0436\\u0434\\u0430\\u044e\\u0449\\u0438\\u0439 \\u043f\\u0440\\u0430\\u0432\\u043e \\u043d\\u0430 \\u043f\\u043e\\u0441\\u0442\\u043e\\u044f\\u043d\\u043d\\u043e\\u0435 \\u043f\\u0440\\u043e\\u0436\\u0438\\u0432\\u0430\\u043d\\u0438\\u0435 \\u0433\\u0440\\u0430\\u0436\\u0434\\u0430\\u043d\\u0438\\u043d\\u0430 \\u0420\\u0424 \\u043d\\u0430 \\u0442\\u0435\\u0440\\u0440\\u0438\\u0442\\u043e\\u0440\\u0438\\u0438 \\u0438\\u043d\\u043e\\u0441\\u0442\\u0440\\u0430\\u043d\\u043d\\u043e\\u0433\\u043e \\u0433\\u043e\\u0441\\u0443\\u0434\\u0430\\u0440\\u0441\\u0442\\u0432\\u0430;\\u00b7\\u00a0\\u00a0\\u00a0\\u00a0 \\u043b\\u0438\\u0446\\u0430 \\u0431\\u0435\\u0437 \\u0433\\u0440\\u0430\\u0436\\u0434\\u0430\\u043d\\u0441\\u0442\\u0432\\u0430.\\u041f\\u0435\\u0440\\u0435\\u0447\\u0435\\u043d\\u044c \\u0440\\u0430\\u0431\\u043e\\u0442, \\u043d\\u0435\\u043f\\u043e\\u0441\\u0440\\u0435\\u0434\\u0441\\u0442\\u0432\\u0435\\u043d\\u043d\\u043e \\u0441\\u0432\\u044f\\u0437\\u0430\\u043d\\u043d\\u044b\\u0445 \\u0441 \\u043e\\u0431\\u0435\\u0441\\u043f\\u0435\\u0447\\u0435\\u043d\\u0438\\u0435\\u043c \\u0431\\u0435\\u0437\\u043e\\u043f\\u0430\\u0441\\u043d\\u043e\\u0441\\u0442\\u0438 \\u043e\\u0431\\u044a\\u0435\\u043a\\u0442\\u043e\\u0432 \\u0422\\u042d\\u041a, \\u0443\\u0442\\u0432\\u0435\\u0440\\u0436\\u0434\\u0435\\u043d\\u043f\\u0440\\u0438\\u043a\\u0430\\u0437\\u043e\\u043c \\u041c\\u0438\\u043d\\u0438\\u0441\\u0442\\u0435\\u0440\\u0441\\u0442\\u0432\\u0430 \\u044d\\u043d\\u0435\\u0440\\u0433\\u0435\\u0442\\u0438\\u043a\\u0438 \\u0420\\u0424 \\u043e\\u0442 13.12.2011 \\u2116\\u00a0587. \\u041a \\u0442\\u0430\\u043a\\u0438\\u043c \\u0432\\u0438\\u0434\\u0430\\u043c \\u0440\\u0430\\u0431\\u043e\\u0442, \\u0432 \\u0442\\u043e\\u043c \\u0447\\u0438\\u0441\\u043b\\u0435, \\u043e\\u0442\\u043d\\u043e\\u0441\\u044f\\u0442\\u0441\\u044f:\\u00b7\\u00a0\\u00a0\\u00a0\\u00a0 \\u043e\\u0441\\u0443\\u0449\\u0435\\u0441\\u0442\\u0432\\u043b\\u0435\\u043d\\u0438\\u0435 \\u0432\\u043d\\u0443\\u0442\\u0440\\u0435\\u043d\\u043d\\u0435\\u0433\\u043e \\u043a\\u043e\\u043d\\u0442\\u0440\\u043e\\u043b\\u044f \\u0432 \\u043e\\u0431\\u043b\\u0430\\u0441\\u0442\\u0438 \\u043e\\u0431\\u0435\\u0441\\u043f\\u0435\\u0447\\u0435\\u043d\\u0438\\u044f \\u0431\\u0435\\u0437\\u043e\\u043f\\u0430\\u0441\\u043d\\u043e\\u0441\\u0442\\u0438 \\u043e\\u0431\\u044a\\u0435\\u043a\\u0442\\u043e\\u0432 \\u0422\\u042d\\u041a;\\u00b7\\u00a0\\u00a0\\u00a0\\u00a0 \\u0440\\u0430\\u0437\\u0440\\u0430\\u0431\\u043e\\u0442\\u043a\\u0430, \\u043c\\u043e\\u043d\\u0442\\u0430\\u0436 \\u0438 \\u044d\\u043a\\u0441\\u043f\\u043b\\u0443\\u0430\\u0442\\u0430\\u0446\\u0438\\u044f \\u0438\\u043d\\u0444\\u043e\\u0440\\u043c\\u0430\\u0446\\u0438\\u043e\\u043d\\u043d\\u044b\\u0445 \\u0441\\u0438\\u0441\\u0442\\u0435\\u043c, \\u0438\\u043d\\u0444\\u043e\\u0440\\u043c\\u0430\\u0446\\u0438\\u043e\\u043d\\u043d\\u043e-\\u0442\\u0435\\u043b\\u0435\\u043a\\u043e\\u043c\\u043c\\u0443\\u043d\\u0438\\u043a\\u0430\\u0446\\u0438\\u043e\\u043d\\u043d\\u044b\\u0445 \\u0441\\u0435\\u0442\\u0435\\u0439 \\u0438 \\u0441\\u0438\\u0441\\u0442\\u0435\\u043c \\u0437\\u0430\\u0449\\u0438\\u0442\\u044b \\u0438\\u043d\\u0444\\u043e\\u0440\\u043c\\u0430\\u0446\\u0438\\u0438 \\u043e\\u0431\\u044a\\u0435\\u043a\\u0442\\u043e\\u0432 \\u0422\\u042d\\u041a.\\u041a\\u0440\\u043e\\u043c\\u0435 \\u0442\\u043e\\u0433\\u043e, \\u0441\\u0442\\u043e\\u0438\\u0442 \\u0443\\u0447\\u0438\\u0442\\u044b\\u0432\\u0430\\u0442\\u044c \\u043c\\u043e\\u0434\\u0435\\u043b\\u0438 \\u0443\\u0433\\u0440\\u043e\\u0437 \\u0438 \\u043d\\u0430\\u0440\\u0443\\u0448\\u0438\\u0442\\u0435\\u043b\\u0435\\u0439 \\u0431\\u0435\\u0437\\u043e\\u043f\\u0430\\u0441\\u043d\\u043e\\u0441\\u0442\\u0438 \\u0438\\u043d\\u0444\\u043e\\u0440\\u043c\\u0430\\u0446\\u0438\\u0438, \\u0440\\u0430\\u0437\\u0440\\u0430\\u0431\\u043e\\u0442\\u0430\\u043d\\u043d\\u044b\\u0435 \\u0434\\u043b\\u044f \\u0437\\u043d\\u0430\\u0447\\u0438\\u043c\\u044b\\u0445 \\u043e\\u0431\\u044a\\u0435\\u043a\\u0442\\u043e\\u0432 \\u041a\\u0418\\u0418. \\u0415\\u0441\\u043b\\u0438 \\u043a \\u0430\\u043a\\u0442\\u0443\\u0430\\u043b\\u044c\\u043d\\u044b\\u043c \\u043d\\u0430\\u0440\\u0443\\u0448\\u0438\\u0442\\u0435\\u043b\\u044f\\u043c \\u043e\\u0442\\u043d\\u043e\\u0441\\u044f\\u0442\\u0441\\u044f \\u0441\\u043f\\u0435\\u0446\\u0438\\u0430\\u043b\\u044c\\u043d\\u044b\\u0435 \\u0441\\u043b\\u0443\\u0436\\u0431\\u044b \\u0438\\u043d\\u043e\\u0441\\u0442\\u0440\\u0430\\u043d\\u043d\\u044b\\u0445 \\u0433\\u043e\\u0441\\u0443\\u0434\\u0430\\u0440\\u0441\\u0442\\u0432, \\u0442\\u043e \\u043d\\u0435\\u043e\\u0431\\u0445\\u043e\\u0434\\u0438\\u043c\\u043e \\u0443\\u0447\\u0438\\u0442\\u044b\\u0432\\u0430\\u0442\\u044c \\u0440\\u0438\\u0441\\u043a\\u0438, \\u043a\\u043e\\u0442\\u043e\\u0440\\u044b\\u0435 \\u043c\\u043e\\u0433\\u0443\\u0442 \\u0432\\u043e\\u0437\\u043d\\u0438\\u043a\\u043d\\u0443\\u0442\\u044c \\u043f\\u0440\\u0438 \\u043d\\u0430\\u0439\\u043c\\u0435 \\u0438\\u043d\\u043e\\u0441\\u0442\\u0440\\u0430\\u043d\\u043d\\u043e\\u0433\\u043e \\u0433\\u0440\\u0430\\u0436\\u0434\\u0430\\u043d\\u0438\\u043d\\u0430 \\u0434\\u043b\\u044f \\u044d\\u043a\\u0441\\u043f\\u043b\\u0443\\u0430\\u0442\\u0430\\u0446\\u0438\\u0438 \\u0438 \\u043e\\u0431\\u0441\\u043b\\u0443\\u0436\\u0438\\u0432\\u0430\\u043d\\u0438\\u044f \\u0437\\u043d\\u0430\\u0447\\u0438\\u043c\\u043e\\u0433\\u043e \\u043e\\u0431\\u044a\\u0435\\u043a\\u0442\\u0430 \\u041a\\u0418\\u0418.\\u0422\\u0430\\u043a\\u0436\\u0435 \\u043e\\u0442\\u043c\\u0435\\u0442\\u0438\\u043c, \\u0447\\u0442\\u043e \\u0438\\u043d\\u043e\\u0441\\u0442\\u0440\\u0430\\u043d\\u043d\\u044b\\u0439 \\u0430\\u0433\\u0435\\u043d\\u0442 \\u043d\\u0435 \\u0432\\u043f\\u0440\\u0430\\u0432\\u0435 \\u043e\\u0441\\u0443\\u0449\\u0435\\u0441\\u0442\\u0432\\u043b\\u044f\\u0442\\u044c \\u044d\\u043a\\u0441\\u043f\\u043b\\u0443\\u0430\\u0442\\u0430\\u0446\\u0438\\u044e \\u0437\\u043d\\u0430\\u0447\\u0438\\u043c\\u044b\\u0445 \\u043e\\u0431\\u044a\\u0435\\u043a\\u0442\\u043e\\u0432 \\u041a\\u0418\\u0418 \\u0438 \\u043e\\u0441\\u0443\\u0449\\u0435\\u0441\\u0442\\u0432\\u043b\\u044f\\u0442\\u044c \\u0434\\u0435\\u044f\\u0442\\u0435\\u043b\\u044c\\u043d\\u043e\\u0441\\u0442\\u044c \\u043f\\u043e \\u043e\\u0431\\u0435\\u0441\\u043f\\u0435\\u0447\\u0435\\u043d\\u0438\\u044e \\u0438\\u0445 \\u0431\\u0435\\u0437\\u043e\\u043f\\u0430\\u0441\\u043d\\u043e\\u0441\\u0442\\u0438 (\\u043f\\u0443\\u043d\\u043a\\u0442 17 \\u0441\\u0442\\u0430\\u0442\\u044c\\u0438 11\\u0424\\u0435\\u0434\\u0435\\u0440\\u0430\\u043b\\u044c\\u043d\\u043e\\u0433\\u043e \\u0437\\u0430\\u043a\\u043e\\u043d\\u0430 \\u043e\\u0442 14.07.2022 \\u2116\\u00a0255-\\u0424\\u0417 \\u00ab\\u041e \\u043a\\u043e\\u043d\\u0442\\u0440\\u043e\\u043b\\u0435 \\u0437\\u0430 \\u0434\\u0435\\u044f\\u0442\\u0435\\u043b\\u044c\\u043d\\u043e\\u0441\\u0442\\u044c\\u044e \\u043b\\u0438\\u0446, \\u043d\\u0430\\u0445\\u043e\\u0434\\u044f\\u0449\\u0438\\u0445\\u0441\\u044f \\u043f\\u043e\\u0434 \\u0438\\u043d\\u043e\\u0441\\u0442\\u0440\\u0430\\u043d\\u043d\\u044b\\u043c \\u0432\\u043b\\u0438\\u044f\\u043d\\u0438\\u0435\\u043c\\u00bb). \\u0418\\u043d\\u043e\\u0441\\u0442\\u0440\\u0430\\u043d\\u043d\\u044b\\u043c \\u0430\\u0433\\u0435\\u043d\\u0442\\u043e\\u043c \\u043c\\u043e\\u0436\\u0435\\u0442 \\u0431\\u044b\\u0442\\u044c \\u043f\\u0440\\u0438\\u0437\\u043d\\u0430\\u043d\\u043e \\u0440\\u043e\\u0441\\u0441\\u0438\\u0439\\u0441\\u043a\\u043e\\u0435 \\u0438\\u043b\\u0438 \\u0438\\u043d\\u043e\\u0441\\u0442\\u0440\\u0430\\u043d\\u043d\\u043e\\u0435 \\u044e\\u0440\\u0438\\u0434\\u0438\\u0447\\u0435\\u0441\\u043a\\u043e\\u0435 \\u043b\\u0438\\u0446\\u043e, \\u0430 \\u0442\\u0430\\u043a\\u0436\\u0435 \\u0444\\u0438\\u0437\\u0438\\u0447\\u0435\\u0441\\u043a\\u043e\\u0435 \\u043b\\u0438\\u0446\\u043e \\u043d\\u0435\\u0437\\u0430\\u0432\\u0438\\u0441\\u0438\\u043c\\u043e \\u043e\\u0442 \\u0435\\u0433\\u043e \\u0433\\u0440\\u0430\\u0436\\u0434\\u0430\\u043d\\u0441\\u0442\\u0432\\u0430 \\u0438\\u043b\\u0438 \\u043f\\u0440\\u0438 \\u043e\\u0442\\u0441\\u0443\\u0442\\u0441\\u0442\\u0432\\u0438\\u0438 \\u0442\\u0430\\u043a\\u043e\\u0432\\u043e\\u0433\\u043e.\",\n          \"\\u043f\\u0435\\u0440\\u0432\\u0438\\u0447\\u043d\\u043e\\u0435 \\u043c\\u043e\\u0434\\u0435\\u043b\\u0438\\u0440\\u043e\\u0432\\u0430\\u043d\\u0438\\u0435 \\u0443\\u0433\\u0440\\u043e\\u0437 \\u0431\\u0435\\u0437\\u043e\\u043f\\u0430\\u0441\\u043d\\u043e\\u0441\\u0442\\u0438 \\u0438\\u043d\\u0444\\u043e\\u0440\\u043c\\u0430\\u0446\\u0438\\u0438 (\\u0434\\u0430\\u043b\\u0435\\u0435 \\u2013 \\u0423\\u0411\\u0418) \\u043e\\u0441\\u0443\\u0449\\u0435\\u0441\\u0442\\u0432\\u043b\\u044f\\u0435\\u0442\\u0441\\u044f \\u043d\\u0430 \\u044d\\u0442\\u0430\\u043f\\u0435 \\u043a\\u0430\\u0442\\u0435\\u0433\\u043e\\u0440\\u0438\\u0440\\u043e\\u0432\\u0430\\u043d\\u0438\\u044f \\u043e\\u0431\\u044a\\u0435\\u043a\\u0442\\u043e\\u0432 \\u043a\\u0440\\u0438\\u0442\\u0438\\u0447\\u0435\\u0441\\u043a\\u043e\\u0439 \\u0438\\u043d\\u0444\\u043e\\u0440\\u043c\\u0430\\u0446\\u0438\\u043e\\u043d\\u043d\\u043e\\u0439 \\u0438\\u043d\\u0444\\u0440\\u0430\\u0441\\u0442\\u0440\\u0443\\u043a\\u0442\\u0443\\u0440\\u044b (\\u0434\\u0430\\u043b\\u0435\\u0435 \\u2013 \\u041a\\u0418\\u0418) \\u0441\\u043e\\u0433\\u043b\\u0430\\u0441\\u043d\\u043e \\u041f\\u0440\\u0430\\u0432\\u0438\\u043b\\u0430\\u043c \\u043a\\u0430\\u0442\\u0435\\u0433\\u043e\\u0440\\u0438\\u0440\\u043e\\u0432\\u0430\\u043d\\u0438\\u044f \\u043e\\u0431\\u044a\\u0435\\u043a\\u0442\\u043e\\u0432 \\u041a\\u0418\\u0418 \\u0420\\u043e\\u0441\\u0441\\u0438\\u0439\\u0441\\u043a\\u043e\\u0439 \\u0424\\u0435\\u0434\\u0435\\u0440\\u0430\\u0446\\u0438\\u0438 (\\u0434\\u0430\\u043b\\u0435\\u0435 \\u2013 \\u0420\\u0424), \\u0430 \\u0442\\u0430\\u043a\\u0436\\u0435 \\u043f\\u0435\\u0440\\u0435\\u0447\\u043d\\u044f \\u043f\\u043e\\u043a\\u0430\\u0437\\u0430\\u0442\\u0435\\u043b\\u0435\\u0439 \\u043a\\u0440\\u0438\\u0442\\u0435\\u0440\\u0438\\u0435\\u0432 \\u0437\\u043d\\u0430\\u0447\\u0438\\u043c\\u043e\\u0441\\u0442\\u0438 \\u043e\\u0431\\u044a\\u0435\\u043a\\u0442\\u043e\\u0432 \\u041a\\u0418\\u0418 \\u0420\\u0424, \\u0443\\u0442\\u0432\\u0435\\u0440\\u0436\\u0434\\u0435\\u043d\\u043d\\u044b\\u043c\\u043f\\u043e\\u0441\\u0442\\u0430\\u043d\\u043e\\u0432\\u043b\\u0435\\u043d\\u0438\\u0435\\u043c \\u041f\\u0440\\u0430\\u0432\\u0438\\u0442\\u0435\\u043b\\u044c\\u0441\\u0442\\u0432\\u0430 \\u043e\\u0442 08.02.2018 \\u2116\\u00a0127(\\u0434\\u0430\\u043b\\u0435\\u0435 \\u2013 \\u041f\\u0440\\u0430\\u0432\\u0438\\u043b\\u0430 \\u043a\\u0430\\u0442\\u0435\\u0433\\u043e\\u0440\\u0438\\u0440\\u043e\\u0432\\u0430\\u043d\\u0438\\u044f). \\u0421\\u043e\\u0433\\u043b\\u0430\\u0441\\u043d\\u043e \\u043f\\u043e\\u0434\\u043f\\u0443\\u043d\\u043a\\u0442\\u0443 \\u0435 \\u043f\\u0443\\u043d\\u043a\\u0442\\u0430 10 \\u041f\\u0440\\u0430\\u0432\\u0438\\u043b \\u043a\\u0430\\u0442\\u0435\\u0433\\u043e\\u0440\\u0438\\u0440\\u043e\\u0432\\u0430\\u043d\\u0438\\u044f, \\u0438\\u0441\\u0445\\u043e\\u0434\\u043d\\u044b\\u043c\\u0438 \\u0434\\u0430\\u043d\\u043d\\u044b\\u043c\\u0438 \\u0434\\u043b\\u044f \\u043a\\u0430\\u0442\\u0435\\u0433\\u043e\\u0440\\u0438\\u0440\\u043e\\u0432\\u0430\\u043d\\u0438\\u044f \\u044f\\u0432\\u043b\\u044f\\u044e\\u0442\\u0441\\u044f \\u0423\\u0411\\u0418 \\u0432 \\u043e\\u0442\\u043d\\u043e\\u0448\\u0435\\u043d\\u0438\\u0438 \\u0440\\u0430\\u0441\\u0441\\u043c\\u0430\\u0442\\u0440\\u0438\\u0432\\u0430\\u0435\\u043c\\u043e\\u0433\\u043e \\u043e\\u0431\\u044a\\u0435\\u043a\\u0442\\u0430 \\u041a\\u0418\\u0418. \\u041a\\u043e\\u043c\\u0438\\u0441\\u0441\\u0438\\u044f \\u043f\\u043e \\u043a\\u0430\\u0442\\u0435\\u0433\\u043e\\u0440\\u0438\\u0440\\u043e\\u0432\\u0430\\u043d\\u0438\\u044e \\u0440\\u0430\\u0441\\u0441\\u043c\\u0430\\u0442\\u0440\\u0438\\u0432\\u0430\\u0435\\u0442 \\u0432\\u043e\\u0437\\u043c\\u043e\\u0436\\u043d\\u044b\\u0435 \\u0434\\u0435\\u0439\\u0441\\u0442\\u0432\\u0438\\u044f \\u043d\\u0430\\u0440\\u0443\\u0448\\u0438\\u0442\\u0435\\u043b\\u0435\\u0439 \\u0432 \\u043e\\u0442\\u043d\\u043e\\u0448\\u0435\\u043d\\u0438\\u0438 \\u043e\\u0431\\u044a\\u0435\\u043a\\u0442\\u043e\\u0432 \\u041a\\u0418\\u0418, \\u0430 \\u0442\\u0430\\u043a\\u0436\\u0435 \\u0438\\u043d\\u044b\\u0435 \\u0438\\u0441\\u0442\\u043e\\u0447\\u043d\\u0438\\u043a\\u0438 \\u0423\\u0411\\u0418 \\u0438 \\u0430\\u043d\\u0430\\u043b\\u0438\\u0437\\u0438\\u0440\\u0443\\u0435\\u0442 \\u0423\\u0411\\u0418, \\u043a\\u043e\\u0442\\u043e\\u0440\\u044b\\u0435 \\u043c\\u043e\\u0433\\u0443\\u0442 \\u043f\\u0440\\u0438\\u0432\\u0435\\u0441\\u0442\\u0438 \\u043a \\u0432\\u043e\\u0437\\u043d\\u0438\\u043a\\u043d\\u043e\\u0432\\u0435\\u043d\\u0438\\u044e \\u043a\\u043e\\u043c\\u043f\\u044c\\u044e\\u0442\\u0435\\u0440\\u043d\\u044b\\u0445 \\u0438\\u043d\\u0446\\u0438\\u0434\\u0435\\u043d\\u0442\\u043e\\u0432 \\u043d\\u0430 \\u043e\\u0431\\u044a\\u0435\\u043a\\u0442\\u0430\\u0445 \\u041a\\u0418\\u0418 (\\u043f\\u0443\\u043d\\u043a\\u0442\\u00a014 \\u041f\\u0440\\u0430\\u0432\\u0438\\u043b \\u043a\\u0430\\u0442\\u0435\\u0433\\u043e\\u0440\\u0438\\u0440\\u043e\\u0432\\u0430\\u043d\\u0438\\u044f).\\u0421\\u0432\\u0435\\u0434\\u0435\\u043d\\u0438\\u044f \\u043e\\u0431 \\u0423\\u0411\\u0418 \\u0438 \\u043e \\u043a\\u0430\\u0442\\u0435\\u0433\\u043e\\u0440\\u0438\\u044f\\u0445 \\u043d\\u0430\\u0440\\u0443\\u0448\\u0438\\u0442\\u0435\\u043b\\u0435\\u0439 \\u0432 \\u043e\\u0442\\u043d\\u043e\\u0448\\u0435\\u043d\\u0438\\u0438 \\u043e\\u0431\\u044a\\u0435\\u043a\\u0442\\u043e\\u0432 \\u041a\\u0418\\u0418 \\u0442\\u0430\\u043a\\u0436\\u0435 \\u0432\\u043d\\u043e\\u0441\\u044f\\u0442\\u0441\\u044f \\u0432 \\u043f\\u0443\\u043d\\u043a\\u0442\\u00a06 \\u0444\\u043e\\u0440\\u043c\\u044b, \\u0443\\u0442\\u0432\\u0435\\u0440\\u0436\\u0434\\u0435\\u043d\\u043d\\u043e\\u0439\\u043f\\u0440\\u0438\\u043a\\u0430\\u0437\\u043e\\u043c \\u0424\\u0421\\u0422\\u042d\\u041a \\u0420\\u043e\\u0441\\u0441\\u0438\\u0438 \\u043e\\u0442 22.12.2017 \\u2116\\u00a0236\\u00ab\\u041e\\u0431 \\u0443\\u0442\\u0432\\u0435\\u0440\\u0436\\u0434\\u0435\\u043d\\u0438\\u0438 \\u0444\\u043e\\u0440\\u043c\\u044b \\u043d\\u0430\\u043f\\u0440\\u0430\\u0432\\u043b\\u0435\\u043d\\u0438\\u044f \\u0441\\u0432\\u0435\\u0434\\u0435\\u043d\\u0438\\u0439 \\u043e \\u0440\\u0435\\u0437\\u0443\\u043b\\u044c\\u0442\\u0430\\u0442\\u0430\\u0445 \\u043f\\u0440\\u0438\\u0441\\u0432\\u043e\\u0435\\u043d\\u0438\\u044f \\u043e\\u0431\\u044a\\u0435\\u043a\\u0442\\u0443 \\u043a\\u0440\\u0438\\u0442\\u0438\\u0447\\u0435\\u0441\\u043a\\u043e\\u0439 \\u0438\\u043d\\u0444\\u043e\\u0440\\u043c\\u0430\\u0446\\u0438\\u043e\\u043d\\u043d\\u043e\\u0439 \\u0438\\u043d\\u0444\\u0440\\u0430\\u0441\\u0442\\u0440\\u0443\\u043a\\u0442\\u0443\\u0440\\u044b \\u043e\\u0434\\u043d\\u043e\\u0439 \\u0438\\u0437 \\u043a\\u0430\\u0442\\u0435\\u0433\\u043e\\u0440\\u0438\\u0439 \\u0437\\u043d\\u0430\\u0447\\u0438\\u043c\\u043e\\u0441\\u0442\\u0438 \\u043b\\u0438\\u0431\\u043e \\u043e\\u0431 \\u043e\\u0442\\u0441\\u0443\\u0442\\u0441\\u0442\\u0432\\u0438\\u0438 \\u043d\\u0435\\u043e\\u0431\\u0445\\u043e\\u0434\\u0438\\u043c\\u043e\\u0441\\u0442\\u0438 \\u043f\\u0440\\u0438\\u0441\\u0432\\u043e\\u0435\\u043d\\u0438\\u044f \\u0435\\u043c\\u0443 \\u043e\\u0434\\u043d\\u043e\\u0439 \\u0438\\u0437 \\u0442\\u0430\\u043a\\u0438\\u0445 \\u043a\\u0430\\u0442\\u0435\\u0433\\u043e\\u0440\\u0438\\u0439\\u00bb.\\u0422\\u0430\\u043a\\u0438\\u043c \\u043e\\u0431\\u0440\\u0430\\u0437\\u043e\\u043c, \\u043f\\u043e\\u0441\\u043b\\u0435 \\u043f\\u0440\\u043e\\u0432\\u0435\\u0434\\u0435\\u043d\\u0438\\u044f \\u043a\\u0430\\u0442\\u0435\\u0433\\u043e\\u0440\\u0438\\u0440\\u043e\\u0432\\u0430\\u043d\\u0438\\u044f \\u043e\\u0431\\u044a\\u0435\\u043a\\u0442\\u043e\\u0432 \\u041a\\u0418\\u0418 \\u0443 \\u0441\\u0443\\u0431\\u044a\\u0435\\u043a\\u0442\\u0430 \\u041a\\u0418\\u0418 \\u0443\\u0436\\u0435 \\u043f\\u0440\\u043e\\u0432\\u0435\\u0434\\u0435\\u043d\\u043e \\u0447\\u0430\\u0441\\u0442\\u0438\\u0447\\u043d\\u043e\\u0435 \\u043c\\u043e\\u0434\\u0435\\u043b\\u0438\\u0440\\u043e\\u0432\\u0430\\u043d\\u0438\\u0435 \\u0423\\u0411\\u0418 \\u0438 \\u0435\\u0441\\u0442\\u044c \\u043f\\u043e\\u043d\\u0438\\u043c\\u0430\\u043d\\u0438\\u0435, \\u043a\\u0430\\u043a\\u0438\\u0435 \\u0423\\u0411\\u0418 \\u044f\\u0432\\u043b\\u044f\\u044e\\u0442\\u0441\\u044f \\u0430\\u043a\\u0442\\u0443\\u0430\\u043b\\u044c\\u043d\\u044b\\u043c\\u0438.\\u0420\\u0430\\u0437\\u0440\\u0430\\u0431\\u043e\\u0442\\u043a\\u0430 \\u0422\\u0435\\u0445\\u043d\\u0438\\u0447\\u0435\\u0441\\u043a\\u043e\\u0433\\u043e \\u0437\\u0430\\u0434\\u0430\\u043d\\u0438\\u044f \\u043d\\u0430 \\u0441\\u043e\\u0437\\u0434\\u0430\\u043d\\u0438\\u0435 \\u0441\\u0438\\u0441\\u0442\\u0435\\u043c\\u044b \\u043e\\u0431\\u0435\\u0441\\u043f\\u0435\\u0447\\u0435\\u043d\\u0438\\u044f \\u0438\\u043d\\u0444\\u043e\\u0440\\u043c\\u0430\\u0446\\u0438\\u043e\\u043d\\u043d\\u043e\\u0439 \\u0431\\u0435\\u0437\\u043e\\u043f\\u0430\\u0441\\u043d\\u043e\\u0441\\u0442\\u0438 (\\u0434\\u0430\\u043b\\u0435\\u0435 \\u2013 \\u0421\\u041e\\u0418\\u0411) \\u0437\\u043d\\u0430\\u0447\\u0438\\u043c\\u044b\\u0445 \\u043e\\u0431\\u044a\\u0435\\u043a\\u0442\\u043e\\u0432 \\u041a\\u0418\\u0418 \\u043f\\u0440\\u043e\\u0438\\u0437\\u0432\\u043e\\u0434\\u0438\\u0442\\u0441\\u044f \\u0432 \\u0441\\u043e\\u043e\\u0442\\u0432\\u0435\\u0442\\u0441\\u0442\\u0432\\u0438\\u0438 \\u0441 \\u043f\\u0440\\u0438\\u0441\\u0432\\u043e\\u0435\\u043d\\u043d\\u043e\\u0439 \\u043e\\u0431\\u044a\\u0435\\u043a\\u0442\\u0443 \\u041a\\u0418\\u0418 \\u043a\\u0430\\u0442\\u0435\\u0433\\u043e\\u0440\\u0438\\u0435\\u0439 \\u0437\\u043d\\u0430\\u0447\\u0438\\u043c\\u043e\\u0441\\u0442\\u0438. \\u0421\\u043e\\u0441\\u0442\\u0430\\u0432 \\u043c\\u0435\\u0440 \\u043f\\u043e \\u043e\\u0431\\u0435\\u0441\\u043f\\u0435\\u0447\\u0435\\u043d\\u0438\\u044e \\u0431\\u0435\\u0437\\u043e\\u043f\\u0430\\u0441\\u043d\\u043e\\u0441\\u0442\\u0438 \\u0437\\u043d\\u0430\\u0447\\u0438\\u043c\\u044b\\u0445 \\u043e\\u0431\\u044a\\u0435\\u043a\\u0442\\u043e\\u0432 \\u041a\\u0418\\u0418 \\u043e\\u043f\\u0440\\u0435\\u0434\\u0435\\u043b\\u0435\\u043d \\u0432 \\u0422\\u0440\\u0435\\u0431\\u043e\\u0432\\u0430\\u043d\\u0438\\u044f\\u0445 \\u043f\\u043e \\u043e\\u0431\\u0435\\u0441\\u043f\\u0435\\u0447\\u0435\\u043d\\u0438\\u044e \\u0431\\u0435\\u0437\\u043e\\u043f\\u0430\\u0441\\u043d\\u043e\\u0441\\u0442\\u0438 \\u0437\\u043d\\u0430\\u0447\\u0438\\u043c\\u044b\\u0445 \\u043e\\u0431\\u044a\\u0435\\u043a\\u0442\\u043e\\u0432 \\u041a\\u0418\\u0418 \\u0420\\u0424, \\u0443\\u0442\\u0432\\u0435\\u0440\\u0436\\u0434\\u0435\\u043d\\u043d\\u044b\\u0445\\u043f\\u0440\\u0438\\u043a\\u0430\\u0437\\u043e\\u043c \\u0424\\u0421\\u0422\\u042d\\u041a \\u0420\\u043e\\u0441\\u0441\\u0438\\u0438 \\u043e\\u0442 25.12.2017 \\u2116\\u00a0239(\\u0434\\u0430\\u043b\\u0435\\u0435 \\u2013 \\u0422\\u0440\\u0435\\u0431\\u043e\\u0432\\u0430\\u043d\\u0438\\u044f \\u043a \\u0421\\u0411). \\u0412 \\u0437\\u0430\\u0432\\u0438\\u0441\\u0438\\u043c\\u043e\\u0441\\u0442\\u0438 \\u043e\\u0442 \\u043f\\u0440\\u0438\\u0441\\u0432\\u043e\\u0435\\u043d\\u043d\\u043e\\u0439 \\u043a\\u0430\\u0442\\u0435\\u0433\\u043e\\u0440\\u0438\\u0438 \\u0437\\u043d\\u0430\\u0447\\u0438\\u043c\\u043e\\u0441\\u0442\\u0438 \\u043a \\u043e\\u0431\\u044a\\u0435\\u043a\\u0442\\u0443 \\u041a\\u0418\\u0418 \\u043f\\u0440\\u0438\\u043c\\u0435\\u043d\\u0438\\u043c \\u043e\\u043f\\u0440\\u0435\\u0434\\u0435\\u043b\\u0435\\u043d\\u043d\\u044b\\u0439 \\u0431\\u0430\\u0437\\u043e\\u0432\\u044b\\u0439 \\u043d\\u0430\\u0431\\u043e\\u0440 \\u043c\\u0435\\u0440 \\u043f\\u043e \\u043e\\u0431\\u0435\\u0441\\u043f\\u0435\\u0447\\u0435\\u043d\\u0438\\u044e \\u0431\\u0435\\u0437\\u043e\\u043f\\u0430\\u0441\\u043d\\u043e\\u0441\\u0442\\u0438.\\u041f\\u043e\\u043b\\u043d\\u043e\\u0446\\u0435\\u043d\\u043d\\u0430\\u044f \\u043c\\u043e\\u0434\\u0435\\u043b\\u044c \\u0443\\u0433\\u0440\\u043e\\u0437 \\u0438 \\u043d\\u0430\\u0440\\u0443\\u0448\\u0438\\u0442\\u0435\\u043b\\u0435\\u0439 \\u0431\\u0435\\u0437\\u043e\\u043f\\u0430\\u0441\\u043d\\u043e\\u0441\\u0442\\u0438 \\u0438\\u043d\\u0444\\u043e\\u0440\\u043c\\u0430\\u0446\\u0438\\u0438 \\u0440\\u0430\\u0437\\u0440\\u0430\\u0431\\u0430\\u0442\\u044b\\u0432\\u0430\\u0435\\u0442\\u0441\\u044f \\u043d\\u0430 \\u044d\\u0442\\u0430\\u043f\\u0435 \\u0440\\u0430\\u0437\\u0440\\u0430\\u0431\\u043e\\u0442\\u043a\\u0438 \\u043e\\u0440\\u0433\\u0430\\u043d\\u0438\\u0437\\u0430\\u0446\\u0438\\u043e\\u043d\\u043d\\u044b\\u0445 \\u0438 \\u0442\\u0435\\u0445\\u043d\\u0438\\u0447\\u0435\\u0441\\u043a\\u0438\\u0445 \\u043c\\u0435\\u0440 \\u043f\\u043e \\u043e\\u0431\\u0435\\u0441\\u043f\\u0435\\u0447\\u0435\\u043d\\u0438\\u044e \\u0431\\u0435\\u0437\\u043e\\u043f\\u0430\\u0441\\u043d\\u043e\\u0441\\u0442\\u0438 \\u0437\\u043d\\u0430\\u0447\\u0438\\u043c\\u043e\\u0433\\u043e \\u043e\\u0431\\u044a\\u0435\\u043a\\u0442\\u0430 \\u041a\\u0418\\u0418 (\\u043f\\u0443\\u043d\\u043a\\u0442\\u00a011.1 \\u0422\\u0440\\u0435\\u0431\\u043e\\u0432\\u0430\\u043d\\u0438\\u0439 \\u043a \\u0421\\u0411). \\u0411\\u0430\\u0437\\u043e\\u0432\\u044b\\u0439 \\u043d\\u0430\\u0431\\u043e\\u0440 \\u043c\\u0435\\u0440 \\u043f\\u043e\\u0434\\u043b\\u0435\\u0436\\u0438\\u0442 \\u0430\\u0434\\u0430\\u043f\\u0442\\u0430\\u0446\\u0438\\u0438 \\u0432 \\u0441\\u043e\\u043e\\u0442\\u0432\\u0435\\u0442\\u0441\\u0442\\u0432\\u0438\\u0438 \\u0441 \\u0430\\u043a\\u0442\\u0443\\u0430\\u043b\\u044c\\u043d\\u044b\\u043c\\u0438 \\u0434\\u043b\\u044f \\u0437\\u043d\\u0430\\u0447\\u0438\\u043c\\u043e\\u0433\\u043e \\u043e\\u0431\\u044a\\u0435\\u043a\\u0442\\u0430 \\u041a\\u0418\\u0418 \\u0423\\u0411\\u0418. \\u041f\\u0440\\u0438 \\u0430\\u0434\\u0430\\u043f\\u0442\\u0430\\u0446\\u0438\\u0438 \\u0431\\u0430\\u0437\\u043e\\u0432\\u043e\\u0433\\u043e \\u043d\\u0430\\u0431\\u043e\\u0440\\u0430 \\u043c\\u0435\\u0440 \\u0434\\u043b\\u044f \\u043a\\u0430\\u0436\\u0434\\u043e\\u0439 \\u0423\\u0411\\u0418, \\u0432\\u043a\\u043b\\u044e\\u0447\\u0435\\u043d\\u043d\\u043e\\u0439 \\u0432 \\u043c\\u043e\\u0434\\u0435\\u043b\\u044c \\u0443\\u0433\\u0440\\u043e\\u0437, \\u0441\\u043e\\u043f\\u043e\\u0441\\u0442\\u0430\\u0432\\u043b\\u044f\\u0435\\u0442\\u0441\\u044f \\u043c\\u0435\\u0440\\u0430 \\u0438\\u043b\\u0438 \\u0433\\u0440\\u0443\\u043f\\u043f\\u0430 \\u043c\\u0435\\u0440, \\u043e\\u0431\\u0435\\u0441\\u043f\\u0435\\u0447\\u0438\\u0432\\u0430\\u044e\\u0449\\u0438\\u0435 \\u0431\\u043b\\u043e\\u043a\\u0438\\u0440\\u043e\\u0432\\u0430\\u043d\\u0438\\u0435 \\u043e\\u0434\\u043d\\u043e\\u0439 \\u0438\\u043b\\u0438 \\u043d\\u0435\\u0441\\u043a\\u043e\\u043b\\u044c\\u043a\\u0438\\u0445 \\u0423\\u0411\\u0418 \\u0438\\u043b\\u0438 \\u0441\\u043d\\u0438\\u0436\\u0430\\u044e\\u0449\\u0438\\u0435 \\u0432\\u043e\\u0437\\u043c\\u043e\\u0436\\u043d\\u043e\\u0441\\u0442\\u044c \\u0435\\u0435 \\u0440\\u0435\\u0430\\u043b\\u0438\\u0437\\u0430\\u0446\\u0438\\u0438, \\u0438\\u0441\\u0445\\u043e\\u0434\\u044f \\u0438\\u0437 \\u0443\\u0441\\u043b\\u043e\\u0432\\u0438\\u0439 \\u0444\\u0443\\u043d\\u043a\\u0446\\u0438\\u043e\\u043d\\u0438\\u0440\\u043e\\u0432\\u0430\\u043d\\u0438\\u044f \\u0437\\u043d\\u0430\\u0447\\u0438\\u043c\\u043e\\u0433\\u043e \\u043e\\u0431\\u044a\\u0435\\u043a\\u0442\\u0430 \\u041a\\u0418\\u0418. \\u0412 \\u0441\\u043b\\u0443\\u0447\\u0430\\u0435 \\u0435\\u0441\\u043b\\u0438 \\u0431\\u0430\\u0437\\u043e\\u0432\\u044b\\u0439 \\u043d\\u0430\\u0431\\u043e\\u0440 \\u043c\\u0435\\u0440 \\u043d\\u0435 \\u043f\\u043e\\u0437\\u0432\\u043e\\u043b\\u044f\\u0435\\u0442 \\u043e\\u0431\\u0435\\u0441\\u043f\\u0435\\u0447\\u0438\\u0442\\u044c \\u0431\\u043b\\u043e\\u043a\\u0438\\u0440\\u043e\\u0432\\u0430\\u043d\\u0438\\u0435 (\\u043d\\u0435\\u0439\\u0442\\u0440\\u0430\\u043b\\u0438\\u0437\\u0430\\u0446\\u0438\\u044e) \\u0432\\u0441\\u0435\\u0445 \\u0423\\u0411\\u0418, \\u0432 \\u043d\\u0435\\u0433\\u043e \\u0434\\u043e\\u043f\\u043e\\u043b\\u043d\\u0438\\u0442\\u0435\\u043b\\u044c\\u043d\\u043e \\u0432\\u043a\\u043b\\u044e\\u0447\\u0430\\u044e\\u0442\\u0441\\u044f \\u043c\\u0435\\u0440\\u044b, \\u043f\\u0440\\u0438\\u0432\\u0435\\u0434\\u0435\\u043d\\u043d\\u044b\\u0435 \\u0432 \\u043f\\u0440\\u0438\\u043b\\u043e\\u0436\\u0435\\u043d\\u0438\\u0438 \\u043a \\u0422\\u0440\\u0435\\u0431\\u043e\\u0432\\u0430\\u043d\\u0438\\u044f\\u043c \\u043a \\u0421\\u0411.\\u0418\\u0437 \\u0432\\u044b\\u0448\\u0435\\u0441\\u043a\\u0430\\u0437\\u0430\\u043d\\u043d\\u043e\\u0433\\u043e \\u0441\\u043b\\u0435\\u0434\\u0443\\u0435\\u0442, \\u0447\\u0442\\u043e \\u043f\\u0435\\u0440\\u0432\\u043e\\u043d\\u0430\\u0447\\u0430\\u043b\\u044c\\u043d\\u043e\\u0435, \\u043d\\u043e \\u043d\\u0435 \\u043f\\u043e\\u043b\\u043d\\u043e\\u0435 \\u043c\\u043e\\u0434\\u0435\\u043b\\u0438\\u0440\\u043e\\u0432\\u0430\\u043d\\u0438\\u0435 \\u0443\\u0433\\u0440\\u043e\\u0437 \\u043f\\u0440\\u043e\\u0438\\u0441\\u0445\\u043e\\u0434\\u0438\\u0442 \\u043d\\u0430 \\u044d\\u0442\\u0430\\u043f\\u0435 \\u043a\\u0430\\u0442\\u0435\\u0433\\u043e\\u0440\\u0438\\u0440\\u043e\\u0432\\u0430\\u043d\\u0438\\u044f \\u043e\\u0431\\u044a\\u0435\\u043a\\u0442\\u043e\\u0432 \\u041a\\u0418\\u0418. \\u0420\\u0430\\u0437\\u0440\\u0430\\u0431\\u043e\\u0442\\u043a\\u0430 \\u043f\\u043e\\u043b\\u043d\\u043e\\u0446\\u0435\\u043d\\u043d\\u043e\\u0439 \\u043c\\u043e\\u0434\\u0435\\u043b\\u0438 \\u0443\\u0433\\u0440\\u043e\\u0437 \\u0441 \\u0443\\u0447\\u0435\\u0442\\u043e\\u043c \\u0432\\u0441\\u0435\\u0445 \\u043e\\u0441\\u043e\\u0431\\u0435\\u043d\\u043d\\u043e\\u0441\\u0442\\u0435\\u0439 \\u0437\\u043d\\u0430\\u0447\\u0438\\u043c\\u043e\\u0433\\u043e \\u043e\\u0431\\u044a\\u0435\\u043a\\u0442\\u0430 \\u041a\\u0418\\u0418 \\u043e\\u0441\\u0443\\u0449\\u0435\\u0441\\u0442\\u0432\\u043b\\u044f\\u0435\\u0442\\u0441\\u044f \\u043f\\u0440\\u0438 \\u043f\\u0440\\u043e\\u0435\\u043a\\u0442\\u0438\\u0440\\u043e\\u0432\\u0430\\u043d\\u0438\\u0438 \\u0421\\u041e\\u0418\\u0411 \\u0434\\u043b\\u044f \\u0442\\u0430\\u043a\\u043e\\u0433\\u043e \\u043e\\u0431\\u044a\\u0435\\u043a\\u0442\\u0430. \\u0422\\u043e \\u0435\\u0441\\u0442\\u044c \\u0440\\u0430\\u0437\\u0440\\u0430\\u0431\\u043e\\u0442\\u043a\\u0430 \\u043c\\u043e\\u0434\\u0435\\u043b\\u0438 \\u0423\\u0411\\u0418 \\u043d\\u0435 \\u0442\\u0440\\u0435\\u0431\\u0443\\u0435\\u0442\\u0441\\u044f \\u043d\\u0430 \\u043c\\u043e\\u043c\\u0435\\u043d\\u0442 \\u0444\\u043e\\u0440\\u043c\\u0438\\u0440\\u043e\\u0432\\u0430\\u043d\\u0438\\u044f \\u0442\\u0435\\u0445\\u043d\\u0438\\u0447\\u0435\\u0441\\u043a\\u043e\\u0433\\u043e \\u0437\\u0430\\u0434\\u0430\\u043d\\u0438\\u044f \\u043d\\u0430 \\u043f\\u0440\\u043e\\u0435\\u043a\\u0442\\u0438\\u0440\\u043e\\u0432\\u0430\\u043d\\u0438\\u0435 \\u0421\\u041e\\u0418\\u0411, \\u0430 \\u043e\\u0441\\u0443\\u0449\\u0435\\u0441\\u0442\\u0432\\u043b\\u044f\\u0435\\u0442\\u0441\\u044f \\u0443\\u0436\\u0435 \\u0432 \\u0440\\u0430\\u043c\\u043a\\u0430\\u0445 \\u0432\\u044b\\u043f\\u043e\\u043b\\u043d\\u0435\\u043d\\u0438\\u044f \\u0442\\u0435\\u0445\\u043d\\u0438\\u0447\\u0435\\u0441\\u043a\\u043e\\u0433\\u043e \\u0437\\u0430\\u0434\\u0430\\u043d\\u0438\\u044f (\\u043f\\u0440\\u043e\\u0435\\u043a\\u0442\\u0438\\u0440\\u043e\\u0432\\u0430\\u043d\\u0438\\u0435 \\u0421\\u041e\\u0418\\u0411 \\u0432 \\u0441\\u043e\\u043e\\u0442\\u0432\\u0435\\u0442\\u0441\\u0442\\u0432\\u0438\\u0438 \\u0441 \\u0442\\u0440\\u0435\\u0431\\u043e\\u0432\\u0430\\u043d\\u0438\\u044f\\u043c\\u0438 \\u0442\\u0435\\u0445\\u043d\\u0438\\u0447\\u0435\\u0441\\u043a\\u043e\\u0433\\u043e \\u0437\\u0430\\u0434\\u0430\\u043d\\u0438\\u044f).\",\n          \"\\u0434\\u0430, \\u0434\\u043e\\u043f\\u0443\\u0441\\u043a\\u0430\\u0435\\u0442\\u0441\\u044f, \\u043e\\u0434\\u043d\\u0430\\u043a\\u043e \\u0432 \\u043e\\u0442\\u043d\\u043e\\u0448\\u0435\\u043d\\u0438\\u0438 \\u0438\\u0441\\u043f\\u043e\\u043b\\u044c\\u0437\\u0443\\u0435\\u043c\\u044b\\u0445 \\u0444\\u0443\\u043d\\u043a\\u0446\\u0438\\u0439 \\u0437\\u0430\\u0449\\u0438\\u0442\\u044b \\u043d\\u0435\\u043e\\u0431\\u0445\\u043e\\u0434\\u0438\\u043c\\u043e \\u043f\\u0440\\u043e\\u0432\\u0435\\u0441\\u0442\\u0438 \\u043e\\u0446\\u0435\\u043d\\u043a\\u0443 \\u043d\\u0430 \\u0441\\u043e\\u043e\\u0442\\u0432\\u0435\\u0442\\u0441\\u0442\\u0432\\u0438\\u0435 \\u0442\\u0440\\u0435\\u0431\\u043e\\u0432\\u0430\\u043d\\u0438\\u044f\\u043c \\u043f\\u043e \\u0431\\u0435\\u0437\\u043e\\u043f\\u0430\\u0441\\u043d\\u043e\\u0441\\u0442\\u0438 \\u0432 \\u0444\\u043e\\u0440\\u043c\\u0430\\u0445 \\u0438\\u0441\\u043f\\u044b\\u0442\\u0430\\u043d\\u0438\\u0439 \\u0438\\u043b\\u0438 \\u043f\\u0440\\u0438\\u0435\\u043c\\u043a\\u0438. \\u0422\\u0440\\u0435\\u0431\\u043e\\u0432\\u0430\\u043d\\u0438\\u044f \\u043e \\u043f\\u0440\\u0438\\u043c\\u0435\\u043d\\u0435\\u043d\\u0438\\u0438 \\u0441\\u0440\\u0435\\u0434\\u0441\\u0442\\u0432 \\u0437\\u0430\\u0449\\u0438\\u0442\\u044b \\u0438\\u043d\\u0444\\u043e\\u0440\\u043c\\u0430\\u0446\\u0438\\u0438 (\\u0432\\u0441\\u0442\\u0440\\u043e\\u0435\\u043d\\u043d\\u044b\\u0445 \\u0444\\u0443\\u043d\\u043a\\u0446\\u0438\\u0439 \\u0437\\u0430\\u0449\\u0438\\u0442\\u044b, \\u0434\\u0430\\u043b\\u0435\\u0435 \\u2013 \\u0421\\u0440\\u0417\\u0418), \\u043f\\u0440\\u043e\\u0448\\u0435\\u0434\\u0448\\u0438\\u0445 \\u043e\\u0446\\u0435\\u043d\\u043a\\u0443 \\u043d\\u0430 \\u0441\\u043e\\u043e\\u0442\\u0432\\u0435\\u0442\\u0441\\u0442\\u0432\\u0438\\u0435 \\u0442\\u0440\\u0435\\u0431\\u043e\\u0432\\u0430\\u043d\\u0438\\u044f\\u043c \\u043f\\u043e \\u0431\\u0435\\u0437\\u043e\\u043f\\u0430\\u0441\\u043d\\u043e\\u0441\\u0442\\u0438 \\u0432 \\u0444\\u043e\\u0440\\u043c\\u0430\\u0445 \\u043e\\u0431\\u044f\\u0437\\u0430\\u0442\\u0435\\u043b\\u044c\\u043d\\u043e\\u0439 \\u0441\\u0435\\u0440\\u0442\\u0438\\u0444\\u0438\\u043a\\u0430\\u0446\\u0438\\u0438, \\u0438\\u0441\\u043f\\u044b\\u0442\\u0430\\u043d\\u0438\\u0439 \\u0438\\u043b\\u0438 \\u043f\\u0440\\u0438\\u0435\\u043c\\u043a\\u0438, \\u0443\\u0441\\u0442\\u0430\\u043d\\u043e\\u0432\\u043b\\u0435\\u043d\\u044b \\u0432 \\u0422\\u0440\\u0435\\u0431\\u043e\\u0432\\u0430\\u043d\\u0438\\u044f\\u0445 \\u043f\\u043e \\u043e\\u0431\\u0435\\u0441\\u043f\\u0435\\u0447\\u0435\\u043d\\u0438\\u044e \\u0431\\u0435\\u0437\\u043e\\u043f\\u0430\\u0441\\u043d\\u043e\\u0441\\u0442\\u0438 \\u0437\\u043d\\u0430\\u0447\\u0438\\u043c\\u044b\\u0445 \\u043e\\u0431\\u044a\\u0435\\u043a\\u0442\\u043e\\u0432 \\u043a\\u0440\\u0438\\u0442\\u0438\\u0447\\u0435\\u0441\\u043a\\u043e\\u0439 \\u0438\\u043d\\u0444\\u043e\\u0440\\u043c\\u0430\\u0446\\u0438\\u043e\\u043d\\u043d\\u043e\\u0439 \\u0438\\u043d\\u0444\\u0440\\u0430\\u0441\\u0442\\u0440\\u0443\\u043a\\u0442\\u0443\\u0440\\u044b (\\u0434\\u0430\\u043b\\u0435\\u0435 \\u2013 \\u041a\\u0418\\u0418), \\u0443\\u0442\\u0432\\u0435\\u0440\\u0436\\u0434\\u0435\\u043d\\u043d\\u044b\\u0445\\u043f\\u0440\\u0438\\u043a\\u0430\\u0437\\u043e\\u043c \\u0424\\u0421\\u0422\\u042d\\u041a \\u0420\\u043e\\u0441\\u0441\\u0438\\u0438 \\u043e\\u0442 25.12.2017 \\u2116 239(\\u0434\\u0430\\u043b\\u0435\\u0435 \\u2013 \\u0422\\u0440\\u0435\\u0431\\u043e\\u0432\\u0430\\u043d\\u0438\\u044f \\u043a \\u0421\\u0411).\\u041e\\u0446\\u0435\\u043d\\u043a\\u0430 \\u0441\\u043e\\u043e\\u0442\\u0432\\u0435\\u0442\\u0441\\u0442\\u0432\\u0438\\u044f \\u0432 \\u0444\\u043e\\u0440\\u043c\\u0435 \\u0438\\u0441\\u043f\\u044b\\u0442\\u0430\\u043d\\u0438\\u0439 \\u0438\\u043b\\u0438 \\u043f\\u0440\\u0438\\u0435\\u043c\\u043a\\u0438 \\u043f\\u0440\\u043e\\u0432\\u043e\\u0434\\u0438\\u0442\\u0441\\u044f \\u0441\\u0443\\u0431\\u044a\\u0435\\u043a\\u0442\\u0430\\u043c\\u0438 \\u041a\\u0418\\u0418 \\u0441\\u0430\\u043c\\u043e\\u0441\\u0442\\u043e\\u044f\\u0442\\u0435\\u043b\\u044c\\u043d\\u043e \\u0438\\u043b\\u0438 \\u0441 \\u043f\\u0440\\u0438\\u0432\\u043b\\u0435\\u0447\\u0435\\u043d\\u0438\\u0435\\u043c \\u043e\\u0440\\u0433\\u0430\\u043d\\u0438\\u0437\\u0430\\u0446\\u0438\\u0439, \\u0438\\u043c\\u0435\\u044e\\u0449\\u0438\\u0445 \\u0432 \\u0441\\u043e\\u043e\\u0442\\u0432\\u0435\\u0442\\u0441\\u0442\\u0432\\u0438\\u0438 \\u0441 \\u0437\\u0430\\u043a\\u043e\\u043d\\u043e\\u0434\\u0430\\u0442\\u0435\\u043b\\u044c\\u0441\\u0442\\u0432\\u043e\\u043c \\u0420\\u043e\\u0441\\u0441\\u0438\\u0439\\u0441\\u043a\\u043e\\u0439 \\u0424\\u0435\\u0434\\u0435\\u0440\\u0430\\u0446\\u0438\\u0438 \\u043b\\u0438\\u0446\\u0435\\u043d\\u0437\\u0438\\u0438 \\u043d\\u0430 \\u0434\\u0435\\u044f\\u0442\\u0435\\u043b\\u044c\\u043d\\u043e\\u0441\\u0442\\u044c \\u0432 \\u043e\\u0431\\u043b\\u0430\\u0441\\u0442\\u0438 \\u0437\\u0430\\u0449\\u0438\\u0442\\u044b \\u0438\\u043d\\u0444\\u043e\\u0440\\u043c\\u0430\\u0446\\u0438\\u0438.\\u041f\\u0440\\u0438 \\u044d\\u0442\\u043e\\u043c \\u0434\\u043b\\u044f \\u0444\\u0443\\u043d\\u043a\\u0446\\u0438\\u0439 \\u0431\\u0435\\u0437\\u043e\\u043f\\u0430\\u0441\\u043d\\u043e\\u0441\\u0442\\u0438, \\u0432\\u0441\\u0442\\u0440\\u043e\\u0435\\u043d\\u043d\\u044b\\u0445 \\u0432 \\u043f\\u0440\\u0438\\u043a\\u043b\\u0430\\u0434\\u043d\\u043e\\u0435 \\u0438\\u043b\\u0438 \\u043e\\u0431\\u0449\\u0435\\u0441\\u0438\\u0441\\u0442\\u0435\\u043c\\u043d\\u043e\\u0435 \\u043f\\u0440\\u043e\\u0433\\u0440\\u0430\\u043c\\u043c\\u043d\\u043e\\u0435 \\u043e\\u0431\\u0435\\u0441\\u043f\\u0435\\u0447\\u0435\\u043d\\u0438\\u0435 (\\u0434\\u0430\\u043b\\u0435\\u0435 \\u2013 \\u041f\\u041e), \\u043d\\u0435 \\u0442\\u0440\\u0435\\u0431\\u0443\\u0435\\u0442\\u0441\\u044f \\u043f\\u0440\\u043e\\u0432\\u043e\\u0434\\u0438\\u0442\\u044c \\u0434\\u043e\\u043f\\u043e\\u043b\\u043d\\u0438\\u0442\\u0435\\u043b\\u044c\\u043d\\u0443\\u044e \\u043e\\u0446\\u0435\\u043d\\u043a\\u0443 \\u0441\\u043e\\u043e\\u0442\\u0432\\u0435\\u0442\\u0441\\u0442\\u0432\\u0438\\u044f \\u043f\\u043e \\u043e\\u0446\\u0435\\u043d\\u043e\\u0447\\u043d\\u043e\\u043c\\u0443 \\u0443\\u0440\\u043e\\u0432\\u043d\\u044e \\u0434\\u043e\\u0432\\u0435\\u0440\\u0438\\u044f. \\u0422\\u0440\\u0435\\u0431\\u043e\\u0432\\u0430\\u043d\\u0438\\u044f \\u043a \\u0441\\u043e\\u043e\\u0442\\u0432\\u0435\\u0442\\u0441\\u0442\\u0432\\u0438\\u044e 6 \\u0438\\u043b\\u0438 \\u0431\\u043e\\u043b\\u0435\\u0435 \\u0432\\u044b\\u0441\\u043e\\u043a\\u043e\\u043c\\u0443 \\u0443\\u0440\\u043e\\u0432\\u043d\\u044e \\u0434\\u043e\\u0432\\u0435\\u0440\\u0438\\u044f \\u043f\\u0440\\u0435\\u0434\\u044a\\u044f\\u0432\\u043b\\u044f\\u044e\\u0442\\u0441\\u044f \\u0442\\u043e\\u043b\\u044c\\u043a\\u043e \\u043a \\u0441\\u0435\\u0440\\u0442\\u0438\\u0444\\u0438\\u0446\\u0438\\u0440\\u043e\\u0432\\u0430\\u043d\\u043d\\u044b\\u043c \\u0421\\u0440\\u0417\\u0418, \\u0430 \\u0442\\u0430\\u043a\\u0436\\u0435 \\u043d\\u0435 \\u0432\\u0441\\u0442\\u0440\\u043e\\u0435\\u043d\\u043d\\u044b\\u043c \\u0432 \\u043e\\u0431\\u0449\\u0435\\u0441\\u0438\\u0441\\u0442\\u0435\\u043c\\u043d\\u043e\\u0435 \\u0438\\u043b\\u0438 \\u043f\\u0440\\u0438\\u043a\\u043b\\u0430\\u0434\\u043d\\u043e\\u0435 \\u041f\\u041e, \\u0442\\u0430\\u043a \\u043d\\u0430\\u0437\\u044b\\u0432\\u0430\\u0435\\u043c\\u044b\\u0435 \\u043d\\u0430\\u043b\\u043e\\u0436\\u0435\\u043d\\u043d\\u044b\\u0435 (\\u043f\\u0443\\u043d\\u043a\\u0442\\u044b\\u00a029 \\u0438 29.2 \\u0422\\u0440\\u0435\\u0431\\u043e\\u0432\\u0430\\u043d\\u0438\\u0439 \\u043a \\u0421\\u0411).\\u0422\\u0430\\u043a\\u0438\\u043c \\u043e\\u0431\\u0440\\u0430\\u0437\\u043e\\u043c, \\u0432 \\u0441\\u043b\\u0443\\u0447\\u0430\\u0435 \\u043f\\u0440\\u0438\\u043c\\u0435\\u043d\\u0435\\u043d\\u0438\\u044f \\u0432\\u0441\\u0442\\u0440\\u043e\\u0435\\u043d\\u043d\\u044b\\u0445 \\u0432 \\u043e\\u0431\\u0449\\u0435\\u0441\\u0438\\u0441\\u0442\\u0435\\u043c\\u043d\\u043e\\u0435 \\u0438\\u043b\\u0438 \\u043f\\u0440\\u0438\\u043a\\u043b\\u0430\\u0434\\u043d\\u043e\\u0435 \\u041f\\u041e \\u0444\\u0443\\u043d\\u043a\\u0446\\u0438\\u0439 \\u0431\\u0435\\u0437\\u043e\\u043f\\u0430\\u0441\\u043d\\u043e\\u0441\\u0442\\u0438, \\u043d\\u0435\\u043e\\u0431\\u0445\\u043e\\u0434\\u0438\\u043c\\u043e \\u043f\\u0440\\u043e\\u0432\\u0435\\u0441\\u0442\\u0438 \\u0432 \\u043e\\u0442\\u043d\\u043e\\u0448\\u0435\\u043d\\u0438\\u0438 \\u043d\\u0438\\u0445 \\u043e\\u0446\\u0435\\u043d\\u043a\\u0443 \\u043d\\u0430 \\u0441\\u043e\\u043e\\u0442\\u0432\\u0435\\u0442\\u0441\\u0442\\u0432\\u0438\\u0435 \\u0442\\u0440\\u0435\\u0431\\u043e\\u0432\\u0430\\u043d\\u0438\\u044f\\u043c \\u0431\\u0435\\u0437\\u043e\\u043f\\u0430\\u0441\\u043d\\u043e\\u0441\\u0442\\u0438 \\u0432 \\u0444\\u043e\\u0440\\u043c\\u0435 \\u0438\\u0441\\u043f\\u044b\\u0442\\u0430\\u043d\\u0438\\u0439 \\u0438\\u043b\\u0438 \\u043f\\u0440\\u0438\\u0435\\u043c\\u043a\\u0438, \\u043d\\u043e \\u043d\\u0435 \\u0442\\u0440\\u0435\\u0431\\u0443\\u0435\\u0442\\u0441\\u044f \\u043f\\u0440\\u043e\\u0432\\u0435\\u0434\\u0435\\u043d\\u0438\\u0435 \\u0434\\u043e\\u043f\\u043e\\u043b\\u043d\\u0438\\u0442\\u0435\\u043b\\u044c\\u043d\\u044b\\u0445 \\u043c\\u0435\\u0440\\u043e\\u043f\\u0440\\u0438\\u044f\\u0442\\u0438\\u0439, \\u043f\\u043e\\u0434\\u0442\\u0432\\u0435\\u0440\\u0436\\u0434\\u0430\\u044e\\u0449\\u0438\\u0445 \\u0441\\u043e\\u043e\\u0442\\u0432\\u0435\\u0442\\u0441\\u0442\\u0432\\u0438\\u0435 \\u0442\\u0430\\u043a\\u043e\\u0433\\u043e \\u0421\\u0440\\u0417\\u0418 \\u043f\\u043e \\u043e\\u0446\\u0435\\u043d\\u043e\\u0447\\u043d\\u043e\\u043c\\u0443 \\u0443\\u0440\\u043e\\u0432\\u043d\\u044e \\u0434\\u043e\\u0432\\u0435\\u0440\\u0438\\u044f.\"\n        ],\n        \"semantic_type\": \"\",\n        \"description\": \"\"\n      }\n    },\n    {\n      \"column\": \"LLM_Answer\",\n      \"properties\": {\n        \"dtype\": \"string\",\n        \"num_unique_values\": 3,\n        \"samples\": [\n          \"\\u0412 \\u0437\\u043d\\u0430\\u0447\\u0438\\u043c\\u043e\\u043c \\u043e\\u0431\\u044a\\u0435\\u043a\\u0442\\u0435 \\u043d\\u0435 \\u0434\\u043e\\u043f\\u0443\\u0441\\u043a\\u0430\\u0435\\u0442\\u0441\\u044f \\u043d\\u0430\\u043b\\u0438\\u0447\\u0438\\u0435 \\u0443\\u0434\\u0430\\u043b\\u0435\\u043d\\u043d\\u043e\\u0433\\u043e \\u0434\\u043e\\u0441\\u0442\\u0443\\u043f\\u0430 \\u043a \\u043f\\u0440\\u043e\\u0433\\u0440\\u0430\\u043c\\u043c\\u043d\\u044b\\u043c \\u0438 \\u043f\\u0440\\u043e\\u0433\\u0440\\u0430\\u043c\\u043c\\u043d\\u043e-\\u0430\\u043f\\u043f\\u0430\\u0440\\u0430\\u0442\\u043d\\u044b\\u043c \\u0441\\u0440\\u0435\\u0434\\u0441\\u0442\\u0432\\u0430\\u043c, \\u0432 \\u0442\\u043e\\u043c \\u0447\\u0438\\u0441\\u043b\\u0435 \\u0441\\u0440\\u0435\\u0434\\u0441\\u0442\\u0432\\u0430\\u043c \\u0437\\u0430\\u0449\\u0438\\u0442\\u044b \\u0438\\u043d\\u0444\\u043e\\u0440\\u043c\\u0430\\u0446\\u0438\\u0438, \\u0434\\u043b\\u044f \\u043e\\u0431\\u043d\\u043e\\u0432\\u043b\\u0435\\u043d\\u0438\\u044f \\u0438\\u043b\\u0438 \\u0443\\u043f\\u0440\\u0430\\u0432\\u043b\\u0435\\u043d\\u0438\\u044f \\u0441\\u043e \\u0441\\u0442\\u043e\\u0440\\u043e\\u043d\\u044b \\u043b\\u0438\\u0446, \\u043d\\u0435 \\u044f\\u0432\\u043b\\u044f\\u044e\\u0449\\u0438\\u0445\\u0441\\u044f \\u0440\\u0430\\u0431\\u043e\\u0442\\u043d\\u0438\\u043a\\u0430\\u043c\\u0438 \\u0441\\u0443\\u0431\\u044a\\u0435\\u043a\\u0442\\u0430 \\u043a\\u0440\\u0438\\u0442\\u0438\\u0447\\u0435\\u0441\\u043a\\u043e\\u0439 \\u0438\\u043d\\u0444\\u043e\\u0440\\u043c\\u0430\\u0446\\u0438\\u043e\\u043d\\u043d\\u043e\\u0439 \\u0438\\u043d\\u0444\\u0440\\u0430\\u0441\\u0442\\u0440\\u0443\\u043a\\u0442\\u0443\\u0440\\u044b.\",\n          \"\\u041c\\u043e\\u0434\\u0435\\u043b\\u0438\\u0440\\u043e\\u0432\\u0430\\u043d\\u0438\\u0435 \\u0443\\u0433\\u0440\\u043e\\u0437 \\u0434\\u043e\\u043b\\u0436\\u043d\\u043e \\u0432\\u044b\\u043f\\u043e\\u043b\\u043d\\u044f\\u0442\\u044c\\u0441\\u044f \\u0434\\u043e \\u0440\\u0430\\u0437\\u0440\\u0430\\u0431\\u043e\\u0442\\u043a\\u0438 \\u0442\\u0435\\u0445\\u043d\\u0438\\u0447\\u0435\\u0441\\u043a\\u043e\\u0433\\u043e \\u0437\\u0430\\u0434\\u0430\\u043d\\u0438\\u044f \\u043d\\u0430 \\u0441\\u0438\\u0441\\u0442\\u0435\\u043c\\u0443 \\u043e\\u0431\\u0435\\u0441\\u043f\\u0435\\u0447\\u0435\\u043d\\u0438\\u044f \\u0438\\u043d\\u0444\\u043e\\u0440\\u043c\\u0430\\u0446\\u0438\\u043e\\u043d\\u043d\\u043e\\u0439 \\u0431\\u0435\\u0437\\u043e\\u043f\\u0430\\u0441\\u043d\\u043e\\u0441\\u0442\\u0438 (\\u0421\\u041e\\u0418\\u0411).\",\n          \"\\u041d\\u0435 \\u0437\\u043d\\u0430\\u044e\"\n        ],\n        \"semantic_type\": \"\",\n        \"description\": \"\"\n      }\n    },\n    {\n      \"column\": \"Similarity Score\",\n      \"properties\": {\n        \"dtype\": \"object\",\n        \"semantic_type\": \"\",\n        \"description\": \"\"\n      }\n    }\n  ]\n}"
            }
          },
          "metadata": {},
          "execution_count": 29
        }
      ]
    },
    {
      "cell_type": "markdown",
      "source": [
        "#BERTScore"
      ],
      "metadata": {
        "id": "P1GGRCvinv4o"
      }
    },
    {
      "cell_type": "code",
      "source": [
        "from torchmetrics.functional.text.bert import bert_score\n",
        "preds = message\n",
        "target = answers\n",
        "df_BERTScore = pd.DataFrame(columns=['Answer', 'LLM_Answer', 'Precision', 'Recall', 'F1'])\n",
        "b_score = bert_score(preds=preds , target=target, model_name_or_path=\"deepvk/USER-bge-m3\")\n",
        "for e in range(len(message)):\n",
        "  new_row = {'Answer': answers[e], 'LLM_Answer': message[e], 'Precision': b_score['precision'][e], 'Recall': b_score['recall'][e], 'F1': b_score['f1'][e]}\n",
        "  df_BERTScore = pd.concat([df_BERTScore, pd.DataFrame([new_row])], ignore_index=True)\n",
        "df_BERTScore"
      ],
      "metadata": {
        "colab": {
          "base_uri": "https://localhost:8080/",
          "height": 143
        },
        "id": "FNZ7NgGckMAN",
        "outputId": "dd26dd5e-c410-4e67-d752-f2084c94e298"
      },
      "execution_count": 30,
      "outputs": [
        {
          "output_type": "execute_result",
          "data": {
            "text/plain": [
              "                                              Answer  \\\n",
              "0  прямые ограничения по допуску иностранных граж...   \n",
              "1  первичное моделирование угроз безопасности инф...   \n",
              "2  да, допускается, однако в отношении используем...   \n",
              "\n",
              "                                          LLM_Answer       Precision  \\\n",
              "0  В значимом объекте не допускается наличие удал...  tensor(0.7262)   \n",
              "1  Моделирование угроз должно выполняться до разр...  tensor(0.7115)   \n",
              "2                                            Не знаю  tensor(0.5724)   \n",
              "\n",
              "           Recall              F1  \n",
              "0  tensor(0.6022)  tensor(0.6584)  \n",
              "1  tensor(0.6017)  tensor(0.6520)  \n",
              "2  tensor(0.4781)  tensor(0.5210)  "
            ],
            "text/html": [
              "\n",
              "  <div id=\"df-5385c549-6cb0-4b2b-ac0a-5e2a911f6de7\" class=\"colab-df-container\">\n",
              "    <div>\n",
              "<style scoped>\n",
              "    .dataframe tbody tr th:only-of-type {\n",
              "        vertical-align: middle;\n",
              "    }\n",
              "\n",
              "    .dataframe tbody tr th {\n",
              "        vertical-align: top;\n",
              "    }\n",
              "\n",
              "    .dataframe thead th {\n",
              "        text-align: right;\n",
              "    }\n",
              "</style>\n",
              "<table border=\"1\" class=\"dataframe\">\n",
              "  <thead>\n",
              "    <tr style=\"text-align: right;\">\n",
              "      <th></th>\n",
              "      <th>Answer</th>\n",
              "      <th>LLM_Answer</th>\n",
              "      <th>Precision</th>\n",
              "      <th>Recall</th>\n",
              "      <th>F1</th>\n",
              "    </tr>\n",
              "  </thead>\n",
              "  <tbody>\n",
              "    <tr>\n",
              "      <th>0</th>\n",
              "      <td>прямые ограничения по допуску иностранных граж...</td>\n",
              "      <td>В значимом объекте не допускается наличие удал...</td>\n",
              "      <td>tensor(0.7262)</td>\n",
              "      <td>tensor(0.6022)</td>\n",
              "      <td>tensor(0.6584)</td>\n",
              "    </tr>\n",
              "    <tr>\n",
              "      <th>1</th>\n",
              "      <td>первичное моделирование угроз безопасности инф...</td>\n",
              "      <td>Моделирование угроз должно выполняться до разр...</td>\n",
              "      <td>tensor(0.7115)</td>\n",
              "      <td>tensor(0.6017)</td>\n",
              "      <td>tensor(0.6520)</td>\n",
              "    </tr>\n",
              "    <tr>\n",
              "      <th>2</th>\n",
              "      <td>да, допускается, однако в отношении используем...</td>\n",
              "      <td>Не знаю</td>\n",
              "      <td>tensor(0.5724)</td>\n",
              "      <td>tensor(0.4781)</td>\n",
              "      <td>tensor(0.5210)</td>\n",
              "    </tr>\n",
              "  </tbody>\n",
              "</table>\n",
              "</div>\n",
              "    <div class=\"colab-df-buttons\">\n",
              "\n",
              "  <div class=\"colab-df-container\">\n",
              "    <button class=\"colab-df-convert\" onclick=\"convertToInteractive('df-5385c549-6cb0-4b2b-ac0a-5e2a911f6de7')\"\n",
              "            title=\"Convert this dataframe to an interactive table.\"\n",
              "            style=\"display:none;\">\n",
              "\n",
              "  <svg xmlns=\"http://www.w3.org/2000/svg\" height=\"24px\" viewBox=\"0 -960 960 960\">\n",
              "    <path d=\"M120-120v-720h720v720H120Zm60-500h600v-160H180v160Zm220 220h160v-160H400v160Zm0 220h160v-160H400v160ZM180-400h160v-160H180v160Zm440 0h160v-160H620v160ZM180-180h160v-160H180v160Zm440 0h160v-160H620v160Z\"/>\n",
              "  </svg>\n",
              "    </button>\n",
              "\n",
              "  <style>\n",
              "    .colab-df-container {\n",
              "      display:flex;\n",
              "      gap: 12px;\n",
              "    }\n",
              "\n",
              "    .colab-df-convert {\n",
              "      background-color: #E8F0FE;\n",
              "      border: none;\n",
              "      border-radius: 50%;\n",
              "      cursor: pointer;\n",
              "      display: none;\n",
              "      fill: #1967D2;\n",
              "      height: 32px;\n",
              "      padding: 0 0 0 0;\n",
              "      width: 32px;\n",
              "    }\n",
              "\n",
              "    .colab-df-convert:hover {\n",
              "      background-color: #E2EBFA;\n",
              "      box-shadow: 0px 1px 2px rgba(60, 64, 67, 0.3), 0px 1px 3px 1px rgba(60, 64, 67, 0.15);\n",
              "      fill: #174EA6;\n",
              "    }\n",
              "\n",
              "    .colab-df-buttons div {\n",
              "      margin-bottom: 4px;\n",
              "    }\n",
              "\n",
              "    [theme=dark] .colab-df-convert {\n",
              "      background-color: #3B4455;\n",
              "      fill: #D2E3FC;\n",
              "    }\n",
              "\n",
              "    [theme=dark] .colab-df-convert:hover {\n",
              "      background-color: #434B5C;\n",
              "      box-shadow: 0px 1px 3px 1px rgba(0, 0, 0, 0.15);\n",
              "      filter: drop-shadow(0px 1px 2px rgba(0, 0, 0, 0.3));\n",
              "      fill: #FFFFFF;\n",
              "    }\n",
              "  </style>\n",
              "\n",
              "    <script>\n",
              "      const buttonEl =\n",
              "        document.querySelector('#df-5385c549-6cb0-4b2b-ac0a-5e2a911f6de7 button.colab-df-convert');\n",
              "      buttonEl.style.display =\n",
              "        google.colab.kernel.accessAllowed ? 'block' : 'none';\n",
              "\n",
              "      async function convertToInteractive(key) {\n",
              "        const element = document.querySelector('#df-5385c549-6cb0-4b2b-ac0a-5e2a911f6de7');\n",
              "        const dataTable =\n",
              "          await google.colab.kernel.invokeFunction('convertToInteractive',\n",
              "                                                    [key], {});\n",
              "        if (!dataTable) return;\n",
              "\n",
              "        const docLinkHtml = 'Like what you see? Visit the ' +\n",
              "          '<a target=\"_blank\" href=https://colab.research.google.com/notebooks/data_table.ipynb>data table notebook</a>'\n",
              "          + ' to learn more about interactive tables.';\n",
              "        element.innerHTML = '';\n",
              "        dataTable['output_type'] = 'display_data';\n",
              "        await google.colab.output.renderOutput(dataTable, element);\n",
              "        const docLink = document.createElement('div');\n",
              "        docLink.innerHTML = docLinkHtml;\n",
              "        element.appendChild(docLink);\n",
              "      }\n",
              "    </script>\n",
              "  </div>\n",
              "\n",
              "\n",
              "<div id=\"df-45bd8ba6-83c4-462f-a2c1-dfbeddec5567\">\n",
              "  <button class=\"colab-df-quickchart\" onclick=\"quickchart('df-45bd8ba6-83c4-462f-a2c1-dfbeddec5567')\"\n",
              "            title=\"Suggest charts\"\n",
              "            style=\"display:none;\">\n",
              "\n",
              "<svg xmlns=\"http://www.w3.org/2000/svg\" height=\"24px\"viewBox=\"0 0 24 24\"\n",
              "     width=\"24px\">\n",
              "    <g>\n",
              "        <path d=\"M19 3H5c-1.1 0-2 .9-2 2v14c0 1.1.9 2 2 2h14c1.1 0 2-.9 2-2V5c0-1.1-.9-2-2-2zM9 17H7v-7h2v7zm4 0h-2V7h2v10zm4 0h-2v-4h2v4z\"/>\n",
              "    </g>\n",
              "</svg>\n",
              "  </button>\n",
              "\n",
              "<style>\n",
              "  .colab-df-quickchart {\n",
              "      --bg-color: #E8F0FE;\n",
              "      --fill-color: #1967D2;\n",
              "      --hover-bg-color: #E2EBFA;\n",
              "      --hover-fill-color: #174EA6;\n",
              "      --disabled-fill-color: #AAA;\n",
              "      --disabled-bg-color: #DDD;\n",
              "  }\n",
              "\n",
              "  [theme=dark] .colab-df-quickchart {\n",
              "      --bg-color: #3B4455;\n",
              "      --fill-color: #D2E3FC;\n",
              "      --hover-bg-color: #434B5C;\n",
              "      --hover-fill-color: #FFFFFF;\n",
              "      --disabled-bg-color: #3B4455;\n",
              "      --disabled-fill-color: #666;\n",
              "  }\n",
              "\n",
              "  .colab-df-quickchart {\n",
              "    background-color: var(--bg-color);\n",
              "    border: none;\n",
              "    border-radius: 50%;\n",
              "    cursor: pointer;\n",
              "    display: none;\n",
              "    fill: var(--fill-color);\n",
              "    height: 32px;\n",
              "    padding: 0;\n",
              "    width: 32px;\n",
              "  }\n",
              "\n",
              "  .colab-df-quickchart:hover {\n",
              "    background-color: var(--hover-bg-color);\n",
              "    box-shadow: 0 1px 2px rgba(60, 64, 67, 0.3), 0 1px 3px 1px rgba(60, 64, 67, 0.15);\n",
              "    fill: var(--button-hover-fill-color);\n",
              "  }\n",
              "\n",
              "  .colab-df-quickchart-complete:disabled,\n",
              "  .colab-df-quickchart-complete:disabled:hover {\n",
              "    background-color: var(--disabled-bg-color);\n",
              "    fill: var(--disabled-fill-color);\n",
              "    box-shadow: none;\n",
              "  }\n",
              "\n",
              "  .colab-df-spinner {\n",
              "    border: 2px solid var(--fill-color);\n",
              "    border-color: transparent;\n",
              "    border-bottom-color: var(--fill-color);\n",
              "    animation:\n",
              "      spin 1s steps(1) infinite;\n",
              "  }\n",
              "\n",
              "  @keyframes spin {\n",
              "    0% {\n",
              "      border-color: transparent;\n",
              "      border-bottom-color: var(--fill-color);\n",
              "      border-left-color: var(--fill-color);\n",
              "    }\n",
              "    20% {\n",
              "      border-color: transparent;\n",
              "      border-left-color: var(--fill-color);\n",
              "      border-top-color: var(--fill-color);\n",
              "    }\n",
              "    30% {\n",
              "      border-color: transparent;\n",
              "      border-left-color: var(--fill-color);\n",
              "      border-top-color: var(--fill-color);\n",
              "      border-right-color: var(--fill-color);\n",
              "    }\n",
              "    40% {\n",
              "      border-color: transparent;\n",
              "      border-right-color: var(--fill-color);\n",
              "      border-top-color: var(--fill-color);\n",
              "    }\n",
              "    60% {\n",
              "      border-color: transparent;\n",
              "      border-right-color: var(--fill-color);\n",
              "    }\n",
              "    80% {\n",
              "      border-color: transparent;\n",
              "      border-right-color: var(--fill-color);\n",
              "      border-bottom-color: var(--fill-color);\n",
              "    }\n",
              "    90% {\n",
              "      border-color: transparent;\n",
              "      border-bottom-color: var(--fill-color);\n",
              "    }\n",
              "  }\n",
              "</style>\n",
              "\n",
              "  <script>\n",
              "    async function quickchart(key) {\n",
              "      const quickchartButtonEl =\n",
              "        document.querySelector('#' + key + ' button');\n",
              "      quickchartButtonEl.disabled = true;  // To prevent multiple clicks.\n",
              "      quickchartButtonEl.classList.add('colab-df-spinner');\n",
              "      try {\n",
              "        const charts = await google.colab.kernel.invokeFunction(\n",
              "            'suggestCharts', [key], {});\n",
              "      } catch (error) {\n",
              "        console.error('Error during call to suggestCharts:', error);\n",
              "      }\n",
              "      quickchartButtonEl.classList.remove('colab-df-spinner');\n",
              "      quickchartButtonEl.classList.add('colab-df-quickchart-complete');\n",
              "    }\n",
              "    (() => {\n",
              "      let quickchartButtonEl =\n",
              "        document.querySelector('#df-45bd8ba6-83c4-462f-a2c1-dfbeddec5567 button');\n",
              "      quickchartButtonEl.style.display =\n",
              "        google.colab.kernel.accessAllowed ? 'block' : 'none';\n",
              "    })();\n",
              "  </script>\n",
              "</div>\n",
              "    </div>\n",
              "  </div>\n"
            ],
            "application/vnd.google.colaboratory.intrinsic+json": {
              "type": "dataframe",
              "variable_name": "df_BERTScore",
              "summary": "{\n  \"name\": \"df_BERTScore\",\n  \"rows\": 3,\n  \"fields\": [\n    {\n      \"column\": \"Answer\",\n      \"properties\": {\n        \"dtype\": \"string\",\n        \"num_unique_values\": 3,\n        \"samples\": [\n          \"\\u043f\\u0440\\u044f\\u043c\\u044b\\u0435 \\u043e\\u0433\\u0440\\u0430\\u043d\\u0438\\u0447\\u0435\\u043d\\u0438\\u044f \\u043f\\u043e \\u0434\\u043e\\u043f\\u0443\\u0441\\u043a\\u0443 \\u0438\\u043d\\u043e\\u0441\\u0442\\u0440\\u0430\\u043d\\u043d\\u044b\\u0445 \\u0433\\u0440\\u0430\\u0436\\u0434\\u0430\\u043d \\u043a \\u044d\\u043a\\u0441\\u043f\\u043b\\u0443\\u0430\\u0442\\u0430\\u0446\\u0438\\u0438 \\u0438 \\u043e\\u0431\\u0441\\u043b\\u0443\\u0436\\u0438\\u0432\\u0430\\u043d\\u0438\\u044e \\u0437\\u043d\\u0430\\u0447\\u0438\\u043c\\u043e\\u0433\\u043e \\u043e\\u0431\\u044a\\u0435\\u043a\\u0442\\u0430 \\u043a\\u0440\\u0438\\u0442\\u0438\\u0447\\u0435\\u0441\\u043a\\u043e\\u0439 \\u0438\\u043d\\u0444\\u043e\\u0440\\u043c\\u0430\\u0446\\u0438\\u043e\\u043d\\u043d\\u043e\\u0439 \\u0438\\u043d\\u0444\\u0440\\u0430\\u0441\\u0442\\u0440\\u0443\\u043a\\u0442\\u0443\\u0440\\u044b (\\u0434\\u0430\\u043b\\u0435\\u0435 \\u2013 \\u041a\\u0418\\u0418) \\u043d\\u0435 \\u0443\\u0441\\u0442\\u0430\\u043d\\u043e\\u0432\\u043b\\u0435\\u043d\\u044b \\u0432 \\u0434\\u0435\\u0439\\u0441\\u0442\\u0432\\u0443\\u044e\\u0449\\u0435\\u043c \\u0437\\u0430\\u043a\\u043e\\u043d\\u043e\\u0434\\u0430\\u0442\\u0435\\u043b\\u044c\\u0441\\u0442\\u0432\\u0435 \\u0420\\u043e\\u0441\\u0441\\u0438\\u0439\\u0441\\u043a\\u043e\\u0439 \\u0424\\u0435\\u0434\\u0435\\u0440\\u0430\\u0446\\u0438\\u0438 (\\u0434\\u0430\\u043b\\u0435\\u0435 \\u2013 \\u0420\\u0424). \\u0412 \\u0440\\u0430\\u043c\\u043a\\u0430\\u0445 \\u0442\\u0440\\u0443\\u0434\\u043e\\u0432\\u043e\\u0433\\u043e \\u0434\\u043e\\u0433\\u043e\\u0432\\u043e\\u0440\\u0430 \\u0434\\u043e\\u043f\\u0443\\u0441\\u043a\\u0430\\u0435\\u0442\\u0441\\u044f \\u043d\\u0430\\u043d\\u0438\\u043c\\u0430\\u0442\\u044c \\u0438\\u043d\\u043e\\u0441\\u0442\\u0440\\u0430\\u043d\\u043d\\u044b\\u0445 \\u0433\\u0440\\u0430\\u0436\\u0434\\u0430\\u043d \\u0434\\u043b\\u044f \\u0440\\u0430\\u0431\\u043e\\u0442\\u044b \\u043d\\u0430 \\u0437\\u043d\\u0430\\u0447\\u0438\\u043c\\u044b\\u0445 \\u043e\\u0431\\u044a\\u0435\\u043a\\u0442\\u0430\\u0445 \\u041a\\u0418\\u0418.\\u041e\\u0434\\u043d\\u0430\\u043a\\u043e \\u0441\\u0443\\u0449\\u0435\\u0441\\u0442\\u0432\\u0443\\u044e\\u0442 \\u0438\\u0441\\u043a\\u043b\\u044e\\u0447\\u0435\\u043d\\u0438\\u044f \\u0434\\u043b\\u044f \\u043e\\u0431\\u044a\\u0435\\u043a\\u0442\\u043e\\u0432 \\u041a\\u0418\\u0418, \\u0444\\u0443\\u043d\\u043a\\u0446\\u0438\\u043e\\u043d\\u0438\\u0440\\u0443\\u044e\\u0449\\u0438\\u0445 \\u0432 \\u0441\\u0444\\u0435\\u0440\\u0435 \\u0442\\u043e\\u043f\\u043b\\u0438\\u0432\\u043d\\u043e-\\u044d\\u043d\\u0435\\u0440\\u0433\\u0435\\u0442\\u0438\\u0447\\u0435\\u0441\\u043a\\u043e\\u0433\\u043e \\u043a\\u043e\\u043c\\u043f\\u043b\\u0435\\u043a\\u0441\\u0430 (\\u0434\\u0430\\u043b\\u0435\\u0435 \\u2013 \\u0422\\u042d\\u041a). \\u0421\\u043e\\u0433\\u043b\\u0430\\u0441\\u043d\\u043e \\u043f\\u0443\\u043d\\u043a\\u0442\\u0443\\u00a05 \\u0447\\u0430\\u0441\\u0442\\u0438\\u00a01 \\u0441\\u0442\\u0430\\u0442\\u044c\\u0438\\u00a010\\u0424\\u0435\\u0434\\u0435\\u0440\\u0430\\u043b\\u044c\\u043d\\u043e\\u0433\\u043e \\u0437\\u0430\\u043a\\u043e\\u043d\\u0430 \\u043e\\u0442 21.07.2011 \\u2116\\u00a0256-\\u0424\\u0417 \\u00ab\\u041e \\u0431\\u0435\\u0437\\u043e\\u043f\\u0430\\u0441\\u043d\\u043e\\u0441\\u0442\\u0438 \\u043e\\u0431\\u044a\\u0435\\u043a\\u0442\\u043e\\u0432 \\u0442\\u043e\\u043f\\u043b\\u0438\\u0432\\u043d\\u043e-\\u044d\\u043d\\u0435\\u0440\\u0433\\u0435\\u0442\\u0438\\u0447\\u0435\\u0441\\u043a\\u043e\\u0433\\u043e \\u043a\\u043e\\u043c\\u043f\\u043b\\u0435\\u043a\\u0441\\u0430\\u00bb, \\u0440\\u0430\\u0431\\u043e\\u0442\\u0443, \\u043d\\u0435\\u043f\\u043e\\u0441\\u0440\\u0435\\u0434\\u0441\\u0442\\u0432\\u0435\\u043d\\u043d\\u043e \\u0441\\u0432\\u044f\\u0437\\u0430\\u043d\\u043d\\u0443\\u044e \\u0441 \\u043e\\u0431\\u0435\\u0441\\u043f\\u0435\\u0447\\u0435\\u043d\\u0438\\u0435\\u043c \\u0431\\u0435\\u0437\\u043e\\u043f\\u0430\\u0441\\u043d\\u043e\\u0441\\u0442\\u0438 \\u043e\\u0431\\u044a\\u0435\\u043a\\u0442\\u043e\\u0432 \\u0422\\u042d\\u041a, \\u043d\\u0435 \\u0432\\u043f\\u0440\\u0430\\u0432\\u0435 \\u0432\\u044b\\u043f\\u043e\\u043b\\u043d\\u044f\\u0442\\u044c:\\u00b7\\u00a0\\u00a0\\u00a0\\u00a0 \\u043b\\u0438\\u0446\\u0430, \\u044f\\u0432\\u043b\\u044f\\u044e\\u0449\\u0438\\u0435\\u0441\\u044f \\u0438\\u043d\\u043e\\u0441\\u0442\\u0440\\u0430\\u043d\\u043d\\u044b\\u043c\\u0438 \\u0433\\u0440\\u0430\\u0436\\u0434\\u0430\\u043d\\u0430\\u043c\\u0438;\\u00b7\\u00a0\\u00a0\\u00a0\\u00a0 \\u0433\\u0440\\u0430\\u0436\\u0434\\u0430\\u043d\\u0438\\u043d\\u044b \\u0420\\u0424, \\u0438\\u043c\\u0435\\u044e\\u0449\\u0438\\u0435 \\u0433\\u0440\\u0430\\u0436\\u0434\\u0430\\u043d\\u0441\\u0442\\u0432\\u043e \\u0438\\u043d\\u043e\\u0441\\u0442\\u0440\\u0430\\u043d\\u043d\\u043e\\u0433\\u043e \\u0433\\u043e\\u0441\\u0443\\u0434\\u0430\\u0440\\u0441\\u0442\\u0432\\u0430 \\u043b\\u0438\\u0431\\u043e \\u0432\\u0438\\u0434 \\u043d\\u0430 \\u0436\\u0438\\u0442\\u0435\\u043b\\u044c\\u0441\\u0442\\u0432\\u043e \\u0438\\u043b\\u0438 \\u0438\\u043d\\u043e\\u0439 \\u0434\\u043e\\u043a\\u0443\\u043c\\u0435\\u043d\\u0442, \\u043f\\u043e\\u0434\\u0442\\u0432\\u0435\\u0440\\u0436\\u0434\\u0430\\u044e\\u0449\\u0438\\u0439 \\u043f\\u0440\\u0430\\u0432\\u043e \\u043d\\u0430 \\u043f\\u043e\\u0441\\u0442\\u043e\\u044f\\u043d\\u043d\\u043e\\u0435 \\u043f\\u0440\\u043e\\u0436\\u0438\\u0432\\u0430\\u043d\\u0438\\u0435 \\u0433\\u0440\\u0430\\u0436\\u0434\\u0430\\u043d\\u0438\\u043d\\u0430 \\u0420\\u0424 \\u043d\\u0430 \\u0442\\u0435\\u0440\\u0440\\u0438\\u0442\\u043e\\u0440\\u0438\\u0438 \\u0438\\u043d\\u043e\\u0441\\u0442\\u0440\\u0430\\u043d\\u043d\\u043e\\u0433\\u043e \\u0433\\u043e\\u0441\\u0443\\u0434\\u0430\\u0440\\u0441\\u0442\\u0432\\u0430;\\u00b7\\u00a0\\u00a0\\u00a0\\u00a0 \\u043b\\u0438\\u0446\\u0430 \\u0431\\u0435\\u0437 \\u0433\\u0440\\u0430\\u0436\\u0434\\u0430\\u043d\\u0441\\u0442\\u0432\\u0430.\\u041f\\u0435\\u0440\\u0435\\u0447\\u0435\\u043d\\u044c \\u0440\\u0430\\u0431\\u043e\\u0442, \\u043d\\u0435\\u043f\\u043e\\u0441\\u0440\\u0435\\u0434\\u0441\\u0442\\u0432\\u0435\\u043d\\u043d\\u043e \\u0441\\u0432\\u044f\\u0437\\u0430\\u043d\\u043d\\u044b\\u0445 \\u0441 \\u043e\\u0431\\u0435\\u0441\\u043f\\u0435\\u0447\\u0435\\u043d\\u0438\\u0435\\u043c \\u0431\\u0435\\u0437\\u043e\\u043f\\u0430\\u0441\\u043d\\u043e\\u0441\\u0442\\u0438 \\u043e\\u0431\\u044a\\u0435\\u043a\\u0442\\u043e\\u0432 \\u0422\\u042d\\u041a, \\u0443\\u0442\\u0432\\u0435\\u0440\\u0436\\u0434\\u0435\\u043d\\u043f\\u0440\\u0438\\u043a\\u0430\\u0437\\u043e\\u043c \\u041c\\u0438\\u043d\\u0438\\u0441\\u0442\\u0435\\u0440\\u0441\\u0442\\u0432\\u0430 \\u044d\\u043d\\u0435\\u0440\\u0433\\u0435\\u0442\\u0438\\u043a\\u0438 \\u0420\\u0424 \\u043e\\u0442 13.12.2011 \\u2116\\u00a0587. \\u041a \\u0442\\u0430\\u043a\\u0438\\u043c \\u0432\\u0438\\u0434\\u0430\\u043c \\u0440\\u0430\\u0431\\u043e\\u0442, \\u0432 \\u0442\\u043e\\u043c \\u0447\\u0438\\u0441\\u043b\\u0435, \\u043e\\u0442\\u043d\\u043e\\u0441\\u044f\\u0442\\u0441\\u044f:\\u00b7\\u00a0\\u00a0\\u00a0\\u00a0 \\u043e\\u0441\\u0443\\u0449\\u0435\\u0441\\u0442\\u0432\\u043b\\u0435\\u043d\\u0438\\u0435 \\u0432\\u043d\\u0443\\u0442\\u0440\\u0435\\u043d\\u043d\\u0435\\u0433\\u043e \\u043a\\u043e\\u043d\\u0442\\u0440\\u043e\\u043b\\u044f \\u0432 \\u043e\\u0431\\u043b\\u0430\\u0441\\u0442\\u0438 \\u043e\\u0431\\u0435\\u0441\\u043f\\u0435\\u0447\\u0435\\u043d\\u0438\\u044f \\u0431\\u0435\\u0437\\u043e\\u043f\\u0430\\u0441\\u043d\\u043e\\u0441\\u0442\\u0438 \\u043e\\u0431\\u044a\\u0435\\u043a\\u0442\\u043e\\u0432 \\u0422\\u042d\\u041a;\\u00b7\\u00a0\\u00a0\\u00a0\\u00a0 \\u0440\\u0430\\u0437\\u0440\\u0430\\u0431\\u043e\\u0442\\u043a\\u0430, \\u043c\\u043e\\u043d\\u0442\\u0430\\u0436 \\u0438 \\u044d\\u043a\\u0441\\u043f\\u043b\\u0443\\u0430\\u0442\\u0430\\u0446\\u0438\\u044f \\u0438\\u043d\\u0444\\u043e\\u0440\\u043c\\u0430\\u0446\\u0438\\u043e\\u043d\\u043d\\u044b\\u0445 \\u0441\\u0438\\u0441\\u0442\\u0435\\u043c, \\u0438\\u043d\\u0444\\u043e\\u0440\\u043c\\u0430\\u0446\\u0438\\u043e\\u043d\\u043d\\u043e-\\u0442\\u0435\\u043b\\u0435\\u043a\\u043e\\u043c\\u043c\\u0443\\u043d\\u0438\\u043a\\u0430\\u0446\\u0438\\u043e\\u043d\\u043d\\u044b\\u0445 \\u0441\\u0435\\u0442\\u0435\\u0439 \\u0438 \\u0441\\u0438\\u0441\\u0442\\u0435\\u043c \\u0437\\u0430\\u0449\\u0438\\u0442\\u044b \\u0438\\u043d\\u0444\\u043e\\u0440\\u043c\\u0430\\u0446\\u0438\\u0438 \\u043e\\u0431\\u044a\\u0435\\u043a\\u0442\\u043e\\u0432 \\u0422\\u042d\\u041a.\\u041a\\u0440\\u043e\\u043c\\u0435 \\u0442\\u043e\\u0433\\u043e, \\u0441\\u0442\\u043e\\u0438\\u0442 \\u0443\\u0447\\u0438\\u0442\\u044b\\u0432\\u0430\\u0442\\u044c \\u043c\\u043e\\u0434\\u0435\\u043b\\u0438 \\u0443\\u0433\\u0440\\u043e\\u0437 \\u0438 \\u043d\\u0430\\u0440\\u0443\\u0448\\u0438\\u0442\\u0435\\u043b\\u0435\\u0439 \\u0431\\u0435\\u0437\\u043e\\u043f\\u0430\\u0441\\u043d\\u043e\\u0441\\u0442\\u0438 \\u0438\\u043d\\u0444\\u043e\\u0440\\u043c\\u0430\\u0446\\u0438\\u0438, \\u0440\\u0430\\u0437\\u0440\\u0430\\u0431\\u043e\\u0442\\u0430\\u043d\\u043d\\u044b\\u0435 \\u0434\\u043b\\u044f \\u0437\\u043d\\u0430\\u0447\\u0438\\u043c\\u044b\\u0445 \\u043e\\u0431\\u044a\\u0435\\u043a\\u0442\\u043e\\u0432 \\u041a\\u0418\\u0418. \\u0415\\u0441\\u043b\\u0438 \\u043a \\u0430\\u043a\\u0442\\u0443\\u0430\\u043b\\u044c\\u043d\\u044b\\u043c \\u043d\\u0430\\u0440\\u0443\\u0448\\u0438\\u0442\\u0435\\u043b\\u044f\\u043c \\u043e\\u0442\\u043d\\u043e\\u0441\\u044f\\u0442\\u0441\\u044f \\u0441\\u043f\\u0435\\u0446\\u0438\\u0430\\u043b\\u044c\\u043d\\u044b\\u0435 \\u0441\\u043b\\u0443\\u0436\\u0431\\u044b \\u0438\\u043d\\u043e\\u0441\\u0442\\u0440\\u0430\\u043d\\u043d\\u044b\\u0445 \\u0433\\u043e\\u0441\\u0443\\u0434\\u0430\\u0440\\u0441\\u0442\\u0432, \\u0442\\u043e \\u043d\\u0435\\u043e\\u0431\\u0445\\u043e\\u0434\\u0438\\u043c\\u043e \\u0443\\u0447\\u0438\\u0442\\u044b\\u0432\\u0430\\u0442\\u044c \\u0440\\u0438\\u0441\\u043a\\u0438, \\u043a\\u043e\\u0442\\u043e\\u0440\\u044b\\u0435 \\u043c\\u043e\\u0433\\u0443\\u0442 \\u0432\\u043e\\u0437\\u043d\\u0438\\u043a\\u043d\\u0443\\u0442\\u044c \\u043f\\u0440\\u0438 \\u043d\\u0430\\u0439\\u043c\\u0435 \\u0438\\u043d\\u043e\\u0441\\u0442\\u0440\\u0430\\u043d\\u043d\\u043e\\u0433\\u043e \\u0433\\u0440\\u0430\\u0436\\u0434\\u0430\\u043d\\u0438\\u043d\\u0430 \\u0434\\u043b\\u044f \\u044d\\u043a\\u0441\\u043f\\u043b\\u0443\\u0430\\u0442\\u0430\\u0446\\u0438\\u0438 \\u0438 \\u043e\\u0431\\u0441\\u043b\\u0443\\u0436\\u0438\\u0432\\u0430\\u043d\\u0438\\u044f \\u0437\\u043d\\u0430\\u0447\\u0438\\u043c\\u043e\\u0433\\u043e \\u043e\\u0431\\u044a\\u0435\\u043a\\u0442\\u0430 \\u041a\\u0418\\u0418.\\u0422\\u0430\\u043a\\u0436\\u0435 \\u043e\\u0442\\u043c\\u0435\\u0442\\u0438\\u043c, \\u0447\\u0442\\u043e \\u0438\\u043d\\u043e\\u0441\\u0442\\u0440\\u0430\\u043d\\u043d\\u044b\\u0439 \\u0430\\u0433\\u0435\\u043d\\u0442 \\u043d\\u0435 \\u0432\\u043f\\u0440\\u0430\\u0432\\u0435 \\u043e\\u0441\\u0443\\u0449\\u0435\\u0441\\u0442\\u0432\\u043b\\u044f\\u0442\\u044c \\u044d\\u043a\\u0441\\u043f\\u043b\\u0443\\u0430\\u0442\\u0430\\u0446\\u0438\\u044e \\u0437\\u043d\\u0430\\u0447\\u0438\\u043c\\u044b\\u0445 \\u043e\\u0431\\u044a\\u0435\\u043a\\u0442\\u043e\\u0432 \\u041a\\u0418\\u0418 \\u0438 \\u043e\\u0441\\u0443\\u0449\\u0435\\u0441\\u0442\\u0432\\u043b\\u044f\\u0442\\u044c \\u0434\\u0435\\u044f\\u0442\\u0435\\u043b\\u044c\\u043d\\u043e\\u0441\\u0442\\u044c \\u043f\\u043e \\u043e\\u0431\\u0435\\u0441\\u043f\\u0435\\u0447\\u0435\\u043d\\u0438\\u044e \\u0438\\u0445 \\u0431\\u0435\\u0437\\u043e\\u043f\\u0430\\u0441\\u043d\\u043e\\u0441\\u0442\\u0438 (\\u043f\\u0443\\u043d\\u043a\\u0442 17 \\u0441\\u0442\\u0430\\u0442\\u044c\\u0438 11\\u0424\\u0435\\u0434\\u0435\\u0440\\u0430\\u043b\\u044c\\u043d\\u043e\\u0433\\u043e \\u0437\\u0430\\u043a\\u043e\\u043d\\u0430 \\u043e\\u0442 14.07.2022 \\u2116\\u00a0255-\\u0424\\u0417 \\u00ab\\u041e \\u043a\\u043e\\u043d\\u0442\\u0440\\u043e\\u043b\\u0435 \\u0437\\u0430 \\u0434\\u0435\\u044f\\u0442\\u0435\\u043b\\u044c\\u043d\\u043e\\u0441\\u0442\\u044c\\u044e \\u043b\\u0438\\u0446, \\u043d\\u0430\\u0445\\u043e\\u0434\\u044f\\u0449\\u0438\\u0445\\u0441\\u044f \\u043f\\u043e\\u0434 \\u0438\\u043d\\u043e\\u0441\\u0442\\u0440\\u0430\\u043d\\u043d\\u044b\\u043c \\u0432\\u043b\\u0438\\u044f\\u043d\\u0438\\u0435\\u043c\\u00bb). \\u0418\\u043d\\u043e\\u0441\\u0442\\u0440\\u0430\\u043d\\u043d\\u044b\\u043c \\u0430\\u0433\\u0435\\u043d\\u0442\\u043e\\u043c \\u043c\\u043e\\u0436\\u0435\\u0442 \\u0431\\u044b\\u0442\\u044c \\u043f\\u0440\\u0438\\u0437\\u043d\\u0430\\u043d\\u043e \\u0440\\u043e\\u0441\\u0441\\u0438\\u0439\\u0441\\u043a\\u043e\\u0435 \\u0438\\u043b\\u0438 \\u0438\\u043d\\u043e\\u0441\\u0442\\u0440\\u0430\\u043d\\u043d\\u043e\\u0435 \\u044e\\u0440\\u0438\\u0434\\u0438\\u0447\\u0435\\u0441\\u043a\\u043e\\u0435 \\u043b\\u0438\\u0446\\u043e, \\u0430 \\u0442\\u0430\\u043a\\u0436\\u0435 \\u0444\\u0438\\u0437\\u0438\\u0447\\u0435\\u0441\\u043a\\u043e\\u0435 \\u043b\\u0438\\u0446\\u043e \\u043d\\u0435\\u0437\\u0430\\u0432\\u0438\\u0441\\u0438\\u043c\\u043e \\u043e\\u0442 \\u0435\\u0433\\u043e \\u0433\\u0440\\u0430\\u0436\\u0434\\u0430\\u043d\\u0441\\u0442\\u0432\\u0430 \\u0438\\u043b\\u0438 \\u043f\\u0440\\u0438 \\u043e\\u0442\\u0441\\u0443\\u0442\\u0441\\u0442\\u0432\\u0438\\u0438 \\u0442\\u0430\\u043a\\u043e\\u0432\\u043e\\u0433\\u043e.\",\n          \"\\u043f\\u0435\\u0440\\u0432\\u0438\\u0447\\u043d\\u043e\\u0435 \\u043c\\u043e\\u0434\\u0435\\u043b\\u0438\\u0440\\u043e\\u0432\\u0430\\u043d\\u0438\\u0435 \\u0443\\u0433\\u0440\\u043e\\u0437 \\u0431\\u0435\\u0437\\u043e\\u043f\\u0430\\u0441\\u043d\\u043e\\u0441\\u0442\\u0438 \\u0438\\u043d\\u0444\\u043e\\u0440\\u043c\\u0430\\u0446\\u0438\\u0438 (\\u0434\\u0430\\u043b\\u0435\\u0435 \\u2013 \\u0423\\u0411\\u0418) \\u043e\\u0441\\u0443\\u0449\\u0435\\u0441\\u0442\\u0432\\u043b\\u044f\\u0435\\u0442\\u0441\\u044f \\u043d\\u0430 \\u044d\\u0442\\u0430\\u043f\\u0435 \\u043a\\u0430\\u0442\\u0435\\u0433\\u043e\\u0440\\u0438\\u0440\\u043e\\u0432\\u0430\\u043d\\u0438\\u044f \\u043e\\u0431\\u044a\\u0435\\u043a\\u0442\\u043e\\u0432 \\u043a\\u0440\\u0438\\u0442\\u0438\\u0447\\u0435\\u0441\\u043a\\u043e\\u0439 \\u0438\\u043d\\u0444\\u043e\\u0440\\u043c\\u0430\\u0446\\u0438\\u043e\\u043d\\u043d\\u043e\\u0439 \\u0438\\u043d\\u0444\\u0440\\u0430\\u0441\\u0442\\u0440\\u0443\\u043a\\u0442\\u0443\\u0440\\u044b (\\u0434\\u0430\\u043b\\u0435\\u0435 \\u2013 \\u041a\\u0418\\u0418) \\u0441\\u043e\\u0433\\u043b\\u0430\\u0441\\u043d\\u043e \\u041f\\u0440\\u0430\\u0432\\u0438\\u043b\\u0430\\u043c \\u043a\\u0430\\u0442\\u0435\\u0433\\u043e\\u0440\\u0438\\u0440\\u043e\\u0432\\u0430\\u043d\\u0438\\u044f \\u043e\\u0431\\u044a\\u0435\\u043a\\u0442\\u043e\\u0432 \\u041a\\u0418\\u0418 \\u0420\\u043e\\u0441\\u0441\\u0438\\u0439\\u0441\\u043a\\u043e\\u0439 \\u0424\\u0435\\u0434\\u0435\\u0440\\u0430\\u0446\\u0438\\u0438 (\\u0434\\u0430\\u043b\\u0435\\u0435 \\u2013 \\u0420\\u0424), \\u0430 \\u0442\\u0430\\u043a\\u0436\\u0435 \\u043f\\u0435\\u0440\\u0435\\u0447\\u043d\\u044f \\u043f\\u043e\\u043a\\u0430\\u0437\\u0430\\u0442\\u0435\\u043b\\u0435\\u0439 \\u043a\\u0440\\u0438\\u0442\\u0435\\u0440\\u0438\\u0435\\u0432 \\u0437\\u043d\\u0430\\u0447\\u0438\\u043c\\u043e\\u0441\\u0442\\u0438 \\u043e\\u0431\\u044a\\u0435\\u043a\\u0442\\u043e\\u0432 \\u041a\\u0418\\u0418 \\u0420\\u0424, \\u0443\\u0442\\u0432\\u0435\\u0440\\u0436\\u0434\\u0435\\u043d\\u043d\\u044b\\u043c\\u043f\\u043e\\u0441\\u0442\\u0430\\u043d\\u043e\\u0432\\u043b\\u0435\\u043d\\u0438\\u0435\\u043c \\u041f\\u0440\\u0430\\u0432\\u0438\\u0442\\u0435\\u043b\\u044c\\u0441\\u0442\\u0432\\u0430 \\u043e\\u0442 08.02.2018 \\u2116\\u00a0127(\\u0434\\u0430\\u043b\\u0435\\u0435 \\u2013 \\u041f\\u0440\\u0430\\u0432\\u0438\\u043b\\u0430 \\u043a\\u0430\\u0442\\u0435\\u0433\\u043e\\u0440\\u0438\\u0440\\u043e\\u0432\\u0430\\u043d\\u0438\\u044f). \\u0421\\u043e\\u0433\\u043b\\u0430\\u0441\\u043d\\u043e \\u043f\\u043e\\u0434\\u043f\\u0443\\u043d\\u043a\\u0442\\u0443 \\u0435 \\u043f\\u0443\\u043d\\u043a\\u0442\\u0430 10 \\u041f\\u0440\\u0430\\u0432\\u0438\\u043b \\u043a\\u0430\\u0442\\u0435\\u0433\\u043e\\u0440\\u0438\\u0440\\u043e\\u0432\\u0430\\u043d\\u0438\\u044f, \\u0438\\u0441\\u0445\\u043e\\u0434\\u043d\\u044b\\u043c\\u0438 \\u0434\\u0430\\u043d\\u043d\\u044b\\u043c\\u0438 \\u0434\\u043b\\u044f \\u043a\\u0430\\u0442\\u0435\\u0433\\u043e\\u0440\\u0438\\u0440\\u043e\\u0432\\u0430\\u043d\\u0438\\u044f \\u044f\\u0432\\u043b\\u044f\\u044e\\u0442\\u0441\\u044f \\u0423\\u0411\\u0418 \\u0432 \\u043e\\u0442\\u043d\\u043e\\u0448\\u0435\\u043d\\u0438\\u0438 \\u0440\\u0430\\u0441\\u0441\\u043c\\u0430\\u0442\\u0440\\u0438\\u0432\\u0430\\u0435\\u043c\\u043e\\u0433\\u043e \\u043e\\u0431\\u044a\\u0435\\u043a\\u0442\\u0430 \\u041a\\u0418\\u0418. \\u041a\\u043e\\u043c\\u0438\\u0441\\u0441\\u0438\\u044f \\u043f\\u043e \\u043a\\u0430\\u0442\\u0435\\u0433\\u043e\\u0440\\u0438\\u0440\\u043e\\u0432\\u0430\\u043d\\u0438\\u044e \\u0440\\u0430\\u0441\\u0441\\u043c\\u0430\\u0442\\u0440\\u0438\\u0432\\u0430\\u0435\\u0442 \\u0432\\u043e\\u0437\\u043c\\u043e\\u0436\\u043d\\u044b\\u0435 \\u0434\\u0435\\u0439\\u0441\\u0442\\u0432\\u0438\\u044f \\u043d\\u0430\\u0440\\u0443\\u0448\\u0438\\u0442\\u0435\\u043b\\u0435\\u0439 \\u0432 \\u043e\\u0442\\u043d\\u043e\\u0448\\u0435\\u043d\\u0438\\u0438 \\u043e\\u0431\\u044a\\u0435\\u043a\\u0442\\u043e\\u0432 \\u041a\\u0418\\u0418, \\u0430 \\u0442\\u0430\\u043a\\u0436\\u0435 \\u0438\\u043d\\u044b\\u0435 \\u0438\\u0441\\u0442\\u043e\\u0447\\u043d\\u0438\\u043a\\u0438 \\u0423\\u0411\\u0418 \\u0438 \\u0430\\u043d\\u0430\\u043b\\u0438\\u0437\\u0438\\u0440\\u0443\\u0435\\u0442 \\u0423\\u0411\\u0418, \\u043a\\u043e\\u0442\\u043e\\u0440\\u044b\\u0435 \\u043c\\u043e\\u0433\\u0443\\u0442 \\u043f\\u0440\\u0438\\u0432\\u0435\\u0441\\u0442\\u0438 \\u043a \\u0432\\u043e\\u0437\\u043d\\u0438\\u043a\\u043d\\u043e\\u0432\\u0435\\u043d\\u0438\\u044e \\u043a\\u043e\\u043c\\u043f\\u044c\\u044e\\u0442\\u0435\\u0440\\u043d\\u044b\\u0445 \\u0438\\u043d\\u0446\\u0438\\u0434\\u0435\\u043d\\u0442\\u043e\\u0432 \\u043d\\u0430 \\u043e\\u0431\\u044a\\u0435\\u043a\\u0442\\u0430\\u0445 \\u041a\\u0418\\u0418 (\\u043f\\u0443\\u043d\\u043a\\u0442\\u00a014 \\u041f\\u0440\\u0430\\u0432\\u0438\\u043b \\u043a\\u0430\\u0442\\u0435\\u0433\\u043e\\u0440\\u0438\\u0440\\u043e\\u0432\\u0430\\u043d\\u0438\\u044f).\\u0421\\u0432\\u0435\\u0434\\u0435\\u043d\\u0438\\u044f \\u043e\\u0431 \\u0423\\u0411\\u0418 \\u0438 \\u043e \\u043a\\u0430\\u0442\\u0435\\u0433\\u043e\\u0440\\u0438\\u044f\\u0445 \\u043d\\u0430\\u0440\\u0443\\u0448\\u0438\\u0442\\u0435\\u043b\\u0435\\u0439 \\u0432 \\u043e\\u0442\\u043d\\u043e\\u0448\\u0435\\u043d\\u0438\\u0438 \\u043e\\u0431\\u044a\\u0435\\u043a\\u0442\\u043e\\u0432 \\u041a\\u0418\\u0418 \\u0442\\u0430\\u043a\\u0436\\u0435 \\u0432\\u043d\\u043e\\u0441\\u044f\\u0442\\u0441\\u044f \\u0432 \\u043f\\u0443\\u043d\\u043a\\u0442\\u00a06 \\u0444\\u043e\\u0440\\u043c\\u044b, \\u0443\\u0442\\u0432\\u0435\\u0440\\u0436\\u0434\\u0435\\u043d\\u043d\\u043e\\u0439\\u043f\\u0440\\u0438\\u043a\\u0430\\u0437\\u043e\\u043c \\u0424\\u0421\\u0422\\u042d\\u041a \\u0420\\u043e\\u0441\\u0441\\u0438\\u0438 \\u043e\\u0442 22.12.2017 \\u2116\\u00a0236\\u00ab\\u041e\\u0431 \\u0443\\u0442\\u0432\\u0435\\u0440\\u0436\\u0434\\u0435\\u043d\\u0438\\u0438 \\u0444\\u043e\\u0440\\u043c\\u044b \\u043d\\u0430\\u043f\\u0440\\u0430\\u0432\\u043b\\u0435\\u043d\\u0438\\u044f \\u0441\\u0432\\u0435\\u0434\\u0435\\u043d\\u0438\\u0439 \\u043e \\u0440\\u0435\\u0437\\u0443\\u043b\\u044c\\u0442\\u0430\\u0442\\u0430\\u0445 \\u043f\\u0440\\u0438\\u0441\\u0432\\u043e\\u0435\\u043d\\u0438\\u044f \\u043e\\u0431\\u044a\\u0435\\u043a\\u0442\\u0443 \\u043a\\u0440\\u0438\\u0442\\u0438\\u0447\\u0435\\u0441\\u043a\\u043e\\u0439 \\u0438\\u043d\\u0444\\u043e\\u0440\\u043c\\u0430\\u0446\\u0438\\u043e\\u043d\\u043d\\u043e\\u0439 \\u0438\\u043d\\u0444\\u0440\\u0430\\u0441\\u0442\\u0440\\u0443\\u043a\\u0442\\u0443\\u0440\\u044b \\u043e\\u0434\\u043d\\u043e\\u0439 \\u0438\\u0437 \\u043a\\u0430\\u0442\\u0435\\u0433\\u043e\\u0440\\u0438\\u0439 \\u0437\\u043d\\u0430\\u0447\\u0438\\u043c\\u043e\\u0441\\u0442\\u0438 \\u043b\\u0438\\u0431\\u043e \\u043e\\u0431 \\u043e\\u0442\\u0441\\u0443\\u0442\\u0441\\u0442\\u0432\\u0438\\u0438 \\u043d\\u0435\\u043e\\u0431\\u0445\\u043e\\u0434\\u0438\\u043c\\u043e\\u0441\\u0442\\u0438 \\u043f\\u0440\\u0438\\u0441\\u0432\\u043e\\u0435\\u043d\\u0438\\u044f \\u0435\\u043c\\u0443 \\u043e\\u0434\\u043d\\u043e\\u0439 \\u0438\\u0437 \\u0442\\u0430\\u043a\\u0438\\u0445 \\u043a\\u0430\\u0442\\u0435\\u0433\\u043e\\u0440\\u0438\\u0439\\u00bb.\\u0422\\u0430\\u043a\\u0438\\u043c \\u043e\\u0431\\u0440\\u0430\\u0437\\u043e\\u043c, \\u043f\\u043e\\u0441\\u043b\\u0435 \\u043f\\u0440\\u043e\\u0432\\u0435\\u0434\\u0435\\u043d\\u0438\\u044f \\u043a\\u0430\\u0442\\u0435\\u0433\\u043e\\u0440\\u0438\\u0440\\u043e\\u0432\\u0430\\u043d\\u0438\\u044f \\u043e\\u0431\\u044a\\u0435\\u043a\\u0442\\u043e\\u0432 \\u041a\\u0418\\u0418 \\u0443 \\u0441\\u0443\\u0431\\u044a\\u0435\\u043a\\u0442\\u0430 \\u041a\\u0418\\u0418 \\u0443\\u0436\\u0435 \\u043f\\u0440\\u043e\\u0432\\u0435\\u0434\\u0435\\u043d\\u043e \\u0447\\u0430\\u0441\\u0442\\u0438\\u0447\\u043d\\u043e\\u0435 \\u043c\\u043e\\u0434\\u0435\\u043b\\u0438\\u0440\\u043e\\u0432\\u0430\\u043d\\u0438\\u0435 \\u0423\\u0411\\u0418 \\u0438 \\u0435\\u0441\\u0442\\u044c \\u043f\\u043e\\u043d\\u0438\\u043c\\u0430\\u043d\\u0438\\u0435, \\u043a\\u0430\\u043a\\u0438\\u0435 \\u0423\\u0411\\u0418 \\u044f\\u0432\\u043b\\u044f\\u044e\\u0442\\u0441\\u044f \\u0430\\u043a\\u0442\\u0443\\u0430\\u043b\\u044c\\u043d\\u044b\\u043c\\u0438.\\u0420\\u0430\\u0437\\u0440\\u0430\\u0431\\u043e\\u0442\\u043a\\u0430 \\u0422\\u0435\\u0445\\u043d\\u0438\\u0447\\u0435\\u0441\\u043a\\u043e\\u0433\\u043e \\u0437\\u0430\\u0434\\u0430\\u043d\\u0438\\u044f \\u043d\\u0430 \\u0441\\u043e\\u0437\\u0434\\u0430\\u043d\\u0438\\u0435 \\u0441\\u0438\\u0441\\u0442\\u0435\\u043c\\u044b \\u043e\\u0431\\u0435\\u0441\\u043f\\u0435\\u0447\\u0435\\u043d\\u0438\\u044f \\u0438\\u043d\\u0444\\u043e\\u0440\\u043c\\u0430\\u0446\\u0438\\u043e\\u043d\\u043d\\u043e\\u0439 \\u0431\\u0435\\u0437\\u043e\\u043f\\u0430\\u0441\\u043d\\u043e\\u0441\\u0442\\u0438 (\\u0434\\u0430\\u043b\\u0435\\u0435 \\u2013 \\u0421\\u041e\\u0418\\u0411) \\u0437\\u043d\\u0430\\u0447\\u0438\\u043c\\u044b\\u0445 \\u043e\\u0431\\u044a\\u0435\\u043a\\u0442\\u043e\\u0432 \\u041a\\u0418\\u0418 \\u043f\\u0440\\u043e\\u0438\\u0437\\u0432\\u043e\\u0434\\u0438\\u0442\\u0441\\u044f \\u0432 \\u0441\\u043e\\u043e\\u0442\\u0432\\u0435\\u0442\\u0441\\u0442\\u0432\\u0438\\u0438 \\u0441 \\u043f\\u0440\\u0438\\u0441\\u0432\\u043e\\u0435\\u043d\\u043d\\u043e\\u0439 \\u043e\\u0431\\u044a\\u0435\\u043a\\u0442\\u0443 \\u041a\\u0418\\u0418 \\u043a\\u0430\\u0442\\u0435\\u0433\\u043e\\u0440\\u0438\\u0435\\u0439 \\u0437\\u043d\\u0430\\u0447\\u0438\\u043c\\u043e\\u0441\\u0442\\u0438. \\u0421\\u043e\\u0441\\u0442\\u0430\\u0432 \\u043c\\u0435\\u0440 \\u043f\\u043e \\u043e\\u0431\\u0435\\u0441\\u043f\\u0435\\u0447\\u0435\\u043d\\u0438\\u044e \\u0431\\u0435\\u0437\\u043e\\u043f\\u0430\\u0441\\u043d\\u043e\\u0441\\u0442\\u0438 \\u0437\\u043d\\u0430\\u0447\\u0438\\u043c\\u044b\\u0445 \\u043e\\u0431\\u044a\\u0435\\u043a\\u0442\\u043e\\u0432 \\u041a\\u0418\\u0418 \\u043e\\u043f\\u0440\\u0435\\u0434\\u0435\\u043b\\u0435\\u043d \\u0432 \\u0422\\u0440\\u0435\\u0431\\u043e\\u0432\\u0430\\u043d\\u0438\\u044f\\u0445 \\u043f\\u043e \\u043e\\u0431\\u0435\\u0441\\u043f\\u0435\\u0447\\u0435\\u043d\\u0438\\u044e \\u0431\\u0435\\u0437\\u043e\\u043f\\u0430\\u0441\\u043d\\u043e\\u0441\\u0442\\u0438 \\u0437\\u043d\\u0430\\u0447\\u0438\\u043c\\u044b\\u0445 \\u043e\\u0431\\u044a\\u0435\\u043a\\u0442\\u043e\\u0432 \\u041a\\u0418\\u0418 \\u0420\\u0424, \\u0443\\u0442\\u0432\\u0435\\u0440\\u0436\\u0434\\u0435\\u043d\\u043d\\u044b\\u0445\\u043f\\u0440\\u0438\\u043a\\u0430\\u0437\\u043e\\u043c \\u0424\\u0421\\u0422\\u042d\\u041a \\u0420\\u043e\\u0441\\u0441\\u0438\\u0438 \\u043e\\u0442 25.12.2017 \\u2116\\u00a0239(\\u0434\\u0430\\u043b\\u0435\\u0435 \\u2013 \\u0422\\u0440\\u0435\\u0431\\u043e\\u0432\\u0430\\u043d\\u0438\\u044f \\u043a \\u0421\\u0411). \\u0412 \\u0437\\u0430\\u0432\\u0438\\u0441\\u0438\\u043c\\u043e\\u0441\\u0442\\u0438 \\u043e\\u0442 \\u043f\\u0440\\u0438\\u0441\\u0432\\u043e\\u0435\\u043d\\u043d\\u043e\\u0439 \\u043a\\u0430\\u0442\\u0435\\u0433\\u043e\\u0440\\u0438\\u0438 \\u0437\\u043d\\u0430\\u0447\\u0438\\u043c\\u043e\\u0441\\u0442\\u0438 \\u043a \\u043e\\u0431\\u044a\\u0435\\u043a\\u0442\\u0443 \\u041a\\u0418\\u0418 \\u043f\\u0440\\u0438\\u043c\\u0435\\u043d\\u0438\\u043c \\u043e\\u043f\\u0440\\u0435\\u0434\\u0435\\u043b\\u0435\\u043d\\u043d\\u044b\\u0439 \\u0431\\u0430\\u0437\\u043e\\u0432\\u044b\\u0439 \\u043d\\u0430\\u0431\\u043e\\u0440 \\u043c\\u0435\\u0440 \\u043f\\u043e \\u043e\\u0431\\u0435\\u0441\\u043f\\u0435\\u0447\\u0435\\u043d\\u0438\\u044e \\u0431\\u0435\\u0437\\u043e\\u043f\\u0430\\u0441\\u043d\\u043e\\u0441\\u0442\\u0438.\\u041f\\u043e\\u043b\\u043d\\u043e\\u0446\\u0435\\u043d\\u043d\\u0430\\u044f \\u043c\\u043e\\u0434\\u0435\\u043b\\u044c \\u0443\\u0433\\u0440\\u043e\\u0437 \\u0438 \\u043d\\u0430\\u0440\\u0443\\u0448\\u0438\\u0442\\u0435\\u043b\\u0435\\u0439 \\u0431\\u0435\\u0437\\u043e\\u043f\\u0430\\u0441\\u043d\\u043e\\u0441\\u0442\\u0438 \\u0438\\u043d\\u0444\\u043e\\u0440\\u043c\\u0430\\u0446\\u0438\\u0438 \\u0440\\u0430\\u0437\\u0440\\u0430\\u0431\\u0430\\u0442\\u044b\\u0432\\u0430\\u0435\\u0442\\u0441\\u044f \\u043d\\u0430 \\u044d\\u0442\\u0430\\u043f\\u0435 \\u0440\\u0430\\u0437\\u0440\\u0430\\u0431\\u043e\\u0442\\u043a\\u0438 \\u043e\\u0440\\u0433\\u0430\\u043d\\u0438\\u0437\\u0430\\u0446\\u0438\\u043e\\u043d\\u043d\\u044b\\u0445 \\u0438 \\u0442\\u0435\\u0445\\u043d\\u0438\\u0447\\u0435\\u0441\\u043a\\u0438\\u0445 \\u043c\\u0435\\u0440 \\u043f\\u043e \\u043e\\u0431\\u0435\\u0441\\u043f\\u0435\\u0447\\u0435\\u043d\\u0438\\u044e \\u0431\\u0435\\u0437\\u043e\\u043f\\u0430\\u0441\\u043d\\u043e\\u0441\\u0442\\u0438 \\u0437\\u043d\\u0430\\u0447\\u0438\\u043c\\u043e\\u0433\\u043e \\u043e\\u0431\\u044a\\u0435\\u043a\\u0442\\u0430 \\u041a\\u0418\\u0418 (\\u043f\\u0443\\u043d\\u043a\\u0442\\u00a011.1 \\u0422\\u0440\\u0435\\u0431\\u043e\\u0432\\u0430\\u043d\\u0438\\u0439 \\u043a \\u0421\\u0411). \\u0411\\u0430\\u0437\\u043e\\u0432\\u044b\\u0439 \\u043d\\u0430\\u0431\\u043e\\u0440 \\u043c\\u0435\\u0440 \\u043f\\u043e\\u0434\\u043b\\u0435\\u0436\\u0438\\u0442 \\u0430\\u0434\\u0430\\u043f\\u0442\\u0430\\u0446\\u0438\\u0438 \\u0432 \\u0441\\u043e\\u043e\\u0442\\u0432\\u0435\\u0442\\u0441\\u0442\\u0432\\u0438\\u0438 \\u0441 \\u0430\\u043a\\u0442\\u0443\\u0430\\u043b\\u044c\\u043d\\u044b\\u043c\\u0438 \\u0434\\u043b\\u044f \\u0437\\u043d\\u0430\\u0447\\u0438\\u043c\\u043e\\u0433\\u043e \\u043e\\u0431\\u044a\\u0435\\u043a\\u0442\\u0430 \\u041a\\u0418\\u0418 \\u0423\\u0411\\u0418. \\u041f\\u0440\\u0438 \\u0430\\u0434\\u0430\\u043f\\u0442\\u0430\\u0446\\u0438\\u0438 \\u0431\\u0430\\u0437\\u043e\\u0432\\u043e\\u0433\\u043e \\u043d\\u0430\\u0431\\u043e\\u0440\\u0430 \\u043c\\u0435\\u0440 \\u0434\\u043b\\u044f \\u043a\\u0430\\u0436\\u0434\\u043e\\u0439 \\u0423\\u0411\\u0418, \\u0432\\u043a\\u043b\\u044e\\u0447\\u0435\\u043d\\u043d\\u043e\\u0439 \\u0432 \\u043c\\u043e\\u0434\\u0435\\u043b\\u044c \\u0443\\u0433\\u0440\\u043e\\u0437, \\u0441\\u043e\\u043f\\u043e\\u0441\\u0442\\u0430\\u0432\\u043b\\u044f\\u0435\\u0442\\u0441\\u044f \\u043c\\u0435\\u0440\\u0430 \\u0438\\u043b\\u0438 \\u0433\\u0440\\u0443\\u043f\\u043f\\u0430 \\u043c\\u0435\\u0440, \\u043e\\u0431\\u0435\\u0441\\u043f\\u0435\\u0447\\u0438\\u0432\\u0430\\u044e\\u0449\\u0438\\u0435 \\u0431\\u043b\\u043e\\u043a\\u0438\\u0440\\u043e\\u0432\\u0430\\u043d\\u0438\\u0435 \\u043e\\u0434\\u043d\\u043e\\u0439 \\u0438\\u043b\\u0438 \\u043d\\u0435\\u0441\\u043a\\u043e\\u043b\\u044c\\u043a\\u0438\\u0445 \\u0423\\u0411\\u0418 \\u0438\\u043b\\u0438 \\u0441\\u043d\\u0438\\u0436\\u0430\\u044e\\u0449\\u0438\\u0435 \\u0432\\u043e\\u0437\\u043c\\u043e\\u0436\\u043d\\u043e\\u0441\\u0442\\u044c \\u0435\\u0435 \\u0440\\u0435\\u0430\\u043b\\u0438\\u0437\\u0430\\u0446\\u0438\\u0438, \\u0438\\u0441\\u0445\\u043e\\u0434\\u044f \\u0438\\u0437 \\u0443\\u0441\\u043b\\u043e\\u0432\\u0438\\u0439 \\u0444\\u0443\\u043d\\u043a\\u0446\\u0438\\u043e\\u043d\\u0438\\u0440\\u043e\\u0432\\u0430\\u043d\\u0438\\u044f \\u0437\\u043d\\u0430\\u0447\\u0438\\u043c\\u043e\\u0433\\u043e \\u043e\\u0431\\u044a\\u0435\\u043a\\u0442\\u0430 \\u041a\\u0418\\u0418. \\u0412 \\u0441\\u043b\\u0443\\u0447\\u0430\\u0435 \\u0435\\u0441\\u043b\\u0438 \\u0431\\u0430\\u0437\\u043e\\u0432\\u044b\\u0439 \\u043d\\u0430\\u0431\\u043e\\u0440 \\u043c\\u0435\\u0440 \\u043d\\u0435 \\u043f\\u043e\\u0437\\u0432\\u043e\\u043b\\u044f\\u0435\\u0442 \\u043e\\u0431\\u0435\\u0441\\u043f\\u0435\\u0447\\u0438\\u0442\\u044c \\u0431\\u043b\\u043e\\u043a\\u0438\\u0440\\u043e\\u0432\\u0430\\u043d\\u0438\\u0435 (\\u043d\\u0435\\u0439\\u0442\\u0440\\u0430\\u043b\\u0438\\u0437\\u0430\\u0446\\u0438\\u044e) \\u0432\\u0441\\u0435\\u0445 \\u0423\\u0411\\u0418, \\u0432 \\u043d\\u0435\\u0433\\u043e \\u0434\\u043e\\u043f\\u043e\\u043b\\u043d\\u0438\\u0442\\u0435\\u043b\\u044c\\u043d\\u043e \\u0432\\u043a\\u043b\\u044e\\u0447\\u0430\\u044e\\u0442\\u0441\\u044f \\u043c\\u0435\\u0440\\u044b, \\u043f\\u0440\\u0438\\u0432\\u0435\\u0434\\u0435\\u043d\\u043d\\u044b\\u0435 \\u0432 \\u043f\\u0440\\u0438\\u043b\\u043e\\u0436\\u0435\\u043d\\u0438\\u0438 \\u043a \\u0422\\u0440\\u0435\\u0431\\u043e\\u0432\\u0430\\u043d\\u0438\\u044f\\u043c \\u043a \\u0421\\u0411.\\u0418\\u0437 \\u0432\\u044b\\u0448\\u0435\\u0441\\u043a\\u0430\\u0437\\u0430\\u043d\\u043d\\u043e\\u0433\\u043e \\u0441\\u043b\\u0435\\u0434\\u0443\\u0435\\u0442, \\u0447\\u0442\\u043e \\u043f\\u0435\\u0440\\u0432\\u043e\\u043d\\u0430\\u0447\\u0430\\u043b\\u044c\\u043d\\u043e\\u0435, \\u043d\\u043e \\u043d\\u0435 \\u043f\\u043e\\u043b\\u043d\\u043e\\u0435 \\u043c\\u043e\\u0434\\u0435\\u043b\\u0438\\u0440\\u043e\\u0432\\u0430\\u043d\\u0438\\u0435 \\u0443\\u0433\\u0440\\u043e\\u0437 \\u043f\\u0440\\u043e\\u0438\\u0441\\u0445\\u043e\\u0434\\u0438\\u0442 \\u043d\\u0430 \\u044d\\u0442\\u0430\\u043f\\u0435 \\u043a\\u0430\\u0442\\u0435\\u0433\\u043e\\u0440\\u0438\\u0440\\u043e\\u0432\\u0430\\u043d\\u0438\\u044f \\u043e\\u0431\\u044a\\u0435\\u043a\\u0442\\u043e\\u0432 \\u041a\\u0418\\u0418. \\u0420\\u0430\\u0437\\u0440\\u0430\\u0431\\u043e\\u0442\\u043a\\u0430 \\u043f\\u043e\\u043b\\u043d\\u043e\\u0446\\u0435\\u043d\\u043d\\u043e\\u0439 \\u043c\\u043e\\u0434\\u0435\\u043b\\u0438 \\u0443\\u0433\\u0440\\u043e\\u0437 \\u0441 \\u0443\\u0447\\u0435\\u0442\\u043e\\u043c \\u0432\\u0441\\u0435\\u0445 \\u043e\\u0441\\u043e\\u0431\\u0435\\u043d\\u043d\\u043e\\u0441\\u0442\\u0435\\u0439 \\u0437\\u043d\\u0430\\u0447\\u0438\\u043c\\u043e\\u0433\\u043e \\u043e\\u0431\\u044a\\u0435\\u043a\\u0442\\u0430 \\u041a\\u0418\\u0418 \\u043e\\u0441\\u0443\\u0449\\u0435\\u0441\\u0442\\u0432\\u043b\\u044f\\u0435\\u0442\\u0441\\u044f \\u043f\\u0440\\u0438 \\u043f\\u0440\\u043e\\u0435\\u043a\\u0442\\u0438\\u0440\\u043e\\u0432\\u0430\\u043d\\u0438\\u0438 \\u0421\\u041e\\u0418\\u0411 \\u0434\\u043b\\u044f \\u0442\\u0430\\u043a\\u043e\\u0433\\u043e \\u043e\\u0431\\u044a\\u0435\\u043a\\u0442\\u0430. \\u0422\\u043e \\u0435\\u0441\\u0442\\u044c \\u0440\\u0430\\u0437\\u0440\\u0430\\u0431\\u043e\\u0442\\u043a\\u0430 \\u043c\\u043e\\u0434\\u0435\\u043b\\u0438 \\u0423\\u0411\\u0418 \\u043d\\u0435 \\u0442\\u0440\\u0435\\u0431\\u0443\\u0435\\u0442\\u0441\\u044f \\u043d\\u0430 \\u043c\\u043e\\u043c\\u0435\\u043d\\u0442 \\u0444\\u043e\\u0440\\u043c\\u0438\\u0440\\u043e\\u0432\\u0430\\u043d\\u0438\\u044f \\u0442\\u0435\\u0445\\u043d\\u0438\\u0447\\u0435\\u0441\\u043a\\u043e\\u0433\\u043e \\u0437\\u0430\\u0434\\u0430\\u043d\\u0438\\u044f \\u043d\\u0430 \\u043f\\u0440\\u043e\\u0435\\u043a\\u0442\\u0438\\u0440\\u043e\\u0432\\u0430\\u043d\\u0438\\u0435 \\u0421\\u041e\\u0418\\u0411, \\u0430 \\u043e\\u0441\\u0443\\u0449\\u0435\\u0441\\u0442\\u0432\\u043b\\u044f\\u0435\\u0442\\u0441\\u044f \\u0443\\u0436\\u0435 \\u0432 \\u0440\\u0430\\u043c\\u043a\\u0430\\u0445 \\u0432\\u044b\\u043f\\u043e\\u043b\\u043d\\u0435\\u043d\\u0438\\u044f \\u0442\\u0435\\u0445\\u043d\\u0438\\u0447\\u0435\\u0441\\u043a\\u043e\\u0433\\u043e \\u0437\\u0430\\u0434\\u0430\\u043d\\u0438\\u044f (\\u043f\\u0440\\u043e\\u0435\\u043a\\u0442\\u0438\\u0440\\u043e\\u0432\\u0430\\u043d\\u0438\\u0435 \\u0421\\u041e\\u0418\\u0411 \\u0432 \\u0441\\u043e\\u043e\\u0442\\u0432\\u0435\\u0442\\u0441\\u0442\\u0432\\u0438\\u0438 \\u0441 \\u0442\\u0440\\u0435\\u0431\\u043e\\u0432\\u0430\\u043d\\u0438\\u044f\\u043c\\u0438 \\u0442\\u0435\\u0445\\u043d\\u0438\\u0447\\u0435\\u0441\\u043a\\u043e\\u0433\\u043e \\u0437\\u0430\\u0434\\u0430\\u043d\\u0438\\u044f).\",\n          \"\\u0434\\u0430, \\u0434\\u043e\\u043f\\u0443\\u0441\\u043a\\u0430\\u0435\\u0442\\u0441\\u044f, \\u043e\\u0434\\u043d\\u0430\\u043a\\u043e \\u0432 \\u043e\\u0442\\u043d\\u043e\\u0448\\u0435\\u043d\\u0438\\u0438 \\u0438\\u0441\\u043f\\u043e\\u043b\\u044c\\u0437\\u0443\\u0435\\u043c\\u044b\\u0445 \\u0444\\u0443\\u043d\\u043a\\u0446\\u0438\\u0439 \\u0437\\u0430\\u0449\\u0438\\u0442\\u044b \\u043d\\u0435\\u043e\\u0431\\u0445\\u043e\\u0434\\u0438\\u043c\\u043e \\u043f\\u0440\\u043e\\u0432\\u0435\\u0441\\u0442\\u0438 \\u043e\\u0446\\u0435\\u043d\\u043a\\u0443 \\u043d\\u0430 \\u0441\\u043e\\u043e\\u0442\\u0432\\u0435\\u0442\\u0441\\u0442\\u0432\\u0438\\u0435 \\u0442\\u0440\\u0435\\u0431\\u043e\\u0432\\u0430\\u043d\\u0438\\u044f\\u043c \\u043f\\u043e \\u0431\\u0435\\u0437\\u043e\\u043f\\u0430\\u0441\\u043d\\u043e\\u0441\\u0442\\u0438 \\u0432 \\u0444\\u043e\\u0440\\u043c\\u0430\\u0445 \\u0438\\u0441\\u043f\\u044b\\u0442\\u0430\\u043d\\u0438\\u0439 \\u0438\\u043b\\u0438 \\u043f\\u0440\\u0438\\u0435\\u043c\\u043a\\u0438. \\u0422\\u0440\\u0435\\u0431\\u043e\\u0432\\u0430\\u043d\\u0438\\u044f \\u043e \\u043f\\u0440\\u0438\\u043c\\u0435\\u043d\\u0435\\u043d\\u0438\\u0438 \\u0441\\u0440\\u0435\\u0434\\u0441\\u0442\\u0432 \\u0437\\u0430\\u0449\\u0438\\u0442\\u044b \\u0438\\u043d\\u0444\\u043e\\u0440\\u043c\\u0430\\u0446\\u0438\\u0438 (\\u0432\\u0441\\u0442\\u0440\\u043e\\u0435\\u043d\\u043d\\u044b\\u0445 \\u0444\\u0443\\u043d\\u043a\\u0446\\u0438\\u0439 \\u0437\\u0430\\u0449\\u0438\\u0442\\u044b, \\u0434\\u0430\\u043b\\u0435\\u0435 \\u2013 \\u0421\\u0440\\u0417\\u0418), \\u043f\\u0440\\u043e\\u0448\\u0435\\u0434\\u0448\\u0438\\u0445 \\u043e\\u0446\\u0435\\u043d\\u043a\\u0443 \\u043d\\u0430 \\u0441\\u043e\\u043e\\u0442\\u0432\\u0435\\u0442\\u0441\\u0442\\u0432\\u0438\\u0435 \\u0442\\u0440\\u0435\\u0431\\u043e\\u0432\\u0430\\u043d\\u0438\\u044f\\u043c \\u043f\\u043e \\u0431\\u0435\\u0437\\u043e\\u043f\\u0430\\u0441\\u043d\\u043e\\u0441\\u0442\\u0438 \\u0432 \\u0444\\u043e\\u0440\\u043c\\u0430\\u0445 \\u043e\\u0431\\u044f\\u0437\\u0430\\u0442\\u0435\\u043b\\u044c\\u043d\\u043e\\u0439 \\u0441\\u0435\\u0440\\u0442\\u0438\\u0444\\u0438\\u043a\\u0430\\u0446\\u0438\\u0438, \\u0438\\u0441\\u043f\\u044b\\u0442\\u0430\\u043d\\u0438\\u0439 \\u0438\\u043b\\u0438 \\u043f\\u0440\\u0438\\u0435\\u043c\\u043a\\u0438, \\u0443\\u0441\\u0442\\u0430\\u043d\\u043e\\u0432\\u043b\\u0435\\u043d\\u044b \\u0432 \\u0422\\u0440\\u0435\\u0431\\u043e\\u0432\\u0430\\u043d\\u0438\\u044f\\u0445 \\u043f\\u043e \\u043e\\u0431\\u0435\\u0441\\u043f\\u0435\\u0447\\u0435\\u043d\\u0438\\u044e \\u0431\\u0435\\u0437\\u043e\\u043f\\u0430\\u0441\\u043d\\u043e\\u0441\\u0442\\u0438 \\u0437\\u043d\\u0430\\u0447\\u0438\\u043c\\u044b\\u0445 \\u043e\\u0431\\u044a\\u0435\\u043a\\u0442\\u043e\\u0432 \\u043a\\u0440\\u0438\\u0442\\u0438\\u0447\\u0435\\u0441\\u043a\\u043e\\u0439 \\u0438\\u043d\\u0444\\u043e\\u0440\\u043c\\u0430\\u0446\\u0438\\u043e\\u043d\\u043d\\u043e\\u0439 \\u0438\\u043d\\u0444\\u0440\\u0430\\u0441\\u0442\\u0440\\u0443\\u043a\\u0442\\u0443\\u0440\\u044b (\\u0434\\u0430\\u043b\\u0435\\u0435 \\u2013 \\u041a\\u0418\\u0418), \\u0443\\u0442\\u0432\\u0435\\u0440\\u0436\\u0434\\u0435\\u043d\\u043d\\u044b\\u0445\\u043f\\u0440\\u0438\\u043a\\u0430\\u0437\\u043e\\u043c \\u0424\\u0421\\u0422\\u042d\\u041a \\u0420\\u043e\\u0441\\u0441\\u0438\\u0438 \\u043e\\u0442 25.12.2017 \\u2116 239(\\u0434\\u0430\\u043b\\u0435\\u0435 \\u2013 \\u0422\\u0440\\u0435\\u0431\\u043e\\u0432\\u0430\\u043d\\u0438\\u044f \\u043a \\u0421\\u0411).\\u041e\\u0446\\u0435\\u043d\\u043a\\u0430 \\u0441\\u043e\\u043e\\u0442\\u0432\\u0435\\u0442\\u0441\\u0442\\u0432\\u0438\\u044f \\u0432 \\u0444\\u043e\\u0440\\u043c\\u0435 \\u0438\\u0441\\u043f\\u044b\\u0442\\u0430\\u043d\\u0438\\u0439 \\u0438\\u043b\\u0438 \\u043f\\u0440\\u0438\\u0435\\u043c\\u043a\\u0438 \\u043f\\u0440\\u043e\\u0432\\u043e\\u0434\\u0438\\u0442\\u0441\\u044f \\u0441\\u0443\\u0431\\u044a\\u0435\\u043a\\u0442\\u0430\\u043c\\u0438 \\u041a\\u0418\\u0418 \\u0441\\u0430\\u043c\\u043e\\u0441\\u0442\\u043e\\u044f\\u0442\\u0435\\u043b\\u044c\\u043d\\u043e \\u0438\\u043b\\u0438 \\u0441 \\u043f\\u0440\\u0438\\u0432\\u043b\\u0435\\u0447\\u0435\\u043d\\u0438\\u0435\\u043c \\u043e\\u0440\\u0433\\u0430\\u043d\\u0438\\u0437\\u0430\\u0446\\u0438\\u0439, \\u0438\\u043c\\u0435\\u044e\\u0449\\u0438\\u0445 \\u0432 \\u0441\\u043e\\u043e\\u0442\\u0432\\u0435\\u0442\\u0441\\u0442\\u0432\\u0438\\u0438 \\u0441 \\u0437\\u0430\\u043a\\u043e\\u043d\\u043e\\u0434\\u0430\\u0442\\u0435\\u043b\\u044c\\u0441\\u0442\\u0432\\u043e\\u043c \\u0420\\u043e\\u0441\\u0441\\u0438\\u0439\\u0441\\u043a\\u043e\\u0439 \\u0424\\u0435\\u0434\\u0435\\u0440\\u0430\\u0446\\u0438\\u0438 \\u043b\\u0438\\u0446\\u0435\\u043d\\u0437\\u0438\\u0438 \\u043d\\u0430 \\u0434\\u0435\\u044f\\u0442\\u0435\\u043b\\u044c\\u043d\\u043e\\u0441\\u0442\\u044c \\u0432 \\u043e\\u0431\\u043b\\u0430\\u0441\\u0442\\u0438 \\u0437\\u0430\\u0449\\u0438\\u0442\\u044b \\u0438\\u043d\\u0444\\u043e\\u0440\\u043c\\u0430\\u0446\\u0438\\u0438.\\u041f\\u0440\\u0438 \\u044d\\u0442\\u043e\\u043c \\u0434\\u043b\\u044f \\u0444\\u0443\\u043d\\u043a\\u0446\\u0438\\u0439 \\u0431\\u0435\\u0437\\u043e\\u043f\\u0430\\u0441\\u043d\\u043e\\u0441\\u0442\\u0438, \\u0432\\u0441\\u0442\\u0440\\u043e\\u0435\\u043d\\u043d\\u044b\\u0445 \\u0432 \\u043f\\u0440\\u0438\\u043a\\u043b\\u0430\\u0434\\u043d\\u043e\\u0435 \\u0438\\u043b\\u0438 \\u043e\\u0431\\u0449\\u0435\\u0441\\u0438\\u0441\\u0442\\u0435\\u043c\\u043d\\u043e\\u0435 \\u043f\\u0440\\u043e\\u0433\\u0440\\u0430\\u043c\\u043c\\u043d\\u043e\\u0435 \\u043e\\u0431\\u0435\\u0441\\u043f\\u0435\\u0447\\u0435\\u043d\\u0438\\u0435 (\\u0434\\u0430\\u043b\\u0435\\u0435 \\u2013 \\u041f\\u041e), \\u043d\\u0435 \\u0442\\u0440\\u0435\\u0431\\u0443\\u0435\\u0442\\u0441\\u044f \\u043f\\u0440\\u043e\\u0432\\u043e\\u0434\\u0438\\u0442\\u044c \\u0434\\u043e\\u043f\\u043e\\u043b\\u043d\\u0438\\u0442\\u0435\\u043b\\u044c\\u043d\\u0443\\u044e \\u043e\\u0446\\u0435\\u043d\\u043a\\u0443 \\u0441\\u043e\\u043e\\u0442\\u0432\\u0435\\u0442\\u0441\\u0442\\u0432\\u0438\\u044f \\u043f\\u043e \\u043e\\u0446\\u0435\\u043d\\u043e\\u0447\\u043d\\u043e\\u043c\\u0443 \\u0443\\u0440\\u043e\\u0432\\u043d\\u044e \\u0434\\u043e\\u0432\\u0435\\u0440\\u0438\\u044f. \\u0422\\u0440\\u0435\\u0431\\u043e\\u0432\\u0430\\u043d\\u0438\\u044f \\u043a \\u0441\\u043e\\u043e\\u0442\\u0432\\u0435\\u0442\\u0441\\u0442\\u0432\\u0438\\u044e 6 \\u0438\\u043b\\u0438 \\u0431\\u043e\\u043b\\u0435\\u0435 \\u0432\\u044b\\u0441\\u043e\\u043a\\u043e\\u043c\\u0443 \\u0443\\u0440\\u043e\\u0432\\u043d\\u044e \\u0434\\u043e\\u0432\\u0435\\u0440\\u0438\\u044f \\u043f\\u0440\\u0435\\u0434\\u044a\\u044f\\u0432\\u043b\\u044f\\u044e\\u0442\\u0441\\u044f \\u0442\\u043e\\u043b\\u044c\\u043a\\u043e \\u043a \\u0441\\u0435\\u0440\\u0442\\u0438\\u0444\\u0438\\u0446\\u0438\\u0440\\u043e\\u0432\\u0430\\u043d\\u043d\\u044b\\u043c \\u0421\\u0440\\u0417\\u0418, \\u0430 \\u0442\\u0430\\u043a\\u0436\\u0435 \\u043d\\u0435 \\u0432\\u0441\\u0442\\u0440\\u043e\\u0435\\u043d\\u043d\\u044b\\u043c \\u0432 \\u043e\\u0431\\u0449\\u0435\\u0441\\u0438\\u0441\\u0442\\u0435\\u043c\\u043d\\u043e\\u0435 \\u0438\\u043b\\u0438 \\u043f\\u0440\\u0438\\u043a\\u043b\\u0430\\u0434\\u043d\\u043e\\u0435 \\u041f\\u041e, \\u0442\\u0430\\u043a \\u043d\\u0430\\u0437\\u044b\\u0432\\u0430\\u0435\\u043c\\u044b\\u0435 \\u043d\\u0430\\u043b\\u043e\\u0436\\u0435\\u043d\\u043d\\u044b\\u0435 (\\u043f\\u0443\\u043d\\u043a\\u0442\\u044b\\u00a029 \\u0438 29.2 \\u0422\\u0440\\u0435\\u0431\\u043e\\u0432\\u0430\\u043d\\u0438\\u0439 \\u043a \\u0421\\u0411).\\u0422\\u0430\\u043a\\u0438\\u043c \\u043e\\u0431\\u0440\\u0430\\u0437\\u043e\\u043c, \\u0432 \\u0441\\u043b\\u0443\\u0447\\u0430\\u0435 \\u043f\\u0440\\u0438\\u043c\\u0435\\u043d\\u0435\\u043d\\u0438\\u044f \\u0432\\u0441\\u0442\\u0440\\u043e\\u0435\\u043d\\u043d\\u044b\\u0445 \\u0432 \\u043e\\u0431\\u0449\\u0435\\u0441\\u0438\\u0441\\u0442\\u0435\\u043c\\u043d\\u043e\\u0435 \\u0438\\u043b\\u0438 \\u043f\\u0440\\u0438\\u043a\\u043b\\u0430\\u0434\\u043d\\u043e\\u0435 \\u041f\\u041e \\u0444\\u0443\\u043d\\u043a\\u0446\\u0438\\u0439 \\u0431\\u0435\\u0437\\u043e\\u043f\\u0430\\u0441\\u043d\\u043e\\u0441\\u0442\\u0438, \\u043d\\u0435\\u043e\\u0431\\u0445\\u043e\\u0434\\u0438\\u043c\\u043e \\u043f\\u0440\\u043e\\u0432\\u0435\\u0441\\u0442\\u0438 \\u0432 \\u043e\\u0442\\u043d\\u043e\\u0448\\u0435\\u043d\\u0438\\u0438 \\u043d\\u0438\\u0445 \\u043e\\u0446\\u0435\\u043d\\u043a\\u0443 \\u043d\\u0430 \\u0441\\u043e\\u043e\\u0442\\u0432\\u0435\\u0442\\u0441\\u0442\\u0432\\u0438\\u0435 \\u0442\\u0440\\u0435\\u0431\\u043e\\u0432\\u0430\\u043d\\u0438\\u044f\\u043c \\u0431\\u0435\\u0437\\u043e\\u043f\\u0430\\u0441\\u043d\\u043e\\u0441\\u0442\\u0438 \\u0432 \\u0444\\u043e\\u0440\\u043c\\u0435 \\u0438\\u0441\\u043f\\u044b\\u0442\\u0430\\u043d\\u0438\\u0439 \\u0438\\u043b\\u0438 \\u043f\\u0440\\u0438\\u0435\\u043c\\u043a\\u0438, \\u043d\\u043e \\u043d\\u0435 \\u0442\\u0440\\u0435\\u0431\\u0443\\u0435\\u0442\\u0441\\u044f \\u043f\\u0440\\u043e\\u0432\\u0435\\u0434\\u0435\\u043d\\u0438\\u0435 \\u0434\\u043e\\u043f\\u043e\\u043b\\u043d\\u0438\\u0442\\u0435\\u043b\\u044c\\u043d\\u044b\\u0445 \\u043c\\u0435\\u0440\\u043e\\u043f\\u0440\\u0438\\u044f\\u0442\\u0438\\u0439, \\u043f\\u043e\\u0434\\u0442\\u0432\\u0435\\u0440\\u0436\\u0434\\u0430\\u044e\\u0449\\u0438\\u0445 \\u0441\\u043e\\u043e\\u0442\\u0432\\u0435\\u0442\\u0441\\u0442\\u0432\\u0438\\u0435 \\u0442\\u0430\\u043a\\u043e\\u0433\\u043e \\u0421\\u0440\\u0417\\u0418 \\u043f\\u043e \\u043e\\u0446\\u0435\\u043d\\u043e\\u0447\\u043d\\u043e\\u043c\\u0443 \\u0443\\u0440\\u043e\\u0432\\u043d\\u044e \\u0434\\u043e\\u0432\\u0435\\u0440\\u0438\\u044f.\"\n        ],\n        \"semantic_type\": \"\",\n        \"description\": \"\"\n      }\n    },\n    {\n      \"column\": \"LLM_Answer\",\n      \"properties\": {\n        \"dtype\": \"string\",\n        \"num_unique_values\": 3,\n        \"samples\": [\n          \"\\u0412 \\u0437\\u043d\\u0430\\u0447\\u0438\\u043c\\u043e\\u043c \\u043e\\u0431\\u044a\\u0435\\u043a\\u0442\\u0435 \\u043d\\u0435 \\u0434\\u043e\\u043f\\u0443\\u0441\\u043a\\u0430\\u0435\\u0442\\u0441\\u044f \\u043d\\u0430\\u043b\\u0438\\u0447\\u0438\\u0435 \\u0443\\u0434\\u0430\\u043b\\u0435\\u043d\\u043d\\u043e\\u0433\\u043e \\u0434\\u043e\\u0441\\u0442\\u0443\\u043f\\u0430 \\u043a \\u043f\\u0440\\u043e\\u0433\\u0440\\u0430\\u043c\\u043c\\u043d\\u044b\\u043c \\u0438 \\u043f\\u0440\\u043e\\u0433\\u0440\\u0430\\u043c\\u043c\\u043d\\u043e-\\u0430\\u043f\\u043f\\u0430\\u0440\\u0430\\u0442\\u043d\\u044b\\u043c \\u0441\\u0440\\u0435\\u0434\\u0441\\u0442\\u0432\\u0430\\u043c, \\u0432 \\u0442\\u043e\\u043c \\u0447\\u0438\\u0441\\u043b\\u0435 \\u0441\\u0440\\u0435\\u0434\\u0441\\u0442\\u0432\\u0430\\u043c \\u0437\\u0430\\u0449\\u0438\\u0442\\u044b \\u0438\\u043d\\u0444\\u043e\\u0440\\u043c\\u0430\\u0446\\u0438\\u0438, \\u0434\\u043b\\u044f \\u043e\\u0431\\u043d\\u043e\\u0432\\u043b\\u0435\\u043d\\u0438\\u044f \\u0438\\u043b\\u0438 \\u0443\\u043f\\u0440\\u0430\\u0432\\u043b\\u0435\\u043d\\u0438\\u044f \\u0441\\u043e \\u0441\\u0442\\u043e\\u0440\\u043e\\u043d\\u044b \\u043b\\u0438\\u0446, \\u043d\\u0435 \\u044f\\u0432\\u043b\\u044f\\u044e\\u0449\\u0438\\u0445\\u0441\\u044f \\u0440\\u0430\\u0431\\u043e\\u0442\\u043d\\u0438\\u043a\\u0430\\u043c\\u0438 \\u0441\\u0443\\u0431\\u044a\\u0435\\u043a\\u0442\\u0430 \\u043a\\u0440\\u0438\\u0442\\u0438\\u0447\\u0435\\u0441\\u043a\\u043e\\u0439 \\u0438\\u043d\\u0444\\u043e\\u0440\\u043c\\u0430\\u0446\\u0438\\u043e\\u043d\\u043d\\u043e\\u0439 \\u0438\\u043d\\u0444\\u0440\\u0430\\u0441\\u0442\\u0440\\u0443\\u043a\\u0442\\u0443\\u0440\\u044b.\",\n          \"\\u041c\\u043e\\u0434\\u0435\\u043b\\u0438\\u0440\\u043e\\u0432\\u0430\\u043d\\u0438\\u0435 \\u0443\\u0433\\u0440\\u043e\\u0437 \\u0434\\u043e\\u043b\\u0436\\u043d\\u043e \\u0432\\u044b\\u043f\\u043e\\u043b\\u043d\\u044f\\u0442\\u044c\\u0441\\u044f \\u0434\\u043e \\u0440\\u0430\\u0437\\u0440\\u0430\\u0431\\u043e\\u0442\\u043a\\u0438 \\u0442\\u0435\\u0445\\u043d\\u0438\\u0447\\u0435\\u0441\\u043a\\u043e\\u0433\\u043e \\u0437\\u0430\\u0434\\u0430\\u043d\\u0438\\u044f \\u043d\\u0430 \\u0441\\u0438\\u0441\\u0442\\u0435\\u043c\\u0443 \\u043e\\u0431\\u0435\\u0441\\u043f\\u0435\\u0447\\u0435\\u043d\\u0438\\u044f \\u0438\\u043d\\u0444\\u043e\\u0440\\u043c\\u0430\\u0446\\u0438\\u043e\\u043d\\u043d\\u043e\\u0439 \\u0431\\u0435\\u0437\\u043e\\u043f\\u0430\\u0441\\u043d\\u043e\\u0441\\u0442\\u0438 (\\u0421\\u041e\\u0418\\u0411).\",\n          \"\\u041d\\u0435 \\u0437\\u043d\\u0430\\u044e\"\n        ],\n        \"semantic_type\": \"\",\n        \"description\": \"\"\n      }\n    },\n    {\n      \"column\": \"Precision\",\n      \"properties\": {\n        \"dtype\": \"string\",\n        \"num_unique_values\": 3,\n        \"samples\": [\n          \"tensor(0.7262)\",\n          \"tensor(0.7115)\",\n          \"tensor(0.5724)\"\n        ],\n        \"semantic_type\": \"\",\n        \"description\": \"\"\n      }\n    },\n    {\n      \"column\": \"Recall\",\n      \"properties\": {\n        \"dtype\": \"string\",\n        \"num_unique_values\": 3,\n        \"samples\": [\n          \"tensor(0.6022)\",\n          \"tensor(0.6017)\",\n          \"tensor(0.4781)\"\n        ],\n        \"semantic_type\": \"\",\n        \"description\": \"\"\n      }\n    },\n    {\n      \"column\": \"F1\",\n      \"properties\": {\n        \"dtype\": \"string\",\n        \"num_unique_values\": 3,\n        \"samples\": [\n          \"tensor(0.6584)\",\n          \"tensor(0.6520)\",\n          \"tensor(0.5210)\"\n        ],\n        \"semantic_type\": \"\",\n        \"description\": \"\"\n      }\n    }\n  ]\n}"
            }
          },
          "metadata": {},
          "execution_count": 30
        }
      ]
    },
    {
      "cell_type": "code",
      "source": [
        "#На что опирался\n",
        "from torchmetrics.functional.text.bert import bert_score\n",
        "preds = [\"hello there\", \"general kenobi\", \"я был здесь\"]\n",
        "target = [\"hello there\", \"master kenobi\", \"я был тут\"]\n",
        "q = bert_score(preds, target)\n",
        "q"
      ],
      "metadata": {
        "colab": {
          "base_uri": "https://localhost:8080/"
        },
        "id": "2ShKNdIsjfry",
        "outputId": "3fb4f020-a29f-4bb9-ad36-c537872a7a1c"
      },
      "execution_count": 63,
      "outputs": [
        {
          "output_type": "stream",
          "name": "stderr",
          "text": [
            "/usr/local/lib/python3.10/dist-packages/torchmetrics/utilities/prints.py:43: UserWarning: The argument `model_name_or_path` was not specified while it is required when default `transformers` model are used.It is, therefore, used the default recommended model - roberta-large.\n",
            "  warnings.warn(*args, **kwargs)  # noqa: B028\n",
            "Some weights of RobertaModel were not initialized from the model checkpoint at roberta-large and are newly initialized: ['roberta.pooler.dense.bias', 'roberta.pooler.dense.weight']\n",
            "You should probably TRAIN this model on a down-stream task to be able to use it for predictions and inference.\n"
          ]
        },
        {
          "output_type": "execute_result",
          "data": {
            "text/plain": [
              "{'precision': tensor([1.0000, 0.9961, 0.9787]),\n",
              " 'recall': tensor([1.0000, 0.9961, 0.9832]),\n",
              " 'f1': tensor([1.0000, 0.9961, 0.9809])}"
            ]
          },
          "metadata": {},
          "execution_count": 63
        }
      ]
    }
  ]
}