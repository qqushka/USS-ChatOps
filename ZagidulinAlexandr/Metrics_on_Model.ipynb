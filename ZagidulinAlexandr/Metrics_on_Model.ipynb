{
  "nbformat": 4,
  "nbformat_minor": 0,
  "metadata": {
    "colab": {
      "provenance": []
    },
    "kernelspec": {
      "name": "python3",
      "display_name": "Python 3"
    },
    "language_info": {
      "name": "python"
    },
    "widgets": {
      "application/vnd.jupyter.widget-state+json": {
        "923903d79ff6446f8b761dfeda078f2d": {
          "model_module": "@jupyter-widgets/controls",
          "model_name": "HBoxModel",
          "model_module_version": "1.5.0",
          "state": {
            "_dom_classes": [],
            "_model_module": "@jupyter-widgets/controls",
            "_model_module_version": "1.5.0",
            "_model_name": "HBoxModel",
            "_view_count": null,
            "_view_module": "@jupyter-widgets/controls",
            "_view_module_version": "1.5.0",
            "_view_name": "HBoxView",
            "box_style": "",
            "children": [
              "IPY_MODEL_d5fc8f27b42f472ebe8c364f01539d71",
              "IPY_MODEL_792fd3f49a5b41edbc0fd0304bc1676c",
              "IPY_MODEL_6edfa0a748204328ba6169629135f59b"
            ],
            "layout": "IPY_MODEL_b39bea4698854e12a3be630e0733c0ce"
          }
        },
        "d5fc8f27b42f472ebe8c364f01539d71": {
          "model_module": "@jupyter-widgets/controls",
          "model_name": "HTMLModel",
          "model_module_version": "1.5.0",
          "state": {
            "_dom_classes": [],
            "_model_module": "@jupyter-widgets/controls",
            "_model_module_version": "1.5.0",
            "_model_name": "HTMLModel",
            "_view_count": null,
            "_view_module": "@jupyter-widgets/controls",
            "_view_module_version": "1.5.0",
            "_view_name": "HTMLView",
            "description": "",
            "description_tooltip": null,
            "layout": "IPY_MODEL_d6b9aaf82f7648a08f7925445699b6c5",
            "placeholder": "​",
            "style": "IPY_MODEL_486425a8b94f4e8089d45db61f0b5068",
            "value": "Downloading builder script: 100%"
          }
        },
        "792fd3f49a5b41edbc0fd0304bc1676c": {
          "model_module": "@jupyter-widgets/controls",
          "model_name": "FloatProgressModel",
          "model_module_version": "1.5.0",
          "state": {
            "_dom_classes": [],
            "_model_module": "@jupyter-widgets/controls",
            "_model_module_version": "1.5.0",
            "_model_name": "FloatProgressModel",
            "_view_count": null,
            "_view_module": "@jupyter-widgets/controls",
            "_view_module_version": "1.5.0",
            "_view_name": "ProgressView",
            "bar_style": "success",
            "description": "",
            "description_tooltip": null,
            "layout": "IPY_MODEL_e6866b0752c243b9babb572dded6c5db",
            "max": 9991,
            "min": 0,
            "orientation": "horizontal",
            "style": "IPY_MODEL_7d7243924cd9485da27f81e9dc877558",
            "value": 9991
          }
        },
        "6edfa0a748204328ba6169629135f59b": {
          "model_module": "@jupyter-widgets/controls",
          "model_name": "HTMLModel",
          "model_module_version": "1.5.0",
          "state": {
            "_dom_classes": [],
            "_model_module": "@jupyter-widgets/controls",
            "_model_module_version": "1.5.0",
            "_model_name": "HTMLModel",
            "_view_count": null,
            "_view_module": "@jupyter-widgets/controls",
            "_view_module_version": "1.5.0",
            "_view_name": "HTMLView",
            "description": "",
            "description_tooltip": null,
            "layout": "IPY_MODEL_4c0e346969af4df1a1e696542f6acfa5",
            "placeholder": "​",
            "style": "IPY_MODEL_5e352db0cfc1491a911fb81e8d80582a",
            "value": " 9.99k/9.99k [00:00&lt;00:00, 564kB/s]"
          }
        },
        "b39bea4698854e12a3be630e0733c0ce": {
          "model_module": "@jupyter-widgets/base",
          "model_name": "LayoutModel",
          "model_module_version": "1.2.0",
          "state": {
            "_model_module": "@jupyter-widgets/base",
            "_model_module_version": "1.2.0",
            "_model_name": "LayoutModel",
            "_view_count": null,
            "_view_module": "@jupyter-widgets/base",
            "_view_module_version": "1.2.0",
            "_view_name": "LayoutView",
            "align_content": null,
            "align_items": null,
            "align_self": null,
            "border": null,
            "bottom": null,
            "display": null,
            "flex": null,
            "flex_flow": null,
            "grid_area": null,
            "grid_auto_columns": null,
            "grid_auto_flow": null,
            "grid_auto_rows": null,
            "grid_column": null,
            "grid_gap": null,
            "grid_row": null,
            "grid_template_areas": null,
            "grid_template_columns": null,
            "grid_template_rows": null,
            "height": null,
            "justify_content": null,
            "justify_items": null,
            "left": null,
            "margin": null,
            "max_height": null,
            "max_width": null,
            "min_height": null,
            "min_width": null,
            "object_fit": null,
            "object_position": null,
            "order": null,
            "overflow": null,
            "overflow_x": null,
            "overflow_y": null,
            "padding": null,
            "right": null,
            "top": null,
            "visibility": null,
            "width": null
          }
        },
        "d6b9aaf82f7648a08f7925445699b6c5": {
          "model_module": "@jupyter-widgets/base",
          "model_name": "LayoutModel",
          "model_module_version": "1.2.0",
          "state": {
            "_model_module": "@jupyter-widgets/base",
            "_model_module_version": "1.2.0",
            "_model_name": "LayoutModel",
            "_view_count": null,
            "_view_module": "@jupyter-widgets/base",
            "_view_module_version": "1.2.0",
            "_view_name": "LayoutView",
            "align_content": null,
            "align_items": null,
            "align_self": null,
            "border": null,
            "bottom": null,
            "display": null,
            "flex": null,
            "flex_flow": null,
            "grid_area": null,
            "grid_auto_columns": null,
            "grid_auto_flow": null,
            "grid_auto_rows": null,
            "grid_column": null,
            "grid_gap": null,
            "grid_row": null,
            "grid_template_areas": null,
            "grid_template_columns": null,
            "grid_template_rows": null,
            "height": null,
            "justify_content": null,
            "justify_items": null,
            "left": null,
            "margin": null,
            "max_height": null,
            "max_width": null,
            "min_height": null,
            "min_width": null,
            "object_fit": null,
            "object_position": null,
            "order": null,
            "overflow": null,
            "overflow_x": null,
            "overflow_y": null,
            "padding": null,
            "right": null,
            "top": null,
            "visibility": null,
            "width": null
          }
        },
        "486425a8b94f4e8089d45db61f0b5068": {
          "model_module": "@jupyter-widgets/controls",
          "model_name": "DescriptionStyleModel",
          "model_module_version": "1.5.0",
          "state": {
            "_model_module": "@jupyter-widgets/controls",
            "_model_module_version": "1.5.0",
            "_model_name": "DescriptionStyleModel",
            "_view_count": null,
            "_view_module": "@jupyter-widgets/base",
            "_view_module_version": "1.2.0",
            "_view_name": "StyleView",
            "description_width": ""
          }
        },
        "e6866b0752c243b9babb572dded6c5db": {
          "model_module": "@jupyter-widgets/base",
          "model_name": "LayoutModel",
          "model_module_version": "1.2.0",
          "state": {
            "_model_module": "@jupyter-widgets/base",
            "_model_module_version": "1.2.0",
            "_model_name": "LayoutModel",
            "_view_count": null,
            "_view_module": "@jupyter-widgets/base",
            "_view_module_version": "1.2.0",
            "_view_name": "LayoutView",
            "align_content": null,
            "align_items": null,
            "align_self": null,
            "border": null,
            "bottom": null,
            "display": null,
            "flex": null,
            "flex_flow": null,
            "grid_area": null,
            "grid_auto_columns": null,
            "grid_auto_flow": null,
            "grid_auto_rows": null,
            "grid_column": null,
            "grid_gap": null,
            "grid_row": null,
            "grid_template_areas": null,
            "grid_template_columns": null,
            "grid_template_rows": null,
            "height": null,
            "justify_content": null,
            "justify_items": null,
            "left": null,
            "margin": null,
            "max_height": null,
            "max_width": null,
            "min_height": null,
            "min_width": null,
            "object_fit": null,
            "object_position": null,
            "order": null,
            "overflow": null,
            "overflow_x": null,
            "overflow_y": null,
            "padding": null,
            "right": null,
            "top": null,
            "visibility": null,
            "width": null
          }
        },
        "7d7243924cd9485da27f81e9dc877558": {
          "model_module": "@jupyter-widgets/controls",
          "model_name": "ProgressStyleModel",
          "model_module_version": "1.5.0",
          "state": {
            "_model_module": "@jupyter-widgets/controls",
            "_model_module_version": "1.5.0",
            "_model_name": "ProgressStyleModel",
            "_view_count": null,
            "_view_module": "@jupyter-widgets/base",
            "_view_module_version": "1.2.0",
            "_view_name": "StyleView",
            "bar_color": null,
            "description_width": ""
          }
        },
        "4c0e346969af4df1a1e696542f6acfa5": {
          "model_module": "@jupyter-widgets/base",
          "model_name": "LayoutModel",
          "model_module_version": "1.2.0",
          "state": {
            "_model_module": "@jupyter-widgets/base",
            "_model_module_version": "1.2.0",
            "_model_name": "LayoutModel",
            "_view_count": null,
            "_view_module": "@jupyter-widgets/base",
            "_view_module_version": "1.2.0",
            "_view_name": "LayoutView",
            "align_content": null,
            "align_items": null,
            "align_self": null,
            "border": null,
            "bottom": null,
            "display": null,
            "flex": null,
            "flex_flow": null,
            "grid_area": null,
            "grid_auto_columns": null,
            "grid_auto_flow": null,
            "grid_auto_rows": null,
            "grid_column": null,
            "grid_gap": null,
            "grid_row": null,
            "grid_template_areas": null,
            "grid_template_columns": null,
            "grid_template_rows": null,
            "height": null,
            "justify_content": null,
            "justify_items": null,
            "left": null,
            "margin": null,
            "max_height": null,
            "max_width": null,
            "min_height": null,
            "min_width": null,
            "object_fit": null,
            "object_position": null,
            "order": null,
            "overflow": null,
            "overflow_x": null,
            "overflow_y": null,
            "padding": null,
            "right": null,
            "top": null,
            "visibility": null,
            "width": null
          }
        },
        "5e352db0cfc1491a911fb81e8d80582a": {
          "model_module": "@jupyter-widgets/controls",
          "model_name": "DescriptionStyleModel",
          "model_module_version": "1.5.0",
          "state": {
            "_model_module": "@jupyter-widgets/controls",
            "_model_module_version": "1.5.0",
            "_model_name": "DescriptionStyleModel",
            "_view_count": null,
            "_view_module": "@jupyter-widgets/base",
            "_view_module_version": "1.2.0",
            "_view_name": "StyleView",
            "description_width": ""
          }
        }
      }
    }
  },
  "cells": [
    {
      "cell_type": "code",
      "source": [
        "!pip install gigachain -q\n",
        "!pip install sentence-transformers -q\n",
        "!pip install faiss-cpu -q\n",
        "!pip install gigachain_community -q\n",
        "!pip install gigachain-core -q\n",
        "!pip install pypdf -q\n",
        "!pip install nltk -q\n",
        "!pip install rouge-score -q\n",
        "!pip install transformers datasets -q\n",
        "!pip install torchmetrics -q\n",
        "!pip install evaluate -q\n",
        "!pip install sacrebleu -q"
      ],
      "metadata": {
        "id": "mYnyWoixWSve"
      },
      "execution_count": null,
      "outputs": []
    },
    {
      "cell_type": "code",
      "execution_count": null,
      "metadata": {
        "id": "sgl8bk6r36cp"
      },
      "outputs": [],
      "source": [
        "import pandas as pd"
      ]
    },
    {
      "cell_type": "code",
      "source": [
        "questions_df = pd.read_excel(\"q_data.xlsx\").Question\n",
        "answers_df = pd.read_excel(\"q_data.xlsx\").Answer\n",
        "llm_answers_df = pd.read_excel(\"answers_ready.xlsx\").Answer"
      ],
      "metadata": {
        "id": "gSOFz6lR4Dyi"
      },
      "execution_count": null,
      "outputs": []
    },
    {
      "cell_type": "code",
      "source": [
        "llm_answers = []\n",
        "for e in llm_answers_df:\n",
        "  llm_answers.append(e)\n",
        "\n",
        "answers = []\n",
        "for e in answers_df:\n",
        "  answers.append(e)\n",
        "\n",
        "questions = []\n",
        "for e in questions_df:\n",
        "  questions.append(e)"
      ],
      "metadata": {
        "id": "CLji4nTU4OjI"
      },
      "execution_count": null,
      "outputs": []
    },
    {
      "cell_type": "markdown",
      "source": [
        "#BLEU"
      ],
      "metadata": {
        "id": "kjIiKpzCiG5i"
      }
    },
    {
      "cell_type": "code",
      "source": [
        "#Импортируем функцию вычисления BLEU\n",
        "from nltk.translate.bleu_score import corpus_bleu\n",
        "\n",
        "#Подготовка данных в необходимую форму для вычесления метрики BLEU (приведение к токенизированному виду)\n",
        "translations = []\n",
        "for e in range(len(answers)):\n",
        "  translations.append(answers[e].split())\n",
        "\n",
        "#Оборачиваем ответы в необходимую форму для вычесления метрики BLEU\n",
        "references = [[[ref]] for ref in llm_answers]\n",
        "\n",
        "#Костыльное решение, такое, чтобы привелось в необходумую форму\n",
        "references_list = []\n",
        "i = 0\n",
        "for e in range(len(references)):\n",
        "  references_list.append([])\n",
        "  references_list[i].append(references[e][0][0].split())\n",
        "  i = i + 1\n",
        "\n",
        "#Вычисляем BLEU Score\n",
        "bleu_score_corpus = corpus_bleu(references_list, translations)\n",
        "print(\"Corpus BLEU Score: \", bleu_score_corpus)"
      ],
      "metadata": {
        "id": "g4pnqwyx-NbO"
      },
      "execution_count": null,
      "outputs": []
    },
    {
      "cell_type": "markdown",
      "source": [
        "#Rouge"
      ],
      "metadata": {
        "id": "X5ieelRtiI1D"
      }
    },
    {
      "cell_type": "code",
      "source": [
        "from rouge_score import rouge_scorer"
      ],
      "metadata": {
        "id": "GqkYq4Kx0um5"
      },
      "execution_count": null,
      "outputs": []
    },
    {
      "cell_type": "code",
      "source": [
        "r_scorer = rouge_scorer.RougeScorer(['rouge1', 'rouge2', 'rougeL'], use_stemmer=True)"
      ],
      "metadata": {
        "id": "JdbDUmeR0xQO"
      },
      "execution_count": null,
      "outputs": []
    },
    {
      "cell_type": "code",
      "source": [
        "df = pd.DataFrame(columns=['Question', 'Answer', 'LLM_Answer', 'rouge1', 'rouge2', 'rougeL'])\n",
        "for e in range(len(questions)):\n",
        "  candidate_summary = llm_answers[e]\n",
        "  reference_summary = answers[e]\n",
        "  r_scores = r_scorer.score(reference_summary, candidate_summary)\n",
        "  new_row = {'Question': questions[e], 'Answer': answers[e], 'LLM_Answer': llm_answers[e], 'rouge1': r_scores['rouge1'], 'rouge2': r_scores['rouge2'], 'rougeL': r_scores['rougeL']}\n",
        "  df = pd.concat([df, pd.DataFrame([new_row])], ignore_index=True)"
      ],
      "metadata": {
        "id": "Qul5IZRK4HTG"
      },
      "execution_count": null,
      "outputs": []
    },
    {
      "cell_type": "code",
      "source": [
        "df"
      ],
      "metadata": {
        "id": "eY709wKg_3NS"
      },
      "execution_count": null,
      "outputs": []
    },
    {
      "cell_type": "markdown",
      "source": [
        "#Семантическая похожесть"
      ],
      "metadata": {
        "id": "arcWL2VBiKgy"
      }
    },
    {
      "cell_type": "code",
      "source": [
        "from transformers import AutoTokenizer, AutoModel\n",
        "import torch\n",
        "from sklearn.metrics.pairwise import cosine_similarity"
      ],
      "metadata": {
        "id": "F7LDlhR0EJTn"
      },
      "execution_count": null,
      "outputs": []
    },
    {
      "cell_type": "code",
      "source": [
        "# Load the BERT tokenizer and model\n",
        "tokenizer = AutoTokenizer.from_pretrained(\"deepvk/USER-bge-m3\")\n",
        "model = AutoModel.from_pretrained(\"deepvk/USER-bge-m3\")"
      ],
      "metadata": {
        "id": "KbAvNun-EgQH"
      },
      "execution_count": null,
      "outputs": []
    },
    {
      "cell_type": "code",
      "source": [
        "# Example sentences (already preprocessed)\n",
        "tokens_answer = []\n",
        "for e in range(len(answers)):\n",
        "  tokens_answer.append(answers[e].split())\n",
        "\n",
        "tokens_message = []\n",
        "for e in range(len(llm_answers)):\n",
        "  tokens_message.append(llm_answers[e].split())"
      ],
      "metadata": {
        "collapsed": true,
        "id": "_4IJYo65EgQI"
      },
      "execution_count": null,
      "outputs": []
    },
    {
      "cell_type": "code",
      "source": [
        "# Convert tokens to input IDs\n",
        "input_ids_messages = []\n",
        "input_ids_answers = []\n",
        "\n",
        "for e in range(len(tokens_answer)):\n",
        "  input_ids_messages.append(torch.tensor(tokenizer.convert_tokens_to_ids(tokens_message[e])).unsqueeze(0))  # Batch size 1\n",
        "  input_ids_answers.append(torch.tensor(tokenizer.convert_tokens_to_ids(tokens_answer[e])).unsqueeze(0))  # Batch size 1"
      ],
      "metadata": {
        "id": "VikAGKZpEgQI"
      },
      "execution_count": null,
      "outputs": []
    },
    {
      "cell_type": "code",
      "source": [
        "# Obtain the BERT embeddings\n",
        "outputs_messages = []\n",
        "outputs_answers = []\n",
        "embeddings_messages = []\n",
        "embeddings_answers = []\n",
        "with torch.no_grad():\n",
        "    for e in range(len(tokens_answer)):\n",
        "      outputs_messages.append(model(input_ids_messages[e]))\n",
        "      outputs_answers.append(model(input_ids_answers[e]))\n",
        "      embeddings_messages.append(outputs_messages[e].last_hidden_state[:, 0, :])  # [CLS] token\n",
        "      embeddings_answers.append(outputs_answers[e].last_hidden_state[:, 0, :])  # [CLS] token"
      ],
      "metadata": {
        "id": "EjSeiT73EgQI"
      },
      "execution_count": null,
      "outputs": []
    },
    {
      "cell_type": "code",
      "source": [
        "# Calculate similarity\n",
        "similarity_score = []\n",
        "i = 0\n",
        "average_similarity_score = 0\n",
        "df_sim_score = pd.DataFrame(columns=['Answer', 'LLM_Answer', 'Similarity Score'])\n",
        "for e in range(len(tokens_answer)):\n",
        "  similarity_score.append(cosine_similarity(embeddings_messages[e], embeddings_answers[e]))\n",
        "  average_similarity_score += similarity_score[e]\n",
        "  i +=1\n",
        "  new_row = {'Answer': answers[e], 'LLM_Answer': llm_answers[e], 'Similarity Score': similarity_score[e]}\n",
        "  df_sim_score = pd.concat([df_sim_score, pd.DataFrame([new_row])], ignore_index=True)\n",
        "print(\"Average Similarity Score = \", average_similarity_score / i)\n",
        "df_sim_score"
      ],
      "metadata": {
        "id": "_anMaa-SEgQI"
      },
      "execution_count": null,
      "outputs": []
    },
    {
      "cell_type": "markdown",
      "source": [
        "#BERTScore"
      ],
      "metadata": {
        "id": "B0IAJ-0diPJp"
      }
    },
    {
      "cell_type": "code",
      "source": [
        "from torchmetrics.functional.text.bert import bert_score\n",
        "preds = llm_answers\n",
        "target = answers\n",
        "df_BERTScore = pd.DataFrame(columns=['Answer', 'LLM_Answer', 'Precision', 'Recall', 'F1'])\n",
        "b_score = bert_score(preds=preds , target=target, model_name_or_path=\"deepvk/USER-bge-m3\")\n",
        "for e in range(len(llm_answers)):\n",
        "  new_row = {'Answer': answers[e], 'LLM_Answer': llm_answers[e], 'Precision': b_score['precision'][e], 'Recall': b_score['recall'][e], 'F1': b_score['f1'][e]}\n",
        "  df_BERTScore = pd.concat([df_BERTScore, pd.DataFrame([new_row])], ignore_index=True)\n",
        "df_BERTScore"
      ],
      "metadata": {
        "id": "FNZ7NgGckMAN"
      },
      "execution_count": null,
      "outputs": []
    },
    {
      "cell_type": "markdown",
      "source": [
        "#METEOR"
      ],
      "metadata": {
        "id": "RxGLI2q2iW6Z"
      }
    },
    {
      "cell_type": "code",
      "source": [
        "import evaluate"
      ],
      "metadata": {
        "id": "06_qFQlZg9ho"
      },
      "execution_count": null,
      "outputs": []
    },
    {
      "cell_type": "code",
      "source": [
        "meteor = evaluate.load(\"meteor\")"
      ],
      "metadata": {
        "id": "TqjZihesfRPO"
      },
      "execution_count": null,
      "outputs": []
    },
    {
      "cell_type": "code",
      "source": [
        "meteor_res = []\n",
        "meteor_res_avg = 0\n",
        "i = 0\n",
        "df_meteor = pd.DataFrame(columns=['Answer', 'LLM_Answer', 'meteor_results'])\n",
        "\n",
        "predictions = [[pred] for pred in llm_answers]\n",
        "references = [[ref] for ref in answers]\n",
        "\n",
        "for e in range(len(answers)):\n",
        "  meteor_res.append(meteor.compute(predictions=predictions[e], references=references[e]))\n",
        "  meteor_res_avg += meteor_res[e]['meteor']\n",
        "  new_row = {'Answer': answers[e], 'LLM_Answer': llm_answers[e], 'meteor_results': meteor_res[e]}\n",
        "  df_meteor = pd.concat([df_meteor, pd.DataFrame([new_row])], ignore_index=True)\n",
        "  i = i + 1\n",
        "\n",
        "meteor_res_avg = meteor_res_avg / i\n",
        "print(meteor_res_avg)\n",
        "df_meteor"
      ],
      "metadata": {
        "id": "MOvsywjMgn0u"
      },
      "execution_count": null,
      "outputs": []
    },
    {
      "cell_type": "markdown",
      "source": [
        "#TER"
      ],
      "metadata": {
        "id": "cFFpuv5tia5J"
      }
    },
    {
      "cell_type": "code",
      "source": [
        "import sacrebleu"
      ],
      "metadata": {
        "id": "x4eky8USnTsK"
      },
      "execution_count": null,
      "outputs": []
    },
    {
      "cell_type": "code",
      "source": [
        "ter = evaluate.load(\"ter\")"
      ],
      "metadata": {
        "id": "O1AqyA11nJGu",
        "colab": {
          "base_uri": "https://localhost:8080/",
          "height": 49,
          "referenced_widgets": [
            "923903d79ff6446f8b761dfeda078f2d",
            "d5fc8f27b42f472ebe8c364f01539d71",
            "792fd3f49a5b41edbc0fd0304bc1676c",
            "6edfa0a748204328ba6169629135f59b",
            "b39bea4698854e12a3be630e0733c0ce",
            "d6b9aaf82f7648a08f7925445699b6c5",
            "486425a8b94f4e8089d45db61f0b5068",
            "e6866b0752c243b9babb572dded6c5db",
            "7d7243924cd9485da27f81e9dc877558",
            "4c0e346969af4df1a1e696542f6acfa5",
            "5e352db0cfc1491a911fb81e8d80582a"
          ]
        },
        "outputId": "88df73f0-30b2-4982-e1dd-c3b39b03965a"
      },
      "execution_count": null,
      "outputs": [
        {
          "output_type": "display_data",
          "data": {
            "text/plain": [
              "Downloading builder script:   0%|          | 0.00/9.99k [00:00<?, ?B/s]"
            ],
            "application/vnd.jupyter.widget-view+json": {
              "version_major": 2,
              "version_minor": 0,
              "model_id": "923903d79ff6446f8b761dfeda078f2d"
            }
          },
          "metadata": {}
        }
      ]
    },
    {
      "cell_type": "code",
      "source": [
        "ref = [[ref] for ref in answers]\n",
        "results = ter.compute(predictions=llm_answers,\n",
        "                        references=ref,\n",
        "                        case_sensitive=True)\n",
        "print(results)"
      ],
      "metadata": {
        "id": "iWMCW6eCq3jK"
      },
      "execution_count": null,
      "outputs": []
    },
    {
      "cell_type": "markdown",
      "source": [
        "#chrF, chrF++"
      ],
      "metadata": {
        "id": "CgxjZhOvidjD"
      }
    },
    {
      "cell_type": "code",
      "source": [
        "import evaluate"
      ],
      "metadata": {
        "id": "sb4-2lQhuLlH"
      },
      "execution_count": null,
      "outputs": []
    },
    {
      "cell_type": "code",
      "source": [
        "ref = [[ref] for ref in answers]\n",
        "chrf = evaluate.load(\"chrf\")\n",
        "results = chrf.compute(predictions=llm_answers, references=ref)\n",
        "print(results)"
      ],
      "metadata": {
        "id": "kJI2zzVDtYit"
      },
      "execution_count": null,
      "outputs": []
    }
  ]
}